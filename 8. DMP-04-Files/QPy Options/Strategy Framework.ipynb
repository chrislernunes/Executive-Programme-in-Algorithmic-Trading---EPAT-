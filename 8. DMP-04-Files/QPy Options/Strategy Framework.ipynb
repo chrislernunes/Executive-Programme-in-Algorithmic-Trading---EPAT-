{
 "cells": [
  {
   "cell_type": "markdown",
   "metadata": {},
   "source": [
    "# Notebook Instructions\n",
    "<i>You can run the notebook document sequentially (one cell a time) by pressing <b> shift + enter</b>. While a cell is running, a [*] will display on the left. When it has been run, a number will display indicating the order in which it was run in the notebook [8].</i>\n",
    "\n",
    "<i>Enter edit mode by pressing <b>`Enter`</b> or using the mouse to click on a cell's editor area. Edit mode is indicated by a green cell border and a prompt showing in the editor area.</i>"
   ]
  },
  {
   "cell_type": "markdown",
   "metadata": {},
   "source": [
    "## Options Trading Strategy\n",
    "Strategy: Short straddle before earnings announcement and square off after that."
   ]
  },
  {
   "cell_type": "markdown",
   "metadata": {},
   "source": [
    "### Define instrument name, earnings date, and strike difference"
   ]
  },
  {
   "cell_type": "code",
   "execution_count": 1,
   "metadata": {},
   "outputs": [],
   "source": [
    "instrument_name = 'INFY'\n",
    "\n",
    "strike_difference = 20\n",
    "\n",
    "from datetime import date, timedelta\n",
    "earnings_date = date(2018,1,12)"
   ]
  },
  {
   "cell_type": "markdown",
   "metadata": {},
   "source": [
    "### Set start and end date"
   ]
  },
  {
   "cell_type": "code",
   "execution_count": 2,
   "metadata": {},
   "outputs": [
    {
     "name": "stdout",
     "output_type": "stream",
     "text": [
      "2018-01-12\n",
      "2018-01-15\n"
     ]
    }
   ],
   "source": [
    "start_date = earnings_date - timedelta(days=0)\n",
    "end_date = earnings_date + timedelta(days=3)\n",
    "\n",
    "print (start_date)\n",
    "print (end_date)"
   ]
  },
  {
   "cell_type": "markdown",
   "metadata": {},
   "source": [
    "### Define ATM strike price"
   ]
  },
  {
   "cell_type": "code",
   "execution_count": 3,
   "metadata": {},
   "outputs": [
    {
     "data": {
      "text/plain": [
       "1080.0"
      ]
     },
     "execution_count": 3,
     "metadata": {},
     "output_type": "execute_result"
    }
   ],
   "source": [
    "from data import get_stock_data\n",
    "import numpy as np\n",
    "close_price = get_stock_data(instrument_name,start_date,start_date).Close.values\n",
    "atm_strike_price = np.round(close_price/strike_difference,0)[0]*strike_difference\n",
    "atm_strike_price"
   ]
  },
  {
   "cell_type": "markdown",
   "metadata": {},
   "source": [
    "### Set expiry date "
   ]
  },
  {
   "cell_type": "code",
   "execution_count": 4,
   "metadata": {},
   "outputs": [
    {
     "name": "stdout",
     "output_type": "stream",
     "text": [
      "building dictionary\n"
     ]
    },
    {
     "data": {
      "text/plain": [
       "datetime.date(2018, 1, 25)"
      ]
     },
     "execution_count": 4,
     "metadata": {},
     "output_type": "execute_result"
    }
   ],
   "source": [
    "from nsepy.derivatives import get_expiry_date\n",
    "expiry_date = get_expiry_date(year=end_date.year, month=end_date.month)\n",
    "expiry_date"
   ]
  },
  {
   "cell_type": "markdown",
   "metadata": {},
   "source": [
    "### Fetch Data"
   ]
  },
  {
   "cell_type": "code",
   "execution_count": 5,
   "metadata": {},
   "outputs": [
    {
     "data": {
      "text/html": [
       "<div>\n",
       "<style scoped>\n",
       "    .dataframe tbody tr th:only-of-type {\n",
       "        vertical-align: middle;\n",
       "    }\n",
       "\n",
       "    .dataframe tbody tr th {\n",
       "        vertical-align: top;\n",
       "    }\n",
       "\n",
       "    .dataframe thead th {\n",
       "        text-align: right;\n",
       "    }\n",
       "</style>\n",
       "<table border=\"1\" class=\"dataframe\">\n",
       "  <thead>\n",
       "    <tr style=\"text-align: right;\">\n",
       "      <th></th>\n",
       "      <th>Symbol</th>\n",
       "      <th>Expiry</th>\n",
       "      <th>Option Type</th>\n",
       "      <th>Strike Price</th>\n",
       "      <th>Open</th>\n",
       "      <th>High</th>\n",
       "      <th>Low</th>\n",
       "      <th>Close</th>\n",
       "      <th>Last</th>\n",
       "      <th>Settle Price</th>\n",
       "      <th>Number of Contracts</th>\n",
       "      <th>Turnover</th>\n",
       "      <th>Premium Turnover</th>\n",
       "      <th>Open Interest</th>\n",
       "      <th>Change in OI</th>\n",
       "      <th>Underlying</th>\n",
       "    </tr>\n",
       "    <tr>\n",
       "      <th>Date</th>\n",
       "      <th></th>\n",
       "      <th></th>\n",
       "      <th></th>\n",
       "      <th></th>\n",
       "      <th></th>\n",
       "      <th></th>\n",
       "      <th></th>\n",
       "      <th></th>\n",
       "      <th></th>\n",
       "      <th></th>\n",
       "      <th></th>\n",
       "      <th></th>\n",
       "      <th></th>\n",
       "      <th></th>\n",
       "      <th></th>\n",
       "      <th></th>\n",
       "    </tr>\n",
       "  </thead>\n",
       "  <tbody>\n",
       "    <tr>\n",
       "      <th>2018-01-12</th>\n",
       "      <td>INFY</td>\n",
       "      <td>2018-01-25</td>\n",
       "      <td>CE</td>\n",
       "      <td>1080.0</td>\n",
       "      <td>26.85</td>\n",
       "      <td>30.45</td>\n",
       "      <td>22.0</td>\n",
       "      <td>24.2</td>\n",
       "      <td>23.0</td>\n",
       "      <td>24.2</td>\n",
       "      <td>3872</td>\n",
       "      <td>2.567442e+09</td>\n",
       "      <td>58386000.0</td>\n",
       "      <td>819000</td>\n",
       "      <td>149400</td>\n",
       "      <td>1078.45</td>\n",
       "    </tr>\n",
       "    <tr>\n",
       "      <th>2018-01-15</th>\n",
       "      <td>INFY</td>\n",
       "      <td>2018-01-25</td>\n",
       "      <td>CE</td>\n",
       "      <td>1080.0</td>\n",
       "      <td>22.10</td>\n",
       "      <td>25.35</td>\n",
       "      <td>12.7</td>\n",
       "      <td>15.8</td>\n",
       "      <td>16.2</td>\n",
       "      <td>15.8</td>\n",
       "      <td>5334</td>\n",
       "      <td>3.513153e+09</td>\n",
       "      <td>56721000.0</td>\n",
       "      <td>706200</td>\n",
       "      <td>-112800</td>\n",
       "      <td>1081.15</td>\n",
       "    </tr>\n",
       "  </tbody>\n",
       "</table>\n",
       "</div>"
      ],
      "text/plain": [
       "           Symbol      Expiry Option Type  Strike Price   Open   High   Low  \\\n",
       "Date                                                                          \n",
       "2018-01-12   INFY  2018-01-25          CE        1080.0  26.85  30.45  22.0   \n",
       "2018-01-15   INFY  2018-01-25          CE        1080.0  22.10  25.35  12.7   \n",
       "\n",
       "            Close  Last  Settle Price  Number of Contracts      Turnover  \\\n",
       "Date                                                                       \n",
       "2018-01-12   24.2  23.0          24.2                 3872  2.567442e+09   \n",
       "2018-01-15   15.8  16.2          15.8                 5334  3.513153e+09   \n",
       "\n",
       "            Premium Turnover  Open Interest  Change in OI  Underlying  \n",
       "Date                                                                   \n",
       "2018-01-12        58386000.0         819000        149400     1078.45  \n",
       "2018-01-15        56721000.0         706200       -112800     1081.15  "
      ]
     },
     "execution_count": 5,
     "metadata": {},
     "output_type": "execute_result"
    }
   ],
   "source": [
    "from data import get_option_data\n",
    "data_ce = get_option_data(instrument_name,start_date,end_date,'CE',atm_strike_price,expiry_date)\n",
    "data_ce"
   ]
  },
  {
   "cell_type": "code",
   "execution_count": 6,
   "metadata": {},
   "outputs": [
    {
     "data": {
      "text/html": [
       "<div>\n",
       "<style scoped>\n",
       "    .dataframe tbody tr th:only-of-type {\n",
       "        vertical-align: middle;\n",
       "    }\n",
       "\n",
       "    .dataframe tbody tr th {\n",
       "        vertical-align: top;\n",
       "    }\n",
       "\n",
       "    .dataframe thead th {\n",
       "        text-align: right;\n",
       "    }\n",
       "</style>\n",
       "<table border=\"1\" class=\"dataframe\">\n",
       "  <thead>\n",
       "    <tr style=\"text-align: right;\">\n",
       "      <th></th>\n",
       "      <th>Symbol</th>\n",
       "      <th>Expiry</th>\n",
       "      <th>Option Type</th>\n",
       "      <th>Strike Price</th>\n",
       "      <th>Open</th>\n",
       "      <th>High</th>\n",
       "      <th>Low</th>\n",
       "      <th>Close</th>\n",
       "      <th>Last</th>\n",
       "      <th>Settle Price</th>\n",
       "      <th>Number of Contracts</th>\n",
       "      <th>Turnover</th>\n",
       "      <th>Premium Turnover</th>\n",
       "      <th>Open Interest</th>\n",
       "      <th>Change in OI</th>\n",
       "      <th>Underlying</th>\n",
       "    </tr>\n",
       "    <tr>\n",
       "      <th>Date</th>\n",
       "      <th></th>\n",
       "      <th></th>\n",
       "      <th></th>\n",
       "      <th></th>\n",
       "      <th></th>\n",
       "      <th></th>\n",
       "      <th></th>\n",
       "      <th></th>\n",
       "      <th></th>\n",
       "      <th></th>\n",
       "      <th></th>\n",
       "      <th></th>\n",
       "      <th></th>\n",
       "      <th></th>\n",
       "      <th></th>\n",
       "      <th></th>\n",
       "    </tr>\n",
       "  </thead>\n",
       "  <tbody>\n",
       "    <tr>\n",
       "      <th>2018-01-12</th>\n",
       "      <td>INFY</td>\n",
       "      <td>2018-01-25</td>\n",
       "      <td>PE</td>\n",
       "      <td>1080.0</td>\n",
       "      <td>27.55</td>\n",
       "      <td>34.30</td>\n",
       "      <td>24.6</td>\n",
       "      <td>26.45</td>\n",
       "      <td>25.0</td>\n",
       "      <td>26.45</td>\n",
       "      <td>1907</td>\n",
       "      <td>1.268988e+09</td>\n",
       "      <td>33252000.0</td>\n",
       "      <td>534600</td>\n",
       "      <td>271800</td>\n",
       "      <td>1078.45</td>\n",
       "    </tr>\n",
       "    <tr>\n",
       "      <th>2018-01-15</th>\n",
       "      <td>INFY</td>\n",
       "      <td>2018-01-25</td>\n",
       "      <td>PE</td>\n",
       "      <td>1080.0</td>\n",
       "      <td>21.25</td>\n",
       "      <td>28.55</td>\n",
       "      <td>13.5</td>\n",
       "      <td>17.00</td>\n",
       "      <td>16.0</td>\n",
       "      <td>17.00</td>\n",
       "      <td>3632</td>\n",
       "      <td>2.392789e+09</td>\n",
       "      <td>39253000.0</td>\n",
       "      <td>515400</td>\n",
       "      <td>-19200</td>\n",
       "      <td>1081.15</td>\n",
       "    </tr>\n",
       "  </tbody>\n",
       "</table>\n",
       "</div>"
      ],
      "text/plain": [
       "           Symbol      Expiry Option Type  Strike Price   Open   High   Low  \\\n",
       "Date                                                                          \n",
       "2018-01-12   INFY  2018-01-25          PE        1080.0  27.55  34.30  24.6   \n",
       "2018-01-15   INFY  2018-01-25          PE        1080.0  21.25  28.55  13.5   \n",
       "\n",
       "            Close  Last  Settle Price  Number of Contracts      Turnover  \\\n",
       "Date                                                                       \n",
       "2018-01-12  26.45  25.0         26.45                 1907  1.268988e+09   \n",
       "2018-01-15  17.00  16.0         17.00                 3632  2.392789e+09   \n",
       "\n",
       "            Premium Turnover  Open Interest  Change in OI  Underlying  \n",
       "Date                                                                   \n",
       "2018-01-12        33252000.0         534600        271800     1078.45  \n",
       "2018-01-15        39253000.0         515400        -19200     1081.15  "
      ]
     },
     "execution_count": 6,
     "metadata": {},
     "output_type": "execute_result"
    }
   ],
   "source": [
    "data_pe = get_option_data(instrument_name,start_date,end_date,'PE',atm_strike_price,expiry_date)\n",
    "data_pe"
   ]
  },
  {
   "cell_type": "markdown",
   "metadata": {},
   "source": [
    "### Calculate implied volatility"
   ]
  },
  {
   "cell_type": "code",
   "execution_count": 7,
   "metadata": {},
   "outputs": [
    {
     "data": {
      "text/plain": [
       "30.76171875"
      ]
     },
     "execution_count": 7,
     "metadata": {},
     "output_type": "execute_result"
    }
   ],
   "source": [
    "import mibian\n",
    "days_to_expiry = (expiry_date - start_date).days\n",
    "Call_IV = mibian.BS([close_price, atm_strike_price, 0.05, days_to_expiry], callPrice=data_ce.Close.iloc[0]).impliedVolatility\n",
    "Call_IV"
   ]
  },
  {
   "cell_type": "code",
   "execution_count": 8,
   "metadata": {},
   "outputs": [
    {
     "data": {
      "text/plain": [
       "31.6009521484375"
      ]
     },
     "execution_count": 8,
     "metadata": {},
     "output_type": "execute_result"
    }
   ],
   "source": [
    "Put_IV = mibian.BS([close_price, atm_strike_price, 0.05, days_to_expiry], putPrice=data_pe.Close.iloc[0]).impliedVolatility\n",
    "Put_IV"
   ]
  },
  {
   "cell_type": "markdown",
   "metadata": {},
   "source": [
    "### Alpha"
   ]
  },
  {
   "cell_type": "code",
   "execution_count": 9,
   "metadata": {},
   "outputs": [],
   "source": [
    "if Call_IV > 30 and Put_IV > 30:\n",
    "    # Short Straddle\n",
    "    data_pe['signal'] = -1\n",
    "    data_ce['signal'] = -1\n",
    "else:\n",
    "    # No Positions\n",
    "    data_pe['signal'] = 0\n",
    "    data_ce['signal'] = 0"
   ]
  },
  {
   "cell_type": "markdown",
   "metadata": {},
   "source": [
    "## Analyzing The Performance"
   ]
  },
  {
   "cell_type": "markdown",
   "metadata": {},
   "source": [
    "### Compute daily returns"
   ]
  },
  {
   "cell_type": "code",
   "execution_count": 10,
   "metadata": {},
   "outputs": [
    {
     "data": {
      "text/plain": [
       "Date\n",
       "2018-01-12          NaN\n",
       "2018-01-15    35.219266\n",
       "Name: strategy_ret, dtype: float64"
      ]
     },
     "execution_count": 10,
     "metadata": {},
     "output_type": "execute_result"
    }
   ],
   "source": [
    "from performance_analytics import compute_ret\n",
    "data_ce = compute_ret(data_ce)\n",
    "data_pe = compute_ret(data_pe)\n",
    "data =  (data_ce.strategy_ret + data_pe.strategy_ret)/2\n",
    "data*100"
   ]
  }
 ],
 "metadata": {
  "kernelspec": {
   "display_name": "Python 3",
   "language": "python",
   "name": "python3"
  },
  "language_info": {
   "codemirror_mode": {
    "name": "ipython",
    "version": 3
   },
   "file_extension": ".py",
   "mimetype": "text/x-python",
   "name": "python",
   "nbconvert_exporter": "python",
   "pygments_lexer": "ipython3",
   "version": "3.6.5"
  }
 },
 "nbformat": 4,
 "nbformat_minor": 2
}
