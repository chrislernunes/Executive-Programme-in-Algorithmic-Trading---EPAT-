{
 "cells": [
  {
   "cell_type": "markdown",
   "metadata": {},
   "source": [
    "# Notebook Instructions\n",
    "<i>You can run the notebook document sequentially (one cell a time) by pressing <b> shift + enter</b>. While a cell is running, a [*] will display on the left. When it has been run, a number will display indicating the order in which it was run in the notebook [8].</i>\n",
    "\n",
    "<i>Enter edit mode by pressing <b>`Enter`</b> or using the mouse to click on a cell's editor area. Edit mode is indicated by a green cell border and a prompt showing in the editor area.</i>"
   ]
  },
  {
   "cell_type": "markdown",
   "metadata": {},
   "source": [
    "## Options Trading Strategy\n",
    "Strategy: Short straddle before earnings announcement and square off after that."
   ]
  },
  {
   "cell_type": "markdown",
   "metadata": {},
   "source": [
    "### Define instrument name, earnings date, and strike difference"
   ]
  },
  {
   "cell_type": "code",
   "execution_count": 1,
   "metadata": {},
   "outputs": [],
   "source": [
    "instrument_name = 'INFY'\n",
    "\n",
    "strike_difference = 20\n",
    "\n",
    "from datetime import date, timedelta\n",
    "earnings_date_list = [date(2017,7,14), date(2017,10,24), date(2018,1,12), date(2018,4,13)]"
   ]
  },
  {
   "cell_type": "markdown",
   "metadata": {},
   "source": [
    "### Strategy"
   ]
  },
  {
   "cell_type": "code",
   "execution_count": 2,
   "metadata": {},
   "outputs": [
    {
     "name": "stdout",
     "output_type": "stream",
     "text": [
      "building dictionary\n"
     ]
    }
   ],
   "source": [
    "from data import get_stock_data, get_option_data\n",
    "from nsepy.derivatives import get_expiry_date\n",
    "import mibian\n",
    "from performance_analytics import compute_ret\n",
    "import pandas as pd\n",
    "import numpy as np\n",
    "\n",
    "full_data = pd.Series()\n",
    "for earnings_date in earnings_date_list:\n",
    "    # Set start and end date\n",
    "    start_date = earnings_date - timedelta(days=0)\n",
    "    end_date = earnings_date + timedelta(days=3)    \n",
    "\n",
    "    # Set ATM Strike Price\n",
    "    close_price = get_stock_data(instrument_name,start_date,start_date).Close.values\n",
    "    atm_strike_price = np.round(close_price/strike_difference*1.0,0)[0]*strike_difference\n",
    "\n",
    "    # Get expiry date (you need to tweak the formula if earnings date falls after expiry date)\n",
    "    expiry_date = get_expiry_date(year=end_date.year, month=end_date.month)\n",
    "    \n",
    "    # Get call and put option data\n",
    "    data_ce = get_option_data(instrument_name,start_date,end_date,'CE',atm_strike_price,expiry_date)\n",
    "    data_pe = get_option_data(instrument_name,start_date,end_date,'PE',atm_strike_price,expiry_date)\n",
    "    \n",
    "    # Calculate IVs\n",
    "    days_to_expiry = (expiry_date - start_date).days\n",
    "    Call_IV = mibian.BS([close_price, atm_strike_price, 0.05, days_to_expiry], callPrice=data_ce.Close.iloc[0]).impliedVolatility\n",
    "    Put_IV = mibian.BS([close_price, atm_strike_price, 0.05, days_to_expiry], putPrice=data_pe.Close.iloc[0]).impliedVolatility\n",
    "    \n",
    "    # Generate Signal\n",
    "    if Call_IV > 30 and Put_IV > 30:\n",
    "        # Short Straddle\n",
    "        data_pe['signal'] = -1\n",
    "        data_ce['signal'] = -1\n",
    "    else:\n",
    "        # No Positions\n",
    "        data_pe['signal'] = 0\n",
    "        data_ce['signal'] = 0\n",
    "        \n",
    "    # Compute returns\n",
    "    data_ce = compute_ret(data_ce)\n",
    "    data_pe = compute_ret(data_pe)\n",
    "    data =  (data_ce.strategy_ret + data_pe.strategy_ret)/2\n",
    "    full_data = full_data.append(data*100)    "
   ]
  },
  {
   "cell_type": "markdown",
   "metadata": {},
   "source": [
    "### Strategy performance"
   ]
  },
  {
   "cell_type": "code",
   "execution_count": 3,
   "metadata": {},
   "outputs": [
    {
     "data": {
      "text/plain": [
       "2017-07-14          NaN\n",
       "2017-07-17     0.000000\n",
       "2017-10-24          NaN\n",
       "2017-10-25    51.713948\n",
       "2017-10-26    20.740249\n",
       "2018-01-12          NaN\n",
       "2018-01-15    35.219266\n",
       "2018-04-13          NaN\n",
       "2018-04-16    17.980769\n",
       "dtype: float64"
      ]
     },
     "execution_count": 3,
     "metadata": {},
     "output_type": "execute_result"
    }
   ],
   "source": [
    "full_data"
   ]
  }
 ],
 "metadata": {
  "kernelspec": {
   "display_name": "Python 3",
   "language": "python",
   "name": "python3"
  },
  "language_info": {
   "codemirror_mode": {
    "name": "ipython",
    "version": 3
   },
   "file_extension": ".py",
   "mimetype": "text/x-python",
   "name": "python",
   "nbconvert_exporter": "python",
   "pygments_lexer": "ipython3",
   "version": "3.6.5"
  }
 },
 "nbformat": 4,
 "nbformat_minor": 2
}
