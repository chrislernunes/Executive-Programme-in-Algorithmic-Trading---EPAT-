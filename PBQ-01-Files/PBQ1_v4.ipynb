{
  "cells": [
    {
      "metadata": {},
      "cell_type": "markdown",
      "source": "# Basics of Python Programming(PBQ-1)\n#### Notebook Created on: 5 Jan 2018\n##### Last Update: 27 Oct 2018\n##### Author: Vivek Krishnamoorthy"
    },
    {
      "metadata": {},
      "cell_type": "markdown",
      "source": "> **\"Always code as if the guy who ends up maintaining your code will be a violent psychopath who knows where you live.\"** - *John Woods*\n\n**Welcome!** This is a relatively fast-paced introduction to the Python programming language. \n\n_Please ensure that you have spent a non-trivial amount of time going through the Python primer (especially for those of you who have no programming background) before attending this lecture (or going through its recording). I would also strongly urge you to read through and play around with this file before the lecture._\n\n***I say this so that you can derive maximum benefit from listening to this lecture. If you're a newbie to programming, don't worry. You CAN do this. Yes, it's going to be a little challenging. Yes, you'll need to put in the extra yards. But I can assure you, it's very realizable.***"
    },
    {
      "metadata": {},
      "cell_type": "markdown",
      "source": "### Some philosophizing on programming\n\nThe good news is that coding is certainly a learnable skill. If you put in the effort and take your time, you will learn to program. It'll be difficult at the outset but hang in there. A simple principle of learning is that to get familiar or comfortable with anything, it has to start coming to you naturally. And that comes with practice.\n\nSo the first piece of advice: **practise everyday**. Even it's just half an hour. Open your Python terminal. I don't care what you prefer. It could be the Spyder IDE. Or Jupyter Notebook. Or Jupyter Lab. Or the Python/IPython console. Anything really. *One simple way to do this is to take this file and mess with the code I've given you. Change values and see what happens. Playing around with it will get you accustomed to Python syntax and also help you figure out limitations. All of this will help you learn.* Keep at it and it'll eventually start getting more enjoyable. You can teach yourself to do almost anything with this method. Whether it's Python, or Squash or Japanese or lion taming (may be not the last one).\n\nSecond piece of advice: **learning to research topics online**. This is something I emphasize quite a bit as an instructor/educator. I say this because what I want is for you to eventually learn to become independent learners. In today's day and age, we have a lot of resources which are available to us at the click of a button. The online Python community is incredibly helpful and enthusiastic. The [official Python documentation](https://www.python.org/doc/) is regularly updated and useful albeit a bit technical. [Stackoverflow](https://stackoverflow.com/) is a fantastic place to look up answers to questions. This could be anything from the most basic to the very advanced. You can be almost certain that any question that pops into your head has been asked by someone before and been answered too. Even [Quora](https://www.quora.com/) can be useful. Or a plain old Google search.\n\nThird piece of advice: **borrow ideas/concepts you like or find useful**. Through your Pythonic journey, in class or otherwise (I encourage you to consume all kinds of resources be it books, online links, youtube videos, etc. The process of learning can be quite arbitrary and the only way you'll know what helps you learn most effectively is by trying different ones on for size.), there'll be snippets of code you'll read or run that look like something you might want to use. You may not even understand it completely, but note it and save it somewhere. You should go back to your notes from time to time and review it. You'll be surprised at how soon we forget things if we don't keep relooking at them every now and then.\n\n\nIf you've signed up for a demanding course like EPAT, I'm quite sure you have the will to learn and work hard.\n\n\n### A couple of suggestions before we begin today's journey.\n\n1. This is a living, breathing document. For each of you. What that means is, I want you to **annotate it** with whatever comments you want. Things you forget. Things I may mention in class. That link I may casually reference during a lecture. May be stuff you want to further emphasize just so it sticks in your head. \n2. I have shared this document with you so that you have a touchstone while we go through our class. You have here both the explanations and the code. However, while you learn to code in Python or for that matter any language, **please type each line in**. Let me repeat that. Type every line. I cannot emphasize this enough. We may resort to copy-paste here during the lecture in order to save time and cover more topics. But when you're reviewing your notes, you should be typing. That's how you'll learn actively. The idea is to train yourself to read, write and understand code. And for this, it's important that both your fingers and your brain gets used to it."
    },
    {
      "metadata": {},
      "cell_type": "markdown",
      "source": "Jupyter Notebook is one the many ways that you can interface with Python and its scientific libraries. It provides a browser-based environment wherein you have the option to create a **single document** with Python code, its output, explanations, mathematical expressions, etc. As a matter of preference, I use [Jupyter Lab](http://jupyterlab.readthedocs.io/en/stable/getting_started/overview.html) which is almost identical to the Jupyter Notebook interface. You can use whichever environment you prefer (Spyder IDE, Jupyter Notebook, etc.).\n\nDue to paucity of time, I will likely **not be covering interpreting errors at any significant length**. However, learning to do so is a very **important part of your quest to becoming a good programmer (and eventually an algorithmic or quantitative trader)**. Please go through [this](https://www.quantinsti.com/blog/dealing-python-error-exceptions/) and [this](https://www.quantinsti.com/blog/python-exception/). Both are good introductory posts and I think there's quite a bit to be gained from reading it.\n\nI'm done with my preamble now.\n\nLet's get started!"
    },
    {
      "metadata": {},
      "cell_type": "markdown",
      "source": "```python\n# Hello there. This is a line that won't get executed. That's because we prefixed it with a #\n# A rite of passage when you start learning to code in any computer language is to print Hello World\n# Let's begin our journey to learn Python with it\nprint(\"Hello World!\")\n# We can use either single quotes or double quotes to call the print function\n\n\"\"\"\nLonger comments can be written over multiple lines by enclosing them within triple\nsingle or double quotes\n\"\"\"\n\n\n```"
    },
    {
      "metadata": {
        "trusted": true
      },
      "cell_type": "code",
      "source": "",
      "execution_count": null,
      "outputs": []
    },
    {
      "metadata": {},
      "cell_type": "markdown",
      "source": "There are two cool features that you will see in the Jupyter Notebook environment. One is the *Tab Complete* feature when you are accessing different methods and properties of any object. If you're like me, you would also not remember every feature of each object and so should find this very helpful. The other is using the suffix `?`.\n\nWe'll see how both of them are used as we move along today."
    },
    {
      "metadata": {},
      "cell_type": "markdown",
      "source": "```python\n# Python can be used like a calculator\n30 + 15\n40 / 12\nprint(50 / 15)\nprint(\"50 / 15 = \", 50 / 15) # Notice that whenever we enclose anything between single and double quotes, it's treated as a string i.e. it will not be computed, it will just be printed as is.\n```"
    },
    {
      "metadata": {
        "trusted": true
      },
      "cell_type": "code",
      "source": "a = 10",
      "execution_count": 1,
      "outputs": []
    },
    {
      "metadata": {
        "trusted": true
      },
      "cell_type": "code",
      "source": "import time\ntime.sleep(5)",
      "execution_count": null,
      "outputs": []
    },
    {
      "metadata": {},
      "cell_type": "markdown",
      "source": "```python\na = 0\nfor i in range(100000000):\n    a = a + i\n```\n\nNotice what happens at the top right corner. You'll see that the kernel is busy. You'll also notice that the cell which is getting processed is numbered * when the kernel is busy."
    },
    {
      "metadata": {
        "trusted": true
      },
      "cell_type": "code",
      "source": "",
      "execution_count": null,
      "outputs": []
    },
    {
      "metadata": {},
      "cell_type": "markdown",
      "source": "### Primitive Data Types\n\nWe will look at some basic math operations and the four primitive data types/variables in Python through a series of examples.\n- String (`str`)\n- Float (`float`)\n- Integer (`int`)\n- Boolean (`bool`)"
    },
    {
      "metadata": {},
      "cell_type": "markdown",
      "source": "```python\n# We're assigning variables to values here\n\nname = \"Morne Morkel\" # str data type\nwickets_taken, tests_played = 309, 86 # int data type\naverage = wickets_taken / tests_played # float data type\nwickets_taken // tests_played # integer division\nwickets_taken % tests_played # modulo (remainder after integer division)\n\nname + wickets_taken # this won't work\n\n# We can check the type of each variable by using the type() method\ntype(wickets_taken)\ntype(name)\n\nwickets_taken\nname\ntests_played\naverage\n```"
    },
    {
      "metadata": {
        "trusted": true
      },
      "cell_type": "code",
      "source": "",
      "execution_count": null,
      "outputs": []
    },
    {
      "metadata": {},
      "cell_type": "markdown",
      "source": "The two most common data types used to represent numbers are integers and floats. Floats are numbers which can have fractional parts. So while floats are more informative, arithmetic operations on integers are faster and more accurate.\n\nYou can access help by typing a variable or any keyword followed by a question mark. \n\nTry it."
    },
    {
      "metadata": {},
      "cell_type": "markdown",
      "source": "Let's now look at the Boolean data type which can be either `True` or `False`.\n```python\na = True\na\n\n# Here, the Python interpreter evaluates the expression to the right of `=` and assigns `b` to that value.\nb = 2 > 3\n\n# Print a and b and check their data type\n```\n"
    },
    {
      "metadata": {
        "trusted": true
      },
      "cell_type": "code",
      "source": "",
      "execution_count": null,
      "outputs": []
    },
    {
      "metadata": {},
      "cell_type": "markdown",
      "source": "When dealing with Boolean variables, `True` is converted to `1` and `False` is converted to `0`. This is called *Boolean Algebra*. It can very handy in programming.\n\nLet's now see some illustrative examples.\n\n```python\n\na + b\na * b\na + b\n```\nIn Python, there is a special value called None which is used for [null objects](https://www.quora.com/What-is-the-difference-between-Null-and-empty-string-in-python).\n\n\n```python\nx = None # The truthiness or Boolean value associated with None is False.\ny = 20\n\na is None # This condition can be useful in the finance context.\n# For example, if we have a variable saying 'AmountInvested' and we want to check if it's been set or not.\n# The line \"AmountInvested is None\" will give us a Boolean value as a check\n\nb is None\n\na is not None\nb is not None\n\n# Any command prefixed with a % or %% is called a magic command. Type %magic and run it\n#  Read more about it online.\n# Check what %whos does.\n```\n\n\n"
    },
    {
      "metadata": {
        "trusted": true
      },
      "cell_type": "code",
      "source": "",
      "execution_count": null,
      "outputs": []
    },
    {
      "metadata": {},
      "cell_type": "markdown",
      "source": "### Using the `print()` method\nThe `print()` method is a very versatile tool that you'll soon see for yourself. A *method* is a function associated with an object.\n\nWe often use it in conjunction with string formatting which makes our output more readable. I show three different use cases for string formatting here. Pick and choose what is most suitable for your purpose.\n```python\n\nprint(\"Proteas\" + \" : That's just another name for the South African cricket team\")\nprint(\"Proteas\" + 1992)\nprint(\"Proteas\", 1992)\n\nprint(name, \"recently finished his test career with\", wickets_taken, \n      \"wickets over\", tests_played, \"test matches.\")\n\nprint(f\"He'd done it with an average of {average} wickets in each test match.\")\n# The above strings are called f-strings or formatted string literals.\n\nprint(\"%s picked %.2f wickets on average in each test match.\"\n      %(name, average))\n# This is the %-formatting method.\n\nprint(\"He played {x} matches to pick {y} wickets.\".format\n      (x=tests_played, y=wickets_taken))\n# This is the str.format() method.\n                                                         \n```\n"
    },
    {
      "metadata": {
        "trusted": true
      },
      "cell_type": "code",
      "source": "",
      "execution_count": null,
      "outputs": []
    },
    {
      "metadata": {},
      "cell_type": "markdown",
      "source": "Digression: For those of you who are curious, you can get a glimpse of the [Proteas](https://www.youtube.com/watch?v=UvyXjNk70OY) and [Morne Morkel](https://www.youtube.com/watch?v=6S9WRFDGuDQ)."
    },
    {
      "metadata": {},
      "cell_type": "markdown",
      "source": "### Data Structures (Advanced Data Types)\n\nWe will look at the advanced data types or native data structures to Python here via some examples\n- Lists\n- Tuples\n- Sets\n- Dictionaries\n\nIt is useful to think of these data structures as **containers which house the data**. [Data structures](https://en.wikipedia.org/wiki/Data_structure) are a way to organize and store data in a computer so that it can be accessed and modified efficiently. You can even think of an Excel spreadsheet as a type of data structure which stores your data in a grid format (rows and columns)."
    },
    {
      "metadata": {},
      "cell_type": "markdown",
      "source": "\n**Lists**: They are enclosed in square brackets `[]` and used to group a collection of objects. These objects \ncan be of any Python data type including other lists or tuples.\n\n[**Tuples**](https://docs.python.org/3/tutorial/datastructures.html#tuples-and-sequences): They are enclosed in parentheses () and are immutable i.e they cannot be changed after creation. Lists\non the other hand are mutable. You can call tuples 'immutable' lists.\n\nA list containing no elements is called an empty list and a tuple with no elements is called an empty tuple.\n\n```python\n\nlanguages = ['English', 'Hindi', 'Tamil', 'German', 'Dothraki']\navogadro = [6, 0, 2, 3, 10, 23]\n\nmixed = [languages, avogadro] # think of this as a box which contains two boxes\n# We can include heterogenous data inside any list\n\n# Check the object type of each of the above variables\n```\n\n"
    },
    {
      "metadata": {
        "trusted": true
      },
      "cell_type": "code",
      "source": "languages = ['English', 'Hindi', 'Tamil', 'German', 'Dothraki']\navogadro = [6, 0, 2, 3, 10, 23]",
      "execution_count": 1,
      "outputs": []
    },
    {
      "metadata": {},
      "cell_type": "markdown",
      "source": "Python objects such as lists, integers, strings, etc. all have methods associated with them that are used to manipulate the data contained in them. **List objects have list methods, float objects have float methods, and so on.**\n\nSimilarly, objects also have attributes which are the properties associated with them. **List objects have attributes like length, maximum, minimum, etc.**\n\nWe will use some of them as we go along now.\n\n```python\nlanguages.append('Parseltongue')\n\nlanguages.pop('German')\ndir(languages)\n\n# Combining lists\nmixed2 = languages + avogadro\n\n# How do you check if an element exists in a list/tuple/sequential data type?\n\n# length, maximum, minimum\n\nlen(mixed2)\nmax(avogadro)\nmin(avogadro)\n\n# Selecting one or more elements of the list\n\nmixed2[0]\nmixed[2:5]\n\n## Creating a tuple\n\nseinfeld = ('Jerry', 'Elaine', 'Costanza', 'Kramer', 'Newman')\nbools = (True, False, True, False, False)\n\n'Kramer' in seinfeld\n'newman' in seinfeld\n# Many of the methods and attributes of the list object also work with the tuple object\n# Try some of them\n\n```\n"
    },
    {
      "metadata": {
        "trusted": true
      },
      "cell_type": "code",
      "source": "seinfeld = ('Jerry', 'Elaine', 'Costanza', 'Kramer', 'Newman')",
      "execution_count": 4,
      "outputs": []
    },
    {
      "metadata": {
        "trusted": true
      },
      "cell_type": "code",
      "source": "a, b = 12, 12",
      "execution_count": 3,
      "outputs": []
    },
    {
      "metadata": {
        "trusted": true
      },
      "cell_type": "code",
      "source": "mixed2 = languages + avogadro",
      "execution_count": 6,
      "outputs": []
    },
    {
      "metadata": {},
      "cell_type": "markdown",
      "source": "#### Slice Notation\nTo access one of more elements of a list or tuple, you can use Python's slice notation which is denoted by a colon (`:`).\n\n```python\n\nlanguages[0]\nmixed2[1:]\nmixed2[3:6] # the general rule is that a[m:n] gives you n-m elements starting with a[m]\nmixed2[-1] # Negative numbers means we start the counting from the end\n```"
    },
    {
      "metadata": {
        "trusted": true
      },
      "cell_type": "code",
      "source": "",
      "execution_count": null,
      "outputs": []
    },
    {
      "metadata": {
        "trusted": true
      },
      "cell_type": "code",
      "source": "",
      "execution_count": null,
      "outputs": []
    },
    {
      "metadata": {},
      "cell_type": "markdown",
      "source": "The two other in-built Python data structures are [sets](https://docs.python.org/3/tutorial/datastructures.html#sets) and [dictionaries](https://docs.python.org/3/tutorial/datastructures.html#dictionaries).\n\n```python\n## Creating a dictionary\n\nd = {'AAPL': 'Apple', 'MSFT': 'Microsoft', \n           'GOOG': 'Google', 'TSLA': 'Tesla'}\nd['TSLA']\n\n# AAPL, MSFT, etc are called 'keys' and the corresponding objects that they are mapped to are called 'values'.\nprint(d.keys())\nprint(d.values())\n\n\n## Creating a set\n\nset1 = {'a', 'e', 'i', 'o', 'u'}\nset2 = {'a', 'u'}\n\nset1.issuperset(set2)\nset1.intersection(set2)\n\n```"
    },
    {
      "metadata": {
        "trusted": true
      },
      "cell_type": "code",
      "source": "",
      "execution_count": null,
      "outputs": []
    },
    {
      "metadata": {
        "trusted": true
      },
      "cell_type": "code",
      "source": "",
      "execution_count": null,
      "outputs": []
    },
    {
      "metadata": {},
      "cell_type": "markdown",
      "source": "### Loops and Branches\n\nWhat makes Python syntax less cluttered (without unnecessary parentheses, braces, etc.) and easier to read than many other languages is the use of indentations to delineate code blocks. Before defining code blocks, let's first look at what a Python program consists of. \n\nAny program we write consists of a set of statements. We can think of a statement as *the fundamental unit of a Python program*. A number of statements can be grouped into a larger chunk called a block. In fact, some would even say that a 'block' of code can be treated as one compound statement.\n\nSome of the more complex constructs that we encounter like functions or methods are composed of blocks.\n\nYou'll understand them as we look at various examples now. Python can identify the different code blocks in any program **only from indentations**. \n\nThe standard size for indentations is [4 spaces](https://www.python.org/dev/peps/pep-0008/#indentation). In IDEs like Spyder or Jupyter Notebook, the tab key takes care of this.\n\nImportant points to remember:\n- The line before the start of any code block *always ends in a colon*.\n- All lines of code in a code block must have *the same amount of indentation*.\n\n```python\n\n## the if statement (Branches)\n\npeople = 10\nsandwiches = 12\ncoffees = 8\n\nif (sandwiches > people):\n    print(\"We've ordered too much food!\")\nelse:\n    print(\"Have we ordered too few?\")\n    \nif coffees > people:\n    print(\"That's too much coffee\")\nelif coffees < people:\n    print(\"Too many people!\")\nelse:\n    print(\"Ahh. Perfect. Just enough for everyone. No seconds though.\")\n\n```"
    },
    {
      "metadata": {
        "trusted": true
      },
      "cell_type": "code",
      "source": "whos",
      "execution_count": null,
      "outputs": []
    },
    {
      "metadata": {
        "trusted": true
      },
      "cell_type": "code",
      "source": "",
      "execution_count": null,
      "outputs": []
    },
    {
      "metadata": {
        "trusted": true
      },
      "cell_type": "code",
      "source": "",
      "execution_count": null,
      "outputs": []
    },
    {
      "metadata": {
        "trusted": true
      },
      "cell_type": "code",
      "source": "",
      "execution_count": null,
      "outputs": []
    },
    {
      "metadata": {},
      "cell_type": "markdown",
      "source": "In programming, one of the key tasks we perform is performing a certain set of actions repeatedly for a sequence of data. Here's where Python's `for` loop comes into its own. It has a simple and flexible interface which allows us to iterate through many 'iterable' objects. 'Iterable' essentially means anything that can be looped over.\n\n```python\n## the for statement (Loops)\n\nfor x in mixed2:\n    print(x)\n    \nrange(10)\n\nfor i in range(10):\n    print(i)\n    \n    \nvowels = 'aeiou'\n\nfor letter in 'transformation':\n    if letter in vowels:\n        print(letter)\n        \n    \n# Notice that Python loops over seamlessly without explicit indexing (this observation is for those who \n# have programmed in other languages)\n\n# So essentially, you don't need to run it as shown below.\n\nfor i in range(len(mixed2)):\n    print(mixed2[i])\n\n\n# If you need the index from a list, you can use the enumerate() method    \n\nfor i, language in enumerate(languages):\n    print(f\"languages[{i}]: {language}\")\n    \n## Another handy function is zip() which can be used for iterating through multiple sequences simultaneously\n## Check out this example\n\ntickers = ('AMD', 'BABA', 'INFY')\nnames = ('Advanced Micro Devices', 'Alibaba', 'Infosys')\ncities = ('Santa Clara, California in the United States', 'Hangzhou in China', 'Bangalore in India') \n\nfor ticker, name, city in zip(tickers, names, cities):\n    print(f\"{name} (Ticker Symbol:{ticker}) was founded in the city of {city}.\")\n\n \n```\n"
    },
    {
      "metadata": {
        "trusted": true
      },
      "cell_type": "code",
      "source": "vowels = 'aeiou'\n\nfor letter in 'transformation':\n    if letter in vowels:\n        print(letter)",
      "execution_count": null,
      "outputs": []
    },
    {
      "metadata": {},
      "cell_type": "markdown",
      "source": "```python\n## Using break and continue in loops and branches\n# When iterating through a sequence, you can exit the loop completely using break\n# and skip the current iteration using continue. See the example below.\n# Before running it, think about what the expected output would be.\n\nfor i in range(10):\n    if i == 4:\n        continue\n    elif i == 6:\n        break\n    print(i)\n```"
    },
    {
      "metadata": {
        "trusted": true
      },
      "cell_type": "code",
      "source": "",
      "execution_count": null,
      "outputs": []
    },
    {
      "metadata": {
        "trusted": true
      },
      "cell_type": "code",
      "source": "",
      "execution_count": null,
      "outputs": []
    },
    {
      "metadata": {},
      "cell_type": "markdown",
      "source": "``` python\n## the while statement (loops)\n# Repeat the action until a specified condition is met\n\na = 20\n\nwhile a < 25:\n    print(a)\n    a = a + 1\n\n## The statement a = a + 1 can be replaced by a += 1. Similarly, a -= 1 means a = a - 1\n    \nb = 5\n\nwhile b < 10:\n    print(b)\n\n    \n## You can use loops or branches to build lists\n\nelements = []\n\nfor i in range(5, 10):\n    print(\"Adding {} to the newly formed list\".format(i))\n    elements.append(i)\n```"
    },
    {
      "metadata": {
        "trusted": true
      },
      "cell_type": "code",
      "source": "",
      "execution_count": null,
      "outputs": []
    },
    {
      "metadata": {
        "trusted": true
      },
      "cell_type": "code",
      "source": "",
      "execution_count": null,
      "outputs": []
    },
    {
      "metadata": {},
      "cell_type": "markdown",
      "source": "### Comparisons and Logical Operators\n\nA number of different operations or expressions evaluate to a Boolean value (`True` or `False`)\nWe'll go through a number of examples which will help us appreciate this and will help us write better programs.\n\n```python\n\na, b = 10, 15\na < b\n\na > b\n```\nOne of the nice features in Python is that we can *chain together* inequalities.\n```python\n1 < 2 < 3\n```\n\nRemember that in Python, an `=` is used for assigning the LHS to the RHS like we've done numerous times so far. However, a `==` expression is used to *test* the equality of the LHS to the RHS.\n\n```python\nx = 1 # this is an assignment\nx == 2 # this is comparison\n\nx != 2 # we use this expression for 'not equal to'\n```\nWe can combine expressions using `and`, `or` and `not`. You would have seen this in Excel too.\n\n\n```python\n## Before running each line below, think of what the output would be\n\n2 < 3 and 'f' in 'foo'\n3 < 4 and '0' in 'foo'\n4 < 5 or 'y' in 'baz'\nnot 5 < 6 and True\nnot not False\nnot True\n\n```\n\n"
    },
    {
      "metadata": {
        "trusted": true
      },
      "cell_type": "code",
      "source": "",
      "execution_count": null,
      "outputs": []
    },
    {
      "metadata": {
        "trusted": true
      },
      "cell_type": "code",
      "source": "",
      "execution_count": null,
      "outputs": []
    },
    {
      "metadata": {},
      "cell_type": "markdown",
      "source": "### List Comprehensions and One line `if` statements\n\n```python\n## Below is an example of a one line if statement\n\nprice = 60\nsma50 = 55\n\nsignal = 'Buy' if price < sma50 else 'Sell'\nsignal\n\n## Write the above line using the regular 'if' statement\n\n\n## Now we'll look at some examples of list comprehension\n## This is an elegant tool to dynamically create sequences from other sequences (be it lists, sets, etc.)\n\nprices = [ 20, 24, 19, 26, 17, 16, 18]\nsma22 = 22\n\nfrom math import log # We're importing a library here, more on this later. For now, just run this so that\n# we can compute logs\n\nlprices = [log(price) for price in prices]\n\n## Let's now add some conditions\n\nevenprices = [price for price in prices if price%2==0] # single condition\n\nsignals = ['Buy' if price < sma22 else 'Sell' for price in prices] # if-else condition\n\n\n```\n\n\n\n\n\n\n\n"
    },
    {
      "metadata": {
        "trusted": true
      },
      "cell_type": "code",
      "source": "",
      "execution_count": null,
      "outputs": []
    },
    {
      "metadata": {
        "trusted": true
      },
      "cell_type": "code",
      "source": "",
      "execution_count": null,
      "outputs": []
    },
    {
      "metadata": {
        "trusted": true
      },
      "cell_type": "code",
      "source": "",
      "execution_count": null,
      "outputs": []
    },
    {
      "metadata": {},
      "cell_type": "markdown",
      "source": "### Functions\n\nFunctions are a set of statements that together perform a particular task. For example, we can create a function to find the maximum in a list of numbers. Fortunately for us, there are hundreds of functions which are native or built-in to Python. We often refer to them as `methods` since they are associated with objects.\n\nOne of the key design features of Python is, it's a relatively small core language supported by **many high quality libraries (mostly from third parties)**. So we import them depending on the actions/tasks we need to perform. These **libraries are also loosely referred to as modules or packages**. You'll find these words used interchangeably. So get used to it.\n\nWe shall also learn to create our own functions for tasks that are unique to our objectives (if the built-in or the functions that come from libraries do not suffice). **User-defined functions** improve the clarity of our code and [facilitate code reuse](https://en.wikipedia.org/wiki/Don%27t_repeat_yourself), a cardinal principle of good programming.\n\nWe can also create anonymous functions called `lambda` functions which can be very convenient in some cases.\n\n```python\n\n## Some commonly used functions which some of which we have seen already\n## Try each of them out and see if you can guess what the output would be\n\nmin(20, 21, 25, 21, 9, 18, 15)\nround(100/9, 2)\nlist(range(5))\ntype(range(10)\n\n## Exercise to do on your own time: Read about the any() and all() functions and check out some use cases online\n```"
    },
    {
      "metadata": {
        "trusted": true
      },
      "cell_type": "code",
      "source": "",
      "execution_count": null,
      "outputs": []
    },
    {
      "metadata": {
        "trusted": true
      },
      "cell_type": "code",
      "source": "",
      "execution_count": null,
      "outputs": []
    },
    {
      "metadata": {
        "trusted": true
      },
      "cell_type": "code",
      "source": "",
      "execution_count": null,
      "outputs": []
    },
    {
      "metadata": {},
      "cell_type": "markdown",
      "source": "```python\n\n## Importing libraries\n```\nWe import or load these libraries using the keyword `import`. We usually import it using an alias to make access easier. If we want to import all the components of a library, we can use *\n\n```python\n\nimport sys\nimport pandas as pd\nimport numpy as np\nfrom math import * # this is almost always a bad idea. Because you won't know what exactly is imported. \n# Plus namespace issues (you can read about this online)\n\n# instead import only what you need\nfrom math import log\n\n# You can also import only a sublibrary if that's all you need\n\nimport statsmodels.stats as sms\n\n## to check what components exist in the imported library we use dir()\n## Use it for some of the libaries that we just imported\n\n```\n"
    },
    {
      "metadata": {
        "trusted": true
      },
      "cell_type": "code",
      "source": "import sys",
      "execution_count": null,
      "outputs": []
    },
    {
      "metadata": {},
      "cell_type": "markdown",
      "source": "```python\n## User defined function\n```\nWe define a function using the keyword `def` followed by the function name and the arguments that it takes as input. We then write our lines of code as a code block to specify the actions that need to be performed. A function can return any kind of object including other functions. For this, we use `return` statements. We can have any number of `return` statements (including zero). We **call** a function using its name and passing it the arguments that it needs as input.\n\n```python\n\ndef f(x):\n    if x < 0:\n        return 'Negative number'\n    return 'Non-negative number'\n\ndef hypotenuse(a, b):\n    return np.sqrt(a**2 + b**2)\n```\n"
    },
    {
      "metadata": {
        "trusted": true
      },
      "cell_type": "code",
      "source": "",
      "execution_count": null,
      "outputs": []
    },
    {
      "metadata": {
        "trusted": true
      },
      "cell_type": "code",
      "source": "",
      "execution_count": null,
      "outputs": []
    },
    {
      "metadata": {},
      "cell_type": "markdown",
      "source": "```python\n\n## Lambda functions: Especially convenient when operations performed are relatively straightforward\n## Let's create the equivalent of the function hypotenuse using the lambda function\n\nhypotenuse = lambda a, b: np.sqrt(a ** 2 + b ** 2)\n\n```\n"
    },
    {
      "metadata": {
        "trusted": true
      },
      "cell_type": "code",
      "source": "",
      "execution_count": null,
      "outputs": []
    },
    {
      "metadata": {
        "trusted": true
      },
      "cell_type": "code",
      "source": "",
      "execution_count": null,
      "outputs": []
    },
    {
      "metadata": {},
      "cell_type": "markdown",
      "source": "### NumPy\n\n`NumPy` is a very popular library and an integral part of the scientific ecosystem in Python. It is widely used in academia, finance and industry. The key purpose that `NumPy` serves is fast processing with low memory overheads.\nThe data is stored as an array data type which is called a `numpy.ndarray`. These arrays are somewhat like native Python lists, except that the data must be homogeneous (all elements of the same type). \n\n`NumPy` is best utilized when the computations that have to be performed can be **vectorized**. Vectorization essentially involves the elimination of a `for` loop in performing the task. Meaning, rather than performing the same task sequentially hundreds of times, it is done so batchwise. For ex. computing moving averages for an entire array, or generating a sequence of random values."
    },
    {
      "metadata": {},
      "cell_type": "markdown",
      "source": "```python\n\nimport numpy as np\n\nnp.__version__\nx = np.random.normal(0, 1, size=10000) # Generates random sample from a normal distribution with mu=0 and sigma=1\nx.mean()\n\ny = np.linspace(0, 10, 100) # Generates 100 equally spaced points between 0 and 100\ny.cumsum() # Computes the cumulative sum\nlen(y)\nx.max()\nx.std()\n\nheight = [1.73, 1.68, 1.71, 1.89, 1.79]\nweight = [65.4, 59.2, 63.6, 88.4, 68.7]\n\nweight / height ** 2 # What's the output?\n\nnp_height = np.array(height) # converting the list to a NumPy ndarray\nnp_weight = np.array(weight)\n\nbmi = np_weight / np_height ** 2\n## this is a vectorized calculation step\n\nx = np.random.randn(10) # Generating a random sample drawn from a standard normal distribution\nnp.where(x > 0, True, False) # This gives an NumPy ndarray where you get True if specified condition\n# is satisfied and False if it is not. A neat little trick which you'll see a lot of when we start writing\n# codes for strategies\n\n```"
    },
    {
      "metadata": {
        "trusted": true
      },
      "cell_type": "code",
      "source": "",
      "execution_count": null,
      "outputs": []
    },
    {
      "metadata": {
        "trusted": true
      },
      "cell_type": "code",
      "source": "",
      "execution_count": null,
      "outputs": []
    },
    {
      "metadata": {},
      "cell_type": "markdown",
      "source": "### pandas\n\n`pandas` like `NumPy` is a key constituent of the scientific computing framework in Python. It's a powerful tool which can perform data manipulation and other excel like operations at high speed. It is built on top of NumPy. To give you a sense of how comprehensive it is, the [official documentation](https://pandas.pydata.org/pandas-docs/stable/) of `pandas` is over 2500 pages!\n\nMany of the more sophisticated statistical libraries such as `statsmodels` and `scikit-learn` are built on top of `pandas`.\n\n```python\n\nimport pandas as pd\nimport numpy as np\n```\n\nTwo of the most important data structures in `pandas` that we will extensively use are `Series` and `DataFrame`.\n\n`Series` can be thought of as a single 'column' of data. `DataFrame` on other hand is like an Excel sheet with multiple columns of data.\n```python\n\n## Series\n\n\nreturns = pd.Series(np.random.randn(5), name='Annual Returns')\n# check the type of object that returns is\n\nreturns\n# Notice that the output automatically creates indices numbered from 0 to 4. This is similar to a NumPy array.\n# But there are many additional features unique to pandas Series\n\nreturns.describe()\n\n# You can change the index to something more meaningful\n\nreturns.index = ['CSCO', 'EBAY', 'GM', 'JNJ', 'NKE']\n\n```\n\nIn fact, `Series` are like Python dictionaries, with the index being analogous to the `keys` and the actual data equivalent to `values`. Even the syntax is similar to Python dictionaries.\n\n```python\n\nreturns['JNJ']\nreturns['NKE'] = 0.4\n\nreturns\n'MSFT' in returns\n```"
    },
    {
      "metadata": {
        "trusted": true
      },
      "cell_type": "code",
      "source": "",
      "execution_count": null,
      "outputs": []
    },
    {
      "metadata": {
        "trusted": true
      },
      "cell_type": "code",
      "source": "",
      "execution_count": null,
      "outputs": []
    },
    {
      "metadata": {
        "trusted": true
      },
      "cell_type": "code",
      "source": "",
      "execution_count": null,
      "outputs": []
    },
    {
      "metadata": {},
      "cell_type": "markdown",
      "source": "```python\n## DataFrames\n\n# We will now read a csv file into a pandas DataFrame as shown\n# Before we do that, we need to make sure our csv file is stored in the present working directory\n# How do you check where your present working directory is?\n\ndata = pd.read_csv(\"TCS.NS.csv\", index_col=\"Date\", parse_dates=True)\n# Here we're loading the csv file and specifying that the 'Date' column is to be assigned as index\n# We use parse_dates=True so that pandas recognizes our date column which makes filtering and\n# data manipulation more convenient\n\n# Check the type of object data is\n\ndata.shape # Gives you an idea of how many rows and columns are there\ndata.head() # Useful way to get a quick look at your DataFrame\ndata.tail()\n\n\n```"
    },
    {
      "metadata": {
        "trusted": true
      },
      "cell_type": "code",
      "source": "",
      "execution_count": null,
      "outputs": []
    },
    {
      "metadata": {
        "trusted": true
      },
      "cell_type": "code",
      "source": "",
      "execution_count": null,
      "outputs": []
    },
    {
      "metadata": {
        "trusted": true
      },
      "cell_type": "code",
      "source": "",
      "execution_count": null,
      "outputs": []
    },
    {
      "metadata": {
        "trusted": true
      },
      "cell_type": "code",
      "source": "",
      "execution_count": null,
      "outputs": []
    },
    {
      "metadata": {},
      "cell_type": "markdown",
      "source": "One of the great features about `pandas` is how it works so symbiotically with some of the other popular Python packages such as `NumPy` and `Matplotlib`. Under the hood, the `values` of the `pandas Series` and the `pandas Dataframe` objects are `NumPy ndarrays`. \n\nWe will use `matplotlib` in conjunction with `pandas` to plot and visualize our data. You can read and learn more about it [here](https://matplotlib.org/api/pyplot_summary.html).\n\n```python\nimport matplotlib.pyplot as plt\ndata['Close'].plot() # You can do a quick plot of the Close prices over time\n\n# For plotting multiple lines on the same graph, pass a list of column names to the plot() method\n# Try it\n```\n #### Deconstructing a pandas DataFrame\n\nA DataFrame consists of three parts viz.\n1. `index`\n2. `columns`\n3. `values`\n\n"
    },
    {
      "metadata": {},
      "cell_type": "markdown",
      "source": "```python\ndata.index\ndata.columns # Gives you details of the columns in the DataFrame\ndata.values\ndata2 = data.copy() # Creates a copy of the original dataset. We'll now work with this DataFrame.\n```"
    },
    {
      "metadata": {},
      "cell_type": "markdown",
      "source": "#### Selecting subsets of data\n\nThere are three key ways by which we select subsets of our dataset for further analysis.\n* Using the indexing operator `[]`\n* Using the label based indexing operator `.loc[]` \n* Using the integer based indexing operator`.iloc[]`\n\nWe'll now look at some use cases using these different indexers.\n\n```python\n\n## Using the indexing operator []\n\ndel data2['Volume'] # Deleting a column\n\ndata2['Open'] # selecting one column\nopen = data2['Open']\ntype(open)\n# open is a Series object which has two components viz. index and the data (called values). There are NO columns\n\nclose = data2[['Close']]\n# this is technically a DataFrame. Check the type and see for yourself\n\n# We can select multiple columns by passing a list of column names\n# Order in which they are written doesn't matter\n\nclose_open = data2[['Close', 'Open']]\ndata2['New'] = 0 # creating a new column and initializing it with all zeroes\n\n```"
    },
    {
      "metadata": {
        "trusted": true
      },
      "cell_type": "code",
      "source": "",
      "execution_count": null,
      "outputs": []
    },
    {
      "metadata": {
        "trusted": true
      },
      "cell_type": "code",
      "source": "",
      "execution_count": null,
      "outputs": []
    },
    {
      "metadata": {
        "trusted": true
      },
      "cell_type": "code",
      "source": "",
      "execution_count": null,
      "outputs": []
    },
    {
      "metadata": {},
      "cell_type": "markdown",
      "source": "```python\n\n## Using the location based indexing operator .loc[]\n```\n\nIt selects data based on the 'label' of the rows and columns. Also, it can simultaneously select subsets of rows and columns.\n\n```python\n\ndata2.loc['2015-01-07'] # Selecting a single row\n\ndata2.loc['2015-01-07': '2015-02-03'] # using the slice notation : to select a range of columns or rows\n# The last value is included here compared to other data structures like Python lists\n\ndata2.loc['2018-05-02':] ## slicing from the specified date to the end\ndata2.loc[:'2008-06-05'] ## slicing from the start to the specified date\n\ndata2.loc['2015-01-07': '2015-02-03':3] ## slicing from the specified date to specified date and selecting every\n# 3rd day\n\n### Selecting rows and columns simultaneously\n\ndata2.loc['2015-01-07': '2015-02-03',['Open','High','Low']]\ndata2.loc['2015-01-07': '2015-02-03',:] # same output as the line a few places above\n```"
    },
    {
      "metadata": {
        "trusted": true
      },
      "cell_type": "code",
      "source": "",
      "execution_count": null,
      "outputs": []
    },
    {
      "metadata": {
        "trusted": true
      },
      "cell_type": "code",
      "source": "",
      "execution_count": null,
      "outputs": []
    },
    {
      "metadata": {
        "trusted": true
      },
      "cell_type": "code",
      "source": "",
      "execution_count": null,
      "outputs": []
    },
    {
      "metadata": {},
      "cell_type": "markdown",
      "source": "```python\n\n## Using the integer based indexing operator .iloc[]\n```\n\nIt selects data based on the integer locations of the rows and columns. Very similar to the .loc[] operator.\n\n```python\n\ndata2.iloc[4] # Selecting a single row\n\ndata2.iloc[[4, 8, 20]] # Selecting multiple rows\n\ndata2.iloc[5:10] # using the slice notation : to select a range of columns or rows\n\ndata2.iloc[2460:] ## slicing from the specified integer location to the end\n\n\ndata2.iloc[2460::2] # starting with 2460th position and every alternate row\n\n### Selecting rows and columns simultaneously with .iloc\n\ndata2.iloc[[4, 5], [0,3]] # selecting two rows and two columns\n\ndata2.iloc[5:10, [1, 4]] # selecting a slice of rows and two columns\n```"
    },
    {
      "metadata": {
        "trusted": true
      },
      "cell_type": "code",
      "source": "",
      "execution_count": null,
      "outputs": []
    },
    {
      "metadata": {
        "trusted": true
      },
      "cell_type": "code",
      "source": "",
      "execution_count": null,
      "outputs": []
    },
    {
      "metadata": {
        "trusted": true
      },
      "cell_type": "code",
      "source": "",
      "execution_count": null,
      "outputs": []
    },
    {
      "metadata": {},
      "cell_type": "markdown",
      "source": "#### Some commonly done calculations in quantitative trading\n\n```python\ndata2['cc'] = 100 * data2['Close'].pct_change()\n## Computes the percentage change between today's Close and previous day's Close\n\ndata2['co'] = 100 * (data2['Open'] / data2['Close'].shift(1) - 1) \n# The shift operator time-shifts the specified columns either forward or backward by the # of steps specified. \n# Here shift(1) brings the Close price column down by one step.\n# Today's Open divided by yesterday's close\n\ndata2['oc'] = 100 * (data2['Close'] / data2['Open'] - 1) \n# Today's close divided by today's open\n\nn = 50\n\n# Moving Average\n\ndata2['MA'] = data2['Close'].rolling(window=n,center=False).mean()\n%matplotlib tk\ndata2[['MA', 'Close']].plot(linewidth=1.5)\n```"
    },
    {
      "metadata": {
        "trusted": true
      },
      "cell_type": "code",
      "source": "",
      "execution_count": 1,
      "outputs": [
        {
          "name": "stdout",
          "output_type": "stream",
          "text": "Interactive namespace is empty.\n"
        }
      ]
    },
    {
      "metadata": {
        "trusted": true
      },
      "cell_type": "code",
      "source": "",
      "execution_count": null,
      "outputs": []
    },
    {
      "metadata": {
        "trusted": true
      },
      "cell_type": "code",
      "source": "",
      "execution_count": null,
      "outputs": []
    },
    {
      "metadata": {},
      "cell_type": "markdown",
      "source": "#### References\n\n1. The Official Python documentation - https://docs.python.org/3/contents.html\n2. A Byte of Python, Swaroop CH - https://python.swaroopch.com/\n3. Learn Python the Hard Way, Zed Shaw - https://learnpythonthehardway.org/\n4. Think Python, Allen Downey - https://greenteapress.com/wp/think-python-2e/\n5. Jupyter Lab - http://jupyterlab.readthedocs.io/en/stable/\n6. `pandas` documentation - https://pandas.pydata.org/pandas-docs/stable/\n7. Learning pandas, Michael Heydt - https://www.amazon.com/Learning-Pandas-Python-Discovery-Analysis/dp/1783985127\n8. Style Guide for Python Code - https://www.python.org/dev/peps/pep-0008/\n9. Dealing With Error And Exceptions In Python - https://www.quantinsti.com/blog/dealing-python-error-exceptions/\n10. Python Exception: Raising And Catching Exceptions In Python - https://www.quantinsti.com/blog/python-exception/\n11. Don't repeat yourself: https://en.wikipedia.org/wiki/Don%27t_repeat_yourself\n12. `Matplotlib` - https://matplotlib.org/api/pyplot_summary.html"
    },
    {
      "metadata": {
        "trusted": true
      },
      "cell_type": "code",
      "source": "",
      "execution_count": null,
      "outputs": []
    }
  ],
  "metadata": {
    "kernelspec": {
      "name": "python3",
      "display_name": "Python 3",
      "language": "python"
    },
    "language_info": {
      "mimetype": "text/x-python",
      "nbconvert_exporter": "python",
      "name": "python",
      "file_extension": ".py",
      "version": "3.5.4",
      "pygments_lexer": "ipython3",
      "codemirror_mode": {
        "version": 3,
        "name": "ipython"
      }
    }
  },
  "nbformat": 4,
  "nbformat_minor": 2
}
