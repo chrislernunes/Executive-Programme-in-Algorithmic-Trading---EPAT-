{
 "cells": [
  {
   "cell_type": "markdown",
   "metadata": {},
   "source": [
    "# Strategy Backtesting Using Python (DMP-1)\n",
    "#### Notebook Created on:  25 Jan 2018\n",
    "##### Last Update: 30 November 2018\n",
    "##### Author: Vivek Krishnamoorthy"
   ]
  },
  {
   "cell_type": "markdown",
   "metadata": {},
   "source": [
    "### Taking stock of where we are currently\n",
    "\n",
    "We covered quite a bit of ground when we met last. I expect that you would have spent time reviewing it. \n",
    "\n",
    "One effective way to learn is to mess with the code I share with you. Tweak the values, create new variables and see what happens. Play around with the cells in the Jupyter Notebook to familiarize yourself with the Python syntax and figure out its features and limitations. **The benefits of running and experimenting with the code I've shared (line by line yourself) *by typing it in* will be a far better use of your time and effort than just reading it.**\n",
    "\n",
    "There're tons of references I'd provided in my previous class in case you want to delve deeper (I hope you have).\n",
    "\n",
    "#### Some myths about programming ...\n",
    "\n",
    "1. It's too late for me to learn it.\n",
    "\n",
    "2. I need to have an engineering or computer science background to become a quant/algo trader.\n",
    "\n",
    "3. I will have acquired all the needed knowledge if I go through the EPAT programming oriented sessions.\n",
    "\n",
    "4. I have to be an expert level programmer to code trading strategies.\n",
    "\n",
    "#### ... and some truisms\n",
    "\n",
    "1. It's never too late. The internet is filled with inspiring experiences about people who learnt it quite 'late' in life. Check [this](https://www.google.co.in/search?hl=en&source=hp&ei=P_UpW9yqKcv5vgTs_oXYCw&q=programming+learning+late&oq=programming+learning+late&gs_l=psy-ab.3..0i22i30k1l10.1999.6123.0.6329.27.22.0.3.3.0.279.2152.0j13j1.15.0....0...1c.1.64.psy-ab..9.17.2170.0..0j0i131k1.130.ZbcQA9G_094) out.\n",
    "\n",
    "2. Not true. To get comfortable with something, it has to start coming naturally to you. This will happen only if you practise everyday. I know I've said this ad nauseum. But really, there's no getting around it. Keep at it and you'll find that it gets easier and more fun.\n",
    "\n",
    "3. It doesn't take very long to learn programming but months to become an expert. Read widely, watch videos, try stuff, fail, try again (Lather, rinse, repeat).\n",
    "\n",
    "4. Not true. If you understand financial markets and are familiar with Python or R, you're good to go. The coding community is a vibrant and giving one. You'll find a lot of ninja level programmers actively engaged in troubleshooting and helping newcomers on online forums like [Stackoverflow](https://stackoverflow.com/). Use it when you encounter issues.\n",
    "\n",
    "#### A handy and step-wise approach to Strategy Testing\n",
    "\n",
    "1. Come up with a trading/strategy idea (this could come from something you read, or may be a gut instinct that needs to be tested - say, buying at Friday close and selling on the following Monday at market open).\n",
    "\n",
    "2. Download the relevant data. Daily historical data is usually quite straightfoward to obtain, especially for stocks. Higher frequency data (5 minutely, minutely, etc.) however is expensive and you need to check this with your broker.\n",
    "\n",
    "3. Think about the algorithm (a series of steps to buy and sell)\n",
    "    * Build the indicator\n",
    "    * Create the rule\n",
    "    * Calculate returns, P & L, etc.\n",
    "    \n",
    "4. Do it stepwise and test each part once you write it.\n",
    "\n",
    "5. Make sure you annotate your code with comments. If not, you'll spend hours trying to understand your own code when you revisit it after a few days.\n",
    "\n",
    "6. Fragment the code. You don't need to run the data download part every single time. Save the data download part as a function or a separate script/file.\n",
    "\n",
    "7. Contingency plan\n",
    "    * What if the code to download data automatically doesn't work?\n",
    "    * Download the data manually as a csv file and use it instead.\n"
   ]
  },
  {
   "cell_type": "code",
   "execution_count": null,
   "metadata": {
    "collapsed": true
   },
   "outputs": [],
   "source": [
    "!conda install pandas-datareader"
   ]
  },
  {
   "cell_type": "markdown",
   "metadata": {},
   "source": [
    "```python\n",
    "\n",
    "# The first step when we start to write a Python program is to import all the necessary\n",
    "# libraries/packages with aliases if required. The aliases I've used are quite standardized \n",
    "# in scientific Python code that you come across\n",
    "\n",
    "import pandas as pd\n",
    "import numpy as np\n",
    "import datetime\n",
    "pd.core.common.is_list_like = pd.api.types.is_list_like\n",
    "import matplotlib.pyplot as plt\n",
    "import pandas_datareader.data as web\n",
    "import os\n",
    "\n",
    "os.getcwd()\n",
    "os.chdir(\"C:\\Work\\EPAT\\Python\\Strategies\") # You'll need to key in the directory relevant to your computer\n",
    "# Here's where all the files pertaining to your program should be stored\n",
    "```"
   ]
  },
  {
   "cell_type": "code",
   "execution_count": 1,
   "metadata": {},
   "outputs": [],
   "source": [
    "import pandas as pd\n",
    "import numpy as np\n",
    "import datetime\n",
    "pd.core.common.is_list_like = pd.api.types.is_list_like\n",
    "import matplotlib.pyplot as plt\n",
    "import pandas_datareader.data as web\n",
    "import os"
   ]
  },
  {
   "cell_type": "markdown",
   "metadata": {},
   "source": [
    "[pandas-datareader](http://pandas-datareader.readthedocs.io/en/latest/) is a popular library (other libraries include [quandl](https://www.quandl.com/tools/python), [nsepy](http://nsepy.readthedocs.io/en/latest/) etc.) used to pull financial data automatically from different web sources. However, the data sources often change and one needs to check the documentation from time to time to be updated. A few months ago, I would always download whatever data I needed through Yahoo Finance or Google Finance (when using `pandas-datareader`). They don't work anymore.\n",
    "\n",
    "### A short detour - Dates and Times in Python\n",
    "\n",
    "In Python ,there are a number of ways to represent dates, times, and time intervals between them. `pandas` and `NumPy` have their own ways of representing them. We will be mostly dealing with the `pandas` date formats since that is most relevant to quantitative finance. Nevertheless, it's useful to know how they relate with each other.\n",
    "\n",
    "Two important methods within `datetime` which are also the same in `pandas` are `strptime` and `strftime`.\n",
    "* `strptime` parses a string and **converts it to a `datetime` object**.\n",
    "* `strftime` **converts a `datetime` object to a specified format string**.\n",
    "\n",
    "As a mnemonic, I find it helpful to link the `p` in `strptime` to\n",
    "* *parsing* a string to get a datetime object. \n",
    "\n",
    "And the `f` in `strftime` to \n",
    "* *formatting*  a `datetime` object to get a formatted string of our choice.\n",
    "\n",
    "*I'd strongly suggest that you go through the use cases for these two methods and try them out (even if you don't try out the rest of the code pertaining to dates and times). Dealing with different formats of dates and times from disparate source files (since data could come from many potential data providers) is a pain we often encounter while dealing with financial data. [Here's](https://docs.python.org/3/library/datetime.html#strftime-and-strptime-behavior) the official documentation on them.*\n",
    "\n",
    "Native Python has a built-in `datetime` library and a third-party library [`dateutil`](https://dateutil.readthedocs.io/en/stable/) which supplies `date`, `datetime`, `time`, `timedelta` and other objects. There are many useful functionalities that you can perform using them. However, while working with large datasets, they are inefficient compared to better available date formats in `pandas` or `NumPy`.\n",
    "\n",
    "`NumPy` has the `datetime64` data type which encodes dates as 64-bit integers. It's named so because the name `datetime` was already taken by the `datetime` library in native Python. Some of the objects follow the convenient nomenclature of `64` suffixed at the end of their native Python names. Ex. `datetime64`, `timedelta64`.\n",
    "\n",
    "`pandas` provides a `Timestamp` object which is like the best of both worlds. It's got the user-friendliness of `datetime` and `dateutil` and the efficiency of `NumPy's datetime64`. It is interchangeable with Python's `datetime` in most cases."
   ]
  },
  {
   "cell_type": "markdown",
   "metadata": {},
   "source": [
    "**`DatetimeIndex` is a `pandas` index object formed by combining multiple entries of `Timestamp` objects.**\n",
    "\n",
    "***Some use cases which you can try on your own time if you wish.***\n",
    "\n",
    "```python\n",
    "## Native Python\n",
    "import datetime\n",
    "a = datetime.datetime(year=2018, month=6, day=10)\n",
    "print(\"a = \", a, type(a))\n",
    "\n",
    "a2 = datetime.datetime.now()\n",
    "print(\"a2 = \", a2, type(a2))\n",
    "\n",
    "a3 = datetime.datetime.now().date()\n",
    "print(\"a3 = \", a3, type(a3))\n",
    "\n",
    "a3.strftime(\"%A\")\n",
    "a2.strftime(\"%a\")\n",
    "\n",
    "a4date = \"18 Nov 2011\"\n",
    "a4 = datetime.datetime.strptime(a4date,\"%d %b %Y\").date()\n",
    "\n",
    "from dateutil import parser\n",
    "a5 = parser.parse(\"10th Oct 2014\")\n",
    "a5\n",
    "print(\"a5 = \", a5, type(a5))\n",
    "```"
   ]
  },
  {
   "cell_type": "code",
   "execution_count": 2,
   "metadata": {},
   "outputs": [],
   "source": [
    "import datetime"
   ]
  },
  {
   "cell_type": "code",
   "execution_count": 3,
   "metadata": {},
   "outputs": [],
   "source": [
    "a = datetime.datetime(year=2018, month=6, day=10)"
   ]
  },
  {
   "cell_type": "code",
   "execution_count": 7,
   "metadata": {},
   "outputs": [
    {
     "data": {
      "text/plain": [
       "datetime.datetime"
      ]
     },
     "execution_count": 7,
     "metadata": {},
     "output_type": "execute_result"
    }
   ],
   "source": [
    "type(a)"
   ]
  },
  {
   "cell_type": "code",
   "execution_count": 8,
   "metadata": {},
   "outputs": [
    {
     "name": "stdout",
     "output_type": "stream",
     "text": [
      "2018-06-10 00:00:00 a <class 'datetime.datetime'>\n"
     ]
    }
   ],
   "source": [
    "import datetime\n",
    "a = datetime.datetime(year=2018, month=6, day=10)\n",
    "print(a, \"a\", type(a))"
   ]
  },
  {
   "cell_type": "code",
   "execution_count": 7,
   "metadata": {},
   "outputs": [
    {
     "name": "stdout",
     "output_type": "stream",
     "text": [
      "a2 =  2018-11-30 14:04:43.374000 <class 'datetime.datetime'>\n",
      "a3 =  2018-11-30 <class 'datetime.date'>\n"
     ]
    }
   ],
   "source": [
    "a2 = datetime.datetime.now()\n",
    "print(\"a2 = \", a2, type(a2))\n",
    "\n",
    "a3 = datetime.datetime.now().date()\n",
    "print(\"a3 = \", a3, type(a3))"
   ]
  },
  {
   "cell_type": "code",
   "execution_count": 10,
   "metadata": {},
   "outputs": [],
   "source": [
    "a2 = datetime.datetime.now()"
   ]
  },
  {
   "cell_type": "code",
   "execution_count": 12,
   "metadata": {},
   "outputs": [],
   "source": [
    "a3 = datetime.datetime.now().date()"
   ]
  },
  {
   "cell_type": "code",
   "execution_count": 13,
   "metadata": {},
   "outputs": [
    {
     "data": {
      "text/plain": [
       "datetime.date(2018, 12, 1)"
      ]
     },
     "execution_count": 13,
     "metadata": {},
     "output_type": "execute_result"
    }
   ],
   "source": [
    "a3"
   ]
  },
  {
   "cell_type": "code",
   "execution_count": 6,
   "metadata": {},
   "outputs": [
    {
     "name": "stdout",
     "output_type": "stream",
     "text": [
      "a =  2018-06-10 00:00:00 <class 'datetime.datetime'>\n"
     ]
    }
   ],
   "source": [
    "print(\"a = \", a, type(a))"
   ]
  },
  {
   "cell_type": "code",
   "execution_count": 15,
   "metadata": {},
   "outputs": [
    {
     "data": {
      "text/plain": [
       "'Saturday'"
      ]
     },
     "execution_count": 15,
     "metadata": {},
     "output_type": "execute_result"
    }
   ],
   "source": [
    "a3.strftime(\"%A\") # a shortform for the day (complete spelling)"
   ]
  },
  {
   "cell_type": "code",
   "execution_count": 16,
   "metadata": {},
   "outputs": [
    {
     "data": {
      "text/plain": [
       "'Sat'"
      ]
     },
     "execution_count": 16,
     "metadata": {},
     "output_type": "execute_result"
    }
   ],
   "source": [
    "a2.strftime(\"%a\") "
   ]
  },
  {
   "cell_type": "code",
   "execution_count": 17,
   "metadata": {},
   "outputs": [
    {
     "data": {
      "text/plain": [
       "'01 Dec 2018'"
      ]
     },
     "execution_count": 17,
     "metadata": {},
     "output_type": "execute_result"
    }
   ],
   "source": [
    "a2.strftime(\"%d %b %Y\") "
   ]
  },
  {
   "cell_type": "code",
   "execution_count": 18,
   "metadata": {
    "collapsed": true
   },
   "outputs": [],
   "source": [
    "a4date = \"18 Nov 2011\"\n",
    "a4 = datetime.datetime.strptime(a4date,\"%d %b %Y\").date()"
   ]
  },
  {
   "cell_type": "code",
   "execution_count": 20,
   "metadata": {},
   "outputs": [
    {
     "name": "stdout",
     "output_type": "stream",
     "text": [
      "a5 =  2014-10-10 00:00:00 <class 'datetime.datetime'>\n"
     ]
    }
   ],
   "source": [
    "from dateutil import parser\n",
    "a5 = parser.parse(\"10th Oct 2014\")\n",
    "a5\n",
    "print(\"a5 = \", a5, type(a5))"
   ]
  },
  {
   "cell_type": "code",
   "execution_count": null,
   "metadata": {
    "collapsed": true
   },
   "outputs": [],
   "source": [
    "a2 = datetime.datetime.now().date()"
   ]
  },
  {
   "cell_type": "code",
   "execution_count": null,
   "metadata": {
    "collapsed": true
   },
   "outputs": [],
   "source": [
    "from dateutil import parser"
   ]
  },
  {
   "cell_type": "code",
   "execution_count": 21,
   "metadata": {},
   "outputs": [
    {
     "data": {
      "text/plain": [
       "datetime.datetime"
      ]
     },
     "execution_count": 21,
     "metadata": {},
     "output_type": "execute_result"
    }
   ],
   "source": [
    "type(parser.parse(\"15th Sep 2016\"))"
   ]
  },
  {
   "cell_type": "markdown",
   "metadata": {},
   "source": [
    "```python\n",
    "## NumPy Datetimes\n",
    "\n",
    "import numpy as np\n",
    "b = np.datetime64(\"2016-04-15\")\n",
    "\n",
    "b2 = np.datetime64(\"2017-11\") # only specifying month and year\n",
    "\n",
    "b3 = np.arange('2015-08', '2015-09', dtype='datetime64[D]') # getting all the dates for a month\n",
    "\n",
    "np.datetime64('2018-01-01') + np.timedelta64(25, 'D')\n",
    "```"
   ]
  },
  {
   "cell_type": "code",
   "execution_count": 18,
   "metadata": {},
   "outputs": [],
   "source": [
    "b = np.datetime64(\"2016-04-15\")"
   ]
  },
  {
   "cell_type": "code",
   "execution_count": 19,
   "metadata": {},
   "outputs": [
    {
     "data": {
      "text/plain": [
       "numpy.datetime64('2016-04-15')"
      ]
     },
     "execution_count": 19,
     "metadata": {},
     "output_type": "execute_result"
    }
   ],
   "source": [
    "b"
   ]
  },
  {
   "cell_type": "code",
   "execution_count": 20,
   "metadata": {},
   "outputs": [],
   "source": [
    "b2 = np.datetime64(\"2017-11\") # only specifying month and year"
   ]
  },
  {
   "cell_type": "code",
   "execution_count": 21,
   "metadata": {},
   "outputs": [
    {
     "data": {
      "text/plain": [
       "numpy.datetime64('2017-11')"
      ]
     },
     "execution_count": 21,
     "metadata": {},
     "output_type": "execute_result"
    }
   ],
   "source": [
    "b2"
   ]
  },
  {
   "cell_type": "code",
   "execution_count": 22,
   "metadata": {
    "collapsed": true
   },
   "outputs": [],
   "source": [
    "import numpy as np\n",
    "b = np.datetime64(\"2016-04-15\")"
   ]
  },
  {
   "cell_type": "code",
   "execution_count": 23,
   "metadata": {
    "collapsed": true
   },
   "outputs": [
    {
     "data": {
      "text/plain": [
       "numpy.datetime64('2016-04-15')"
      ]
     },
     "execution_count": 23,
     "metadata": {},
     "output_type": "execute_result"
    }
   ],
   "source": [
    "b"
   ]
  },
  {
   "cell_type": "code",
   "execution_count": 24,
   "metadata": {
    "collapsed": true
   },
   "outputs": [],
   "source": [
    "b2 = np.datetime64(\"2017-11\") # only specifying month and year"
   ]
  },
  {
   "cell_type": "code",
   "execution_count": 25,
   "metadata": {
    "collapsed": true
   },
   "outputs": [
    {
     "data": {
      "text/plain": [
       "numpy.datetime64('2017-11')"
      ]
     },
     "execution_count": 25,
     "metadata": {},
     "output_type": "execute_result"
    }
   ],
   "source": [
    "b2"
   ]
  },
  {
   "cell_type": "code",
   "execution_count": 22,
   "metadata": {},
   "outputs": [],
   "source": [
    "b3 = np.arange('2015-08', '2015-09', dtype='datetime64[D]') # getting all the dates for a month"
   ]
  },
  {
   "cell_type": "code",
   "execution_count": 23,
   "metadata": {},
   "outputs": [
    {
     "data": {
      "text/plain": [
       "array(['2015-08-01', '2015-08-02', '2015-08-03', '2015-08-04',\n",
       "       '2015-08-05', '2015-08-06', '2015-08-07', '2015-08-08',\n",
       "       '2015-08-09', '2015-08-10', '2015-08-11', '2015-08-12',\n",
       "       '2015-08-13', '2015-08-14', '2015-08-15', '2015-08-16',\n",
       "       '2015-08-17', '2015-08-18', '2015-08-19', '2015-08-20',\n",
       "       '2015-08-21', '2015-08-22', '2015-08-23', '2015-08-24',\n",
       "       '2015-08-25', '2015-08-26', '2015-08-27', '2015-08-28',\n",
       "       '2015-08-29', '2015-08-30', '2015-08-31'], dtype='datetime64[D]')"
      ]
     },
     "execution_count": 23,
     "metadata": {},
     "output_type": "execute_result"
    }
   ],
   "source": [
    "b3"
   ]
  },
  {
   "cell_type": "code",
   "execution_count": 28,
   "metadata": {},
   "outputs": [
    {
     "data": {
      "text/plain": [
       "numpy.datetime64('2018-01-26')"
      ]
     },
     "execution_count": 28,
     "metadata": {},
     "output_type": "execute_result"
    }
   ],
   "source": [
    "np.datetime64('2018-01-01') + np.timedelta64(25, 'D')"
   ]
  },
  {
   "cell_type": "code",
   "execution_count": 24,
   "metadata": {},
   "outputs": [
    {
     "data": {
      "text/plain": [
       "31"
      ]
     },
     "execution_count": 24,
     "metadata": {},
     "output_type": "execute_result"
    }
   ],
   "source": [
    "len(b3)"
   ]
  },
  {
   "cell_type": "markdown",
   "metadata": {},
   "source": [
    "```python\n",
    "## pandas Timestamps\n",
    "\n",
    "import pandas as pd\n",
    "\n",
    "c = pd.to_datetime(\"10th Sept 2016\")\n",
    "c\n",
    "print(\"c\", type(c))\n",
    "c.strftime(\"%B\")\n",
    "\n",
    "c2 = c + pd.to_timedelta(np.arange(20), 'D')\n",
    "c2\n",
    "print(\"c2\", type(c2))\n",
    "\n",
    "c3 = pd.Timestamp('2017-03-15')\n",
    "c3\n",
    "print(\"c3\", type(c3))\n",
    "\n",
    "```\n",
    "\n",
    "You can read and try some examples on this from [here](https://jakevdp.github.io/PythonDataScienceHandbook/03.11-working-with-time-series.html)."
   ]
  },
  {
   "cell_type": "code",
   "execution_count": 29,
   "metadata": {
    "collapsed": true
   },
   "outputs": [],
   "source": [
    "c = pd.to_datetime(\"November 1 17\")"
   ]
  },
  {
   "cell_type": "code",
   "execution_count": 30,
   "metadata": {},
   "outputs": [
    {
     "data": {
      "text/plain": [
       "Timestamp('2017-11-01 00:00:00')"
      ]
     },
     "execution_count": 30,
     "metadata": {},
     "output_type": "execute_result"
    }
   ],
   "source": [
    "c"
   ]
  },
  {
   "cell_type": "code",
   "execution_count": 31,
   "metadata": {},
   "outputs": [
    {
     "data": {
      "text/plain": [
       "pandas._libs.tslib.Timestamp"
      ]
     },
     "execution_count": 31,
     "metadata": {},
     "output_type": "execute_result"
    }
   ],
   "source": [
    "type(c)"
   ]
  },
  {
   "cell_type": "code",
   "execution_count": 35,
   "metadata": {},
   "outputs": [
    {
     "data": {
      "text/plain": [
       "'01 November 17'"
      ]
     },
     "execution_count": 35,
     "metadata": {},
     "output_type": "execute_result"
    }
   ],
   "source": [
    "c.strftime(\"%d %B %y\")"
   ]
  },
  {
   "cell_type": "code",
   "execution_count": 36,
   "metadata": {},
   "outputs": [
    {
     "data": {
      "text/plain": [
       "DatetimeIndex(['2017-11-01', '2017-11-02', '2017-11-03', '2017-11-04',\n",
       "               '2017-11-05', '2017-11-06', '2017-11-07', '2017-11-08',\n",
       "               '2017-11-09', '2017-11-10', '2017-11-11', '2017-11-12',\n",
       "               '2017-11-13', '2017-11-14', '2017-11-15', '2017-11-16',\n",
       "               '2017-11-17', '2017-11-18', '2017-11-19', '2017-11-20'],\n",
       "              dtype='datetime64[ns]', freq=None)"
      ]
     },
     "execution_count": 36,
     "metadata": {},
     "output_type": "execute_result"
    }
   ],
   "source": [
    "c2 = c + pd.to_timedelta(np.arange(20), 'D')\n",
    "c2\n",
    "#print(\"c2 = \", c2, type(c2))"
   ]
  },
  {
   "cell_type": "code",
   "execution_count": 37,
   "metadata": {
    "collapsed": true
   },
   "outputs": [],
   "source": [
    "c3 = pd.Timestamp('2017-03-15')"
   ]
  },
  {
   "cell_type": "code",
   "execution_count": 40,
   "metadata": {},
   "outputs": [
    {
     "data": {
      "text/plain": [
       "Timestamp('2017-03-15 00:00:00')"
      ]
     },
     "execution_count": 40,
     "metadata": {},
     "output_type": "execute_result"
    }
   ],
   "source": [
    "c3"
   ]
  },
  {
   "cell_type": "markdown",
   "metadata": {},
   "source": [
    "### Downloading and loading the data in a pandas DataFrame\n",
    "\n",
    "We will now use the `pandas-datareader` to automatically download the required data for the Microsoft stock price. In case you're having trouble with the download, please use the `csv` file that's been provided to you and run the relevant code.\n",
    "\n",
    "\n",
    "```python\n",
    "\n",
    "end = datetime.datetime.now().date()\n",
    "start = end - pd.Timedelta(days = 365 * 10)\n",
    "df = web.DataReader(\"MSFT\", \"quandl\", start, end)\n",
    "\n",
    "## IMPORTANT: Please run the below line only if your pandas-datareader doesn't work\n",
    "\n",
    "df = pd.read_csv(\"MSFT.csv\", index_col=0, parse_dates=True)\n",
    "\n",
    "```"
   ]
  },
  {
   "cell_type": "code",
   "execution_count": 38,
   "metadata": {
    "collapsed": true
   },
   "outputs": [],
   "source": [
    "end = datetime.datetime.now().date()\n",
    "#end = pd.to_datetime(\"1st Aug 2018\")\n",
    "start = end - pd.Timedelta(days = 365 * 10)"
   ]
  },
  {
   "cell_type": "code",
   "execution_count": 40,
   "metadata": {},
   "outputs": [
    {
     "data": {
      "text/plain": [
       "(datetime.date(2008, 12, 3), datetime.date(2018, 12, 1))"
      ]
     },
     "execution_count": 40,
     "metadata": {},
     "output_type": "execute_result"
    }
   ],
   "source": [
    "start, end"
   ]
  },
  {
   "cell_type": "code",
   "execution_count": 45,
   "metadata": {
    "collapsed": true
   },
   "outputs": [
    {
     "name": "stdout",
     "output_type": "stream",
     "text": [
      "Wall time: 3.08 s\n"
     ]
    }
   ],
   "source": [
    "%time df = web.DataReader(\"MSFT\", \"quandl\", start, end)"
   ]
  },
  {
   "cell_type": "code",
   "execution_count": null,
   "metadata": {},
   "outputs": [],
   "source": []
  },
  {
   "cell_type": "code",
   "execution_count": 55,
   "metadata": {},
   "outputs": [],
   "source": [
    "df.to_csv(\"MSFT.csv\") #this is to save a downloaded file as a csv file"
   ]
  },
  {
   "cell_type": "code",
   "execution_count": 43,
   "metadata": {},
   "outputs": [],
   "source": [
    "df = pd.read_csv(\"MSFT.csv\", index_col=0, parse_dates=True)"
   ]
  },
  {
   "cell_type": "code",
   "execution_count": 46,
   "metadata": {},
   "outputs": [
    {
     "data": {
      "text/html": [
       "<div>\n",
       "<style scoped>\n",
       "    .dataframe tbody tr th:only-of-type {\n",
       "        vertical-align: middle;\n",
       "    }\n",
       "\n",
       "    .dataframe tbody tr th {\n",
       "        vertical-align: top;\n",
       "    }\n",
       "\n",
       "    .dataframe thead th {\n",
       "        text-align: right;\n",
       "    }\n",
       "</style>\n",
       "<table border=\"1\" class=\"dataframe\">\n",
       "  <thead>\n",
       "    <tr style=\"text-align: right;\">\n",
       "      <th></th>\n",
       "      <th>Open</th>\n",
       "      <th>High</th>\n",
       "      <th>Low</th>\n",
       "      <th>Close</th>\n",
       "      <th>Volume</th>\n",
       "      <th>ExDividend</th>\n",
       "      <th>SplitRatio</th>\n",
       "      <th>AdjOpen</th>\n",
       "      <th>AdjHigh</th>\n",
       "      <th>AdjLow</th>\n",
       "      <th>AdjClose</th>\n",
       "      <th>AdjVolume</th>\n",
       "    </tr>\n",
       "    <tr>\n",
       "      <th>Date</th>\n",
       "      <th></th>\n",
       "      <th></th>\n",
       "      <th></th>\n",
       "      <th></th>\n",
       "      <th></th>\n",
       "      <th></th>\n",
       "      <th></th>\n",
       "      <th></th>\n",
       "      <th></th>\n",
       "      <th></th>\n",
       "      <th></th>\n",
       "      <th></th>\n",
       "    </tr>\n",
       "  </thead>\n",
       "  <tbody>\n",
       "    <tr>\n",
       "      <th>2008-12-09</th>\n",
       "      <td>20.62</td>\n",
       "      <td>21.25</td>\n",
       "      <td>20.46</td>\n",
       "      <td>20.60</td>\n",
       "      <td>80484900.0</td>\n",
       "      <td>0.0</td>\n",
       "      <td>1.0</td>\n",
       "      <td>16.371163</td>\n",
       "      <td>16.871349</td>\n",
       "      <td>16.244132</td>\n",
       "      <td>16.355284</td>\n",
       "      <td>80484900.0</td>\n",
       "    </tr>\n",
       "    <tr>\n",
       "      <th>2008-12-08</th>\n",
       "      <td>20.35</td>\n",
       "      <td>21.25</td>\n",
       "      <td>20.14</td>\n",
       "      <td>21.01</td>\n",
       "      <td>107225000.0</td>\n",
       "      <td>0.0</td>\n",
       "      <td>1.0</td>\n",
       "      <td>16.156798</td>\n",
       "      <td>16.871349</td>\n",
       "      <td>15.990069</td>\n",
       "      <td>16.680802</td>\n",
       "      <td>107225000.0</td>\n",
       "    </tr>\n",
       "    <tr>\n",
       "      <th>2008-12-05</th>\n",
       "      <td>18.91</td>\n",
       "      <td>19.98</td>\n",
       "      <td>18.47</td>\n",
       "      <td>19.87</td>\n",
       "      <td>91996200.0</td>\n",
       "      <td>0.0</td>\n",
       "      <td>1.0</td>\n",
       "      <td>15.013516</td>\n",
       "      <td>15.863038</td>\n",
       "      <td>14.664180</td>\n",
       "      <td>15.775704</td>\n",
       "      <td>91996200.0</td>\n",
       "    </tr>\n",
       "    <tr>\n",
       "      <th>2008-12-04</th>\n",
       "      <td>19.40</td>\n",
       "      <td>19.92</td>\n",
       "      <td>18.79</td>\n",
       "      <td>19.11</td>\n",
       "      <td>78719200.0</td>\n",
       "      <td>0.0</td>\n",
       "      <td>1.0</td>\n",
       "      <td>15.402549</td>\n",
       "      <td>15.815401</td>\n",
       "      <td>14.918242</td>\n",
       "      <td>15.172305</td>\n",
       "      <td>78719200.0</td>\n",
       "    </tr>\n",
       "    <tr>\n",
       "      <th>2008-12-03</th>\n",
       "      <td>18.65</td>\n",
       "      <td>19.90</td>\n",
       "      <td>18.60</td>\n",
       "      <td>19.87</td>\n",
       "      <td>80961500.0</td>\n",
       "      <td>0.0</td>\n",
       "      <td>1.0</td>\n",
       "      <td>14.807090</td>\n",
       "      <td>15.799522</td>\n",
       "      <td>14.767393</td>\n",
       "      <td>15.775704</td>\n",
       "      <td>80961500.0</td>\n",
       "    </tr>\n",
       "  </tbody>\n",
       "</table>\n",
       "</div>"
      ],
      "text/plain": [
       "             Open   High    Low  Close       Volume  ExDividend  SplitRatio  \\\n",
       "Date                                                                          \n",
       "2008-12-09  20.62  21.25  20.46  20.60   80484900.0         0.0         1.0   \n",
       "2008-12-08  20.35  21.25  20.14  21.01  107225000.0         0.0         1.0   \n",
       "2008-12-05  18.91  19.98  18.47  19.87   91996200.0         0.0         1.0   \n",
       "2008-12-04  19.40  19.92  18.79  19.11   78719200.0         0.0         1.0   \n",
       "2008-12-03  18.65  19.90  18.60  19.87   80961500.0         0.0         1.0   \n",
       "\n",
       "              AdjOpen    AdjHigh     AdjLow   AdjClose    AdjVolume  \n",
       "Date                                                                 \n",
       "2008-12-09  16.371163  16.871349  16.244132  16.355284   80484900.0  \n",
       "2008-12-08  16.156798  16.871349  15.990069  16.680802  107225000.0  \n",
       "2008-12-05  15.013516  15.863038  14.664180  15.775704   91996200.0  \n",
       "2008-12-04  15.402549  15.815401  14.918242  15.172305   78719200.0  \n",
       "2008-12-03  14.807090  15.799522  14.767393  15.775704   80961500.0  "
      ]
     },
     "execution_count": 46,
     "metadata": {},
     "output_type": "execute_result"
    }
   ],
   "source": [
    "df.tail()"
   ]
  },
  {
   "cell_type": "markdown",
   "metadata": {},
   "source": [
    "Let's now examine `df`, our `pandas DataFrame` closely.\n",
    "\n",
    "```python\n",
    "\n",
    "df.head()\n",
    "df.tail()\n",
    "df.shape\n",
    "df.describe()\n",
    "df.info()\n",
    "```"
   ]
  },
  {
   "cell_type": "code",
   "execution_count": 47,
   "metadata": {},
   "outputs": [
    {
     "data": {
      "text/html": [
       "<div>\n",
       "<style scoped>\n",
       "    .dataframe tbody tr th:only-of-type {\n",
       "        vertical-align: middle;\n",
       "    }\n",
       "\n",
       "    .dataframe tbody tr th {\n",
       "        vertical-align: top;\n",
       "    }\n",
       "\n",
       "    .dataframe thead th {\n",
       "        text-align: right;\n",
       "    }\n",
       "</style>\n",
       "<table border=\"1\" class=\"dataframe\">\n",
       "  <thead>\n",
       "    <tr style=\"text-align: right;\">\n",
       "      <th></th>\n",
       "      <th>Open</th>\n",
       "      <th>High</th>\n",
       "      <th>Low</th>\n",
       "      <th>Close</th>\n",
       "      <th>Volume</th>\n",
       "      <th>ExDividend</th>\n",
       "      <th>SplitRatio</th>\n",
       "      <th>AdjOpen</th>\n",
       "      <th>AdjHigh</th>\n",
       "      <th>AdjLow</th>\n",
       "      <th>AdjClose</th>\n",
       "      <th>AdjVolume</th>\n",
       "    </tr>\n",
       "    <tr>\n",
       "      <th>Date</th>\n",
       "      <th></th>\n",
       "      <th></th>\n",
       "      <th></th>\n",
       "      <th></th>\n",
       "      <th></th>\n",
       "      <th></th>\n",
       "      <th></th>\n",
       "      <th></th>\n",
       "      <th></th>\n",
       "      <th></th>\n",
       "      <th></th>\n",
       "      <th></th>\n",
       "    </tr>\n",
       "  </thead>\n",
       "  <tbody>\n",
       "    <tr>\n",
       "      <th>2018-03-27</th>\n",
       "      <td>94.940</td>\n",
       "      <td>95.139</td>\n",
       "      <td>88.51</td>\n",
       "      <td>89.47</td>\n",
       "      <td>53704562.0</td>\n",
       "      <td>0.0</td>\n",
       "      <td>1.0</td>\n",
       "      <td>94.940</td>\n",
       "      <td>95.139</td>\n",
       "      <td>88.51</td>\n",
       "      <td>89.47</td>\n",
       "      <td>53704562.0</td>\n",
       "    </tr>\n",
       "    <tr>\n",
       "      <th>2018-03-26</th>\n",
       "      <td>90.610</td>\n",
       "      <td>94.000</td>\n",
       "      <td>90.40</td>\n",
       "      <td>93.78</td>\n",
       "      <td>55031149.0</td>\n",
       "      <td>0.0</td>\n",
       "      <td>1.0</td>\n",
       "      <td>90.610</td>\n",
       "      <td>94.000</td>\n",
       "      <td>90.40</td>\n",
       "      <td>93.78</td>\n",
       "      <td>55031149.0</td>\n",
       "    </tr>\n",
       "    <tr>\n",
       "      <th>2018-03-23</th>\n",
       "      <td>89.500</td>\n",
       "      <td>90.460</td>\n",
       "      <td>87.08</td>\n",
       "      <td>87.18</td>\n",
       "      <td>42159397.0</td>\n",
       "      <td>0.0</td>\n",
       "      <td>1.0</td>\n",
       "      <td>89.500</td>\n",
       "      <td>90.460</td>\n",
       "      <td>87.08</td>\n",
       "      <td>87.18</td>\n",
       "      <td>42159397.0</td>\n",
       "    </tr>\n",
       "    <tr>\n",
       "      <th>2018-03-22</th>\n",
       "      <td>91.265</td>\n",
       "      <td>91.750</td>\n",
       "      <td>89.66</td>\n",
       "      <td>89.79</td>\n",
       "      <td>37578166.0</td>\n",
       "      <td>0.0</td>\n",
       "      <td>1.0</td>\n",
       "      <td>91.265</td>\n",
       "      <td>91.750</td>\n",
       "      <td>89.66</td>\n",
       "      <td>89.79</td>\n",
       "      <td>37578166.0</td>\n",
       "    </tr>\n",
       "    <tr>\n",
       "      <th>2018-03-21</th>\n",
       "      <td>92.930</td>\n",
       "      <td>94.050</td>\n",
       "      <td>92.21</td>\n",
       "      <td>92.48</td>\n",
       "      <td>23753263.0</td>\n",
       "      <td>0.0</td>\n",
       "      <td>1.0</td>\n",
       "      <td>92.930</td>\n",
       "      <td>94.050</td>\n",
       "      <td>92.21</td>\n",
       "      <td>92.48</td>\n",
       "      <td>23753263.0</td>\n",
       "    </tr>\n",
       "  </tbody>\n",
       "</table>\n",
       "</div>"
      ],
      "text/plain": [
       "              Open    High    Low  Close      Volume  ExDividend  SplitRatio  \\\n",
       "Date                                                                           \n",
       "2018-03-27  94.940  95.139  88.51  89.47  53704562.0         0.0         1.0   \n",
       "2018-03-26  90.610  94.000  90.40  93.78  55031149.0         0.0         1.0   \n",
       "2018-03-23  89.500  90.460  87.08  87.18  42159397.0         0.0         1.0   \n",
       "2018-03-22  91.265  91.750  89.66  89.79  37578166.0         0.0         1.0   \n",
       "2018-03-21  92.930  94.050  92.21  92.48  23753263.0         0.0         1.0   \n",
       "\n",
       "            AdjOpen  AdjHigh  AdjLow  AdjClose   AdjVolume  \n",
       "Date                                                        \n",
       "2018-03-27   94.940   95.139   88.51     89.47  53704562.0  \n",
       "2018-03-26   90.610   94.000   90.40     93.78  55031149.0  \n",
       "2018-03-23   89.500   90.460   87.08     87.18  42159397.0  \n",
       "2018-03-22   91.265   91.750   89.66     89.79  37578166.0  \n",
       "2018-03-21   92.930   94.050   92.21     92.48  23753263.0  "
      ]
     },
     "execution_count": 47,
     "metadata": {},
     "output_type": "execute_result"
    }
   ],
   "source": [
    "df.head()"
   ]
  },
  {
   "cell_type": "code",
   "execution_count": 48,
   "metadata": {},
   "outputs": [
    {
     "data": {
      "text/plain": [
       "(2343, 12)"
      ]
     },
     "execution_count": 48,
     "metadata": {},
     "output_type": "execute_result"
    }
   ],
   "source": [
    "df.shape"
   ]
  },
  {
   "cell_type": "code",
   "execution_count": 49,
   "metadata": {},
   "outputs": [
    {
     "data": {
      "text/html": [
       "<div>\n",
       "<style scoped>\n",
       "    .dataframe tbody tr th:only-of-type {\n",
       "        vertical-align: middle;\n",
       "    }\n",
       "\n",
       "    .dataframe tbody tr th {\n",
       "        vertical-align: top;\n",
       "    }\n",
       "\n",
       "    .dataframe thead th {\n",
       "        text-align: right;\n",
       "    }\n",
       "</style>\n",
       "<table border=\"1\" class=\"dataframe\">\n",
       "  <thead>\n",
       "    <tr style=\"text-align: right;\">\n",
       "      <th></th>\n",
       "      <th>Open</th>\n",
       "      <th>High</th>\n",
       "      <th>Low</th>\n",
       "      <th>Close</th>\n",
       "      <th>Volume</th>\n",
       "      <th>ExDividend</th>\n",
       "      <th>SplitRatio</th>\n",
       "      <th>AdjOpen</th>\n",
       "      <th>AdjHigh</th>\n",
       "      <th>AdjLow</th>\n",
       "      <th>AdjClose</th>\n",
       "      <th>AdjVolume</th>\n",
       "    </tr>\n",
       "  </thead>\n",
       "  <tbody>\n",
       "    <tr>\n",
       "      <th>count</th>\n",
       "      <td>2343.000000</td>\n",
       "      <td>2343.000000</td>\n",
       "      <td>2343.000000</td>\n",
       "      <td>2343.000000</td>\n",
       "      <td>2.343000e+03</td>\n",
       "      <td>2343.000000</td>\n",
       "      <td>2343.0</td>\n",
       "      <td>2343.000000</td>\n",
       "      <td>2343.000000</td>\n",
       "      <td>2343.000000</td>\n",
       "      <td>2343.000000</td>\n",
       "      <td>2.343000e+03</td>\n",
       "    </tr>\n",
       "    <tr>\n",
       "      <th>mean</th>\n",
       "      <td>40.520195</td>\n",
       "      <td>40.871523</td>\n",
       "      <td>40.170986</td>\n",
       "      <td>40.540329</td>\n",
       "      <td>4.489336e+07</td>\n",
       "      <td>0.003863</td>\n",
       "      <td>1.0</td>\n",
       "      <td>37.253141</td>\n",
       "      <td>37.573103</td>\n",
       "      <td>36.934689</td>\n",
       "      <td>37.271378</td>\n",
       "      <td>4.489336e+07</td>\n",
       "    </tr>\n",
       "    <tr>\n",
       "      <th>std</th>\n",
       "      <td>17.651417</td>\n",
       "      <td>17.758138</td>\n",
       "      <td>17.531638</td>\n",
       "      <td>17.649341</td>\n",
       "      <td>2.529837e+07</td>\n",
       "      <td>0.033052</td>\n",
       "      <td>0.0</td>\n",
       "      <td>18.924686</td>\n",
       "      <td>19.046591</td>\n",
       "      <td>18.790286</td>\n",
       "      <td>18.923382</td>\n",
       "      <td>2.529837e+07</td>\n",
       "    </tr>\n",
       "    <tr>\n",
       "      <th>min</th>\n",
       "      <td>15.200000</td>\n",
       "      <td>15.620000</td>\n",
       "      <td>14.870000</td>\n",
       "      <td>15.150000</td>\n",
       "      <td>7.425503e+06</td>\n",
       "      <td>0.000000</td>\n",
       "      <td>1.0</td>\n",
       "      <td>12.154701</td>\n",
       "      <td>12.490554</td>\n",
       "      <td>11.890816</td>\n",
       "      <td>12.114718</td>\n",
       "      <td>7.425503e+06</td>\n",
       "    </tr>\n",
       "    <tr>\n",
       "      <th>25%</th>\n",
       "      <td>27.050000</td>\n",
       "      <td>27.260000</td>\n",
       "      <td>26.765000</td>\n",
       "      <td>27.025000</td>\n",
       "      <td>2.742071e+07</td>\n",
       "      <td>0.000000</td>\n",
       "      <td>1.0</td>\n",
       "      <td>22.843016</td>\n",
       "      <td>23.075755</td>\n",
       "      <td>22.554106</td>\n",
       "      <td>22.817523</td>\n",
       "      <td>2.742071e+07</td>\n",
       "    </tr>\n",
       "    <tr>\n",
       "      <th>50%</th>\n",
       "      <td>33.480000</td>\n",
       "      <td>33.900000</td>\n",
       "      <td>33.260000</td>\n",
       "      <td>33.640000</td>\n",
       "      <td>3.982610e+07</td>\n",
       "      <td>0.000000</td>\n",
       "      <td>1.0</td>\n",
       "      <td>29.920808</td>\n",
       "      <td>30.225300</td>\n",
       "      <td>29.726584</td>\n",
       "      <td>29.980012</td>\n",
       "      <td>3.982610e+07</td>\n",
       "    </tr>\n",
       "    <tr>\n",
       "      <th>75%</th>\n",
       "      <td>50.440000</td>\n",
       "      <td>50.800000</td>\n",
       "      <td>49.820000</td>\n",
       "      <td>50.435000</td>\n",
       "      <td>5.558070e+07</td>\n",
       "      <td>0.000000</td>\n",
       "      <td>1.0</td>\n",
       "      <td>48.511141</td>\n",
       "      <td>48.981096</td>\n",
       "      <td>47.940567</td>\n",
       "      <td>48.388455</td>\n",
       "      <td>5.558070e+07</td>\n",
       "    </tr>\n",
       "    <tr>\n",
       "      <th>max</th>\n",
       "      <td>97.000000</td>\n",
       "      <td>97.240000</td>\n",
       "      <td>96.040000</td>\n",
       "      <td>96.770000</td>\n",
       "      <td>3.193179e+08</td>\n",
       "      <td>0.420000</td>\n",
       "      <td>1.0</td>\n",
       "      <td>97.000000</td>\n",
       "      <td>97.240000</td>\n",
       "      <td>96.040000</td>\n",
       "      <td>96.770000</td>\n",
       "      <td>3.193179e+08</td>\n",
       "    </tr>\n",
       "  </tbody>\n",
       "</table>\n",
       "</div>"
      ],
      "text/plain": [
       "              Open         High          Low        Close        Volume  \\\n",
       "count  2343.000000  2343.000000  2343.000000  2343.000000  2.343000e+03   \n",
       "mean     40.520195    40.871523    40.170986    40.540329  4.489336e+07   \n",
       "std      17.651417    17.758138    17.531638    17.649341  2.529837e+07   \n",
       "min      15.200000    15.620000    14.870000    15.150000  7.425503e+06   \n",
       "25%      27.050000    27.260000    26.765000    27.025000  2.742071e+07   \n",
       "50%      33.480000    33.900000    33.260000    33.640000  3.982610e+07   \n",
       "75%      50.440000    50.800000    49.820000    50.435000  5.558070e+07   \n",
       "max      97.000000    97.240000    96.040000    96.770000  3.193179e+08   \n",
       "\n",
       "        ExDividend  SplitRatio      AdjOpen      AdjHigh       AdjLow  \\\n",
       "count  2343.000000      2343.0  2343.000000  2343.000000  2343.000000   \n",
       "mean      0.003863         1.0    37.253141    37.573103    36.934689   \n",
       "std       0.033052         0.0    18.924686    19.046591    18.790286   \n",
       "min       0.000000         1.0    12.154701    12.490554    11.890816   \n",
       "25%       0.000000         1.0    22.843016    23.075755    22.554106   \n",
       "50%       0.000000         1.0    29.920808    30.225300    29.726584   \n",
       "75%       0.000000         1.0    48.511141    48.981096    47.940567   \n",
       "max       0.420000         1.0    97.000000    97.240000    96.040000   \n",
       "\n",
       "          AdjClose     AdjVolume  \n",
       "count  2343.000000  2.343000e+03  \n",
       "mean     37.271378  4.489336e+07  \n",
       "std      18.923382  2.529837e+07  \n",
       "min      12.114718  7.425503e+06  \n",
       "25%      22.817523  2.742071e+07  \n",
       "50%      29.980012  3.982610e+07  \n",
       "75%      48.388455  5.558070e+07  \n",
       "max      96.770000  3.193179e+08  "
      ]
     },
     "execution_count": 49,
     "metadata": {},
     "output_type": "execute_result"
    }
   ],
   "source": [
    "df.describe()"
   ]
  },
  {
   "cell_type": "code",
   "execution_count": 50,
   "metadata": {},
   "outputs": [
    {
     "name": "stdout",
     "output_type": "stream",
     "text": [
      "<class 'pandas.core.frame.DataFrame'>\n",
      "DatetimeIndex: 2343 entries, 2018-03-27 to 2008-12-03\n",
      "Data columns (total 12 columns):\n",
      "Open          2343 non-null float64\n",
      "High          2343 non-null float64\n",
      "Low           2343 non-null float64\n",
      "Close         2343 non-null float64\n",
      "Volume        2343 non-null float64\n",
      "ExDividend    2343 non-null float64\n",
      "SplitRatio    2343 non-null float64\n",
      "AdjOpen       2343 non-null float64\n",
      "AdjHigh       2343 non-null float64\n",
      "AdjLow        2343 non-null float64\n",
      "AdjClose      2343 non-null float64\n",
      "AdjVolume     2343 non-null float64\n",
      "dtypes: float64(12)\n",
      "memory usage: 238.0 KB\n"
     ]
    }
   ],
   "source": [
    "df.info()"
   ]
  },
  {
   "cell_type": "markdown",
   "metadata": {},
   "source": [
    "You'll notice that sometimes the order of entries is from the latest to the oldest. This is the way in which data gets downloaded via Quandl. We will encounter quirks such as these with different data vendors. And a significant part of our job when we work on programming quant trading strategies, is data munging and cleaning.\n",
    "\n",
    "```python\n",
    "# We reindex our dataframe so as to get the data ordered the way we'd prefer\n",
    "\n",
    "df = df.reindex(index=df.index[::-1])\n",
    "# df = df[::-1] # this also works\n",
    "df.head()\n",
    "df.tail()\n",
    "\n",
    "```"
   ]
  },
  {
   "cell_type": "code",
   "execution_count": 51,
   "metadata": {
    "collapsed": true
   },
   "outputs": [],
   "source": [
    "df = df[::-1]"
   ]
  },
  {
   "cell_type": "code",
   "execution_count": 52,
   "metadata": {},
   "outputs": [
    {
     "data": {
      "text/html": [
       "<div>\n",
       "<style scoped>\n",
       "    .dataframe tbody tr th:only-of-type {\n",
       "        vertical-align: middle;\n",
       "    }\n",
       "\n",
       "    .dataframe tbody tr th {\n",
       "        vertical-align: top;\n",
       "    }\n",
       "\n",
       "    .dataframe thead th {\n",
       "        text-align: right;\n",
       "    }\n",
       "</style>\n",
       "<table border=\"1\" class=\"dataframe\">\n",
       "  <thead>\n",
       "    <tr style=\"text-align: right;\">\n",
       "      <th></th>\n",
       "      <th>Open</th>\n",
       "      <th>High</th>\n",
       "      <th>Low</th>\n",
       "      <th>Close</th>\n",
       "      <th>Volume</th>\n",
       "      <th>ExDividend</th>\n",
       "      <th>SplitRatio</th>\n",
       "      <th>AdjOpen</th>\n",
       "      <th>AdjHigh</th>\n",
       "      <th>AdjLow</th>\n",
       "      <th>AdjClose</th>\n",
       "      <th>AdjVolume</th>\n",
       "    </tr>\n",
       "    <tr>\n",
       "      <th>Date</th>\n",
       "      <th></th>\n",
       "      <th></th>\n",
       "      <th></th>\n",
       "      <th></th>\n",
       "      <th></th>\n",
       "      <th></th>\n",
       "      <th></th>\n",
       "      <th></th>\n",
       "      <th></th>\n",
       "      <th></th>\n",
       "      <th></th>\n",
       "      <th></th>\n",
       "    </tr>\n",
       "  </thead>\n",
       "  <tbody>\n",
       "    <tr>\n",
       "      <th>2008-12-03</th>\n",
       "      <td>18.65</td>\n",
       "      <td>19.90</td>\n",
       "      <td>18.60</td>\n",
       "      <td>19.87</td>\n",
       "      <td>80961500.0</td>\n",
       "      <td>0.0</td>\n",
       "      <td>1.0</td>\n",
       "      <td>14.807090</td>\n",
       "      <td>15.799522</td>\n",
       "      <td>14.767393</td>\n",
       "      <td>15.775704</td>\n",
       "      <td>80961500.0</td>\n",
       "    </tr>\n",
       "    <tr>\n",
       "      <th>2008-12-04</th>\n",
       "      <td>19.40</td>\n",
       "      <td>19.92</td>\n",
       "      <td>18.79</td>\n",
       "      <td>19.11</td>\n",
       "      <td>78719200.0</td>\n",
       "      <td>0.0</td>\n",
       "      <td>1.0</td>\n",
       "      <td>15.402549</td>\n",
       "      <td>15.815401</td>\n",
       "      <td>14.918242</td>\n",
       "      <td>15.172305</td>\n",
       "      <td>78719200.0</td>\n",
       "    </tr>\n",
       "    <tr>\n",
       "      <th>2008-12-05</th>\n",
       "      <td>18.91</td>\n",
       "      <td>19.98</td>\n",
       "      <td>18.47</td>\n",
       "      <td>19.87</td>\n",
       "      <td>91996200.0</td>\n",
       "      <td>0.0</td>\n",
       "      <td>1.0</td>\n",
       "      <td>15.013516</td>\n",
       "      <td>15.863038</td>\n",
       "      <td>14.664180</td>\n",
       "      <td>15.775704</td>\n",
       "      <td>91996200.0</td>\n",
       "    </tr>\n",
       "    <tr>\n",
       "      <th>2008-12-08</th>\n",
       "      <td>20.35</td>\n",
       "      <td>21.25</td>\n",
       "      <td>20.14</td>\n",
       "      <td>21.01</td>\n",
       "      <td>107225000.0</td>\n",
       "      <td>0.0</td>\n",
       "      <td>1.0</td>\n",
       "      <td>16.156798</td>\n",
       "      <td>16.871349</td>\n",
       "      <td>15.990069</td>\n",
       "      <td>16.680802</td>\n",
       "      <td>107225000.0</td>\n",
       "    </tr>\n",
       "    <tr>\n",
       "      <th>2008-12-09</th>\n",
       "      <td>20.62</td>\n",
       "      <td>21.25</td>\n",
       "      <td>20.46</td>\n",
       "      <td>20.60</td>\n",
       "      <td>80484900.0</td>\n",
       "      <td>0.0</td>\n",
       "      <td>1.0</td>\n",
       "      <td>16.371163</td>\n",
       "      <td>16.871349</td>\n",
       "      <td>16.244132</td>\n",
       "      <td>16.355284</td>\n",
       "      <td>80484900.0</td>\n",
       "    </tr>\n",
       "  </tbody>\n",
       "</table>\n",
       "</div>"
      ],
      "text/plain": [
       "             Open   High    Low  Close       Volume  ExDividend  SplitRatio  \\\n",
       "Date                                                                          \n",
       "2008-12-03  18.65  19.90  18.60  19.87   80961500.0         0.0         1.0   \n",
       "2008-12-04  19.40  19.92  18.79  19.11   78719200.0         0.0         1.0   \n",
       "2008-12-05  18.91  19.98  18.47  19.87   91996200.0         0.0         1.0   \n",
       "2008-12-08  20.35  21.25  20.14  21.01  107225000.0         0.0         1.0   \n",
       "2008-12-09  20.62  21.25  20.46  20.60   80484900.0         0.0         1.0   \n",
       "\n",
       "              AdjOpen    AdjHigh     AdjLow   AdjClose    AdjVolume  \n",
       "Date                                                                 \n",
       "2008-12-03  14.807090  15.799522  14.767393  15.775704   80961500.0  \n",
       "2008-12-04  15.402549  15.815401  14.918242  15.172305   78719200.0  \n",
       "2008-12-05  15.013516  15.863038  14.664180  15.775704   91996200.0  \n",
       "2008-12-08  16.156798  16.871349  15.990069  16.680802  107225000.0  \n",
       "2008-12-09  16.371163  16.871349  16.244132  16.355284   80484900.0  "
      ]
     },
     "execution_count": 52,
     "metadata": {},
     "output_type": "execute_result"
    }
   ],
   "source": [
    "df.head()"
   ]
  },
  {
   "cell_type": "markdown",
   "metadata": {},
   "source": [
    "### Visualizing your Data\n",
    "\n",
    "Let me remind you that [Matplotlib](https://matplotlib.org/) is a plotting library extensively used in quantitative finance and other fields to produce pretty graphs and figures. We'll be primarily using it as a visualization tool.\n",
    "\n",
    "Visualizing is a nice way to get a 'feel' for your dataset and understand the story that your data tells you.\n",
    "\n",
    "We'll first take a look at the `matplotlib` library's `plot()` function.\n",
    "\n",
    "You can think of it as a quick and dirty way (this method would be like comfort food for MATLAB users who are used to this kind of API) to get a visual representation of your data. \n",
    "\n",
    "The below method uses a MATLAB-style API. It's easy and convenient but it comes at a cost. The simpler customizations that you may want such as manipulating the axes, adding labels, etc. can be easily done. \n",
    "\n",
    "However, if you want to say, change the font used, plot multiple charts in one figure, use LaTeX for scientific notations, etc., you'll need to use the other method (let's call it the Python-style API for convenience).\n",
    "```python\n",
    "\n",
    "plt.figure(figsize=(14, 9))\n",
    "plt.plot(df['High'], linewidth=0.5, label='High')\n",
    "plt.plot(df['Low'], linewidth=0.5, label='Low')\n",
    "plt.plot(df['Adj Close'], linewidth=0.5, label='Adjusted Close')\n",
    "plt.grid(True)\n",
    "plt.title('Tracking the Microsoft Stock Price')\n",
    "plt.xlabel('Time')\n",
    "plt.ylabel('Price')\n",
    "#plt.axis('tight')\n",
    "plt.tight_layout()\n",
    "plt.legend()\n",
    "plt.show()\n",
    "\n",
    "```"
   ]
  },
  {
   "cell_type": "code",
   "execution_count": 57,
   "metadata": {},
   "outputs": [
    {
     "data": {
      "image/png": "[encoded data removed]",
      "text/plain": [
       "<matplotlib.figure.Figure at 0xa636780>"
      ]
     },
     "metadata": {},
     "output_type": "display_data"
    }
   ],
   "source": [
    "plt.figure(figsize=(14, 9))\n",
    "plt.plot(df['AdjHigh'], label='High', color='black')\n",
    "plt.plot(df['AdjLow'], label='Low', color='cyan')\n",
    "plt.plot(df['AdjClose'], label='Adjusted Close', color='pink')\n",
    "plt.grid(True)\n",
    "plt.title('Tracking the Microsoft Stock Price')\n",
    "plt.xlabel('Time')\n",
    "plt.ylabel('Price')\n",
    "#plt.axis('tight')\n",
    "#plt.tight_layout()\n",
    "plt.legend()\n",
    "plt.show()"
   ]
  },
  {
   "cell_type": "markdown",
   "metadata": {},
   "source": [
    "The Python-syle API exploits the Object Oriented API style of Python. I've provided two illustrative examples below. Notice the difference in styles.\n",
    "There's a bit more typing to do here. It may not appear obvious why this is a better method in the long run. Suffice to say that as you start producing more complex charts, the more explicit use of objects makes it more customizable to suit your needs.\n",
    "\n",
    "We will not be using this method for today. However, I'm flagging it as a topic that can be explored as you get better at writing programs. [This](http://www.scipy-lectures.org/intro/matplotlib/index.html) is a good place to rev up your charting skills.\n",
    "\n",
    "```python\n",
    "fig, ax = plt.subplots(nrows=1, ncols=1, figsize=(14, 9))\n",
    "### subplots() creates axes on a chart\n",
    "for i in ['AdjHigh', 'AdjLow', 'AdjClose']:\n",
    "    curr_label = i\n",
    "    ax.plot(df[i], linewidth=0.5, label=curr_label)\n",
    "ax.legend()\n",
    "ax.grid()\n",
    "ax.set\n",
    "plt.show()\n",
    "\n",
    "\n",
    "fig = plt.figure(figsize=(12, 9))\n",
    "grid = plt.GridSpec(4, 4, wspace=0.25, hspace=0.35)\n",
    "price_ax = fig.add_subplot(grid[0:3, :])\n",
    "vol_ax = fig.add_subplot(grid[3, :])\n",
    "\n",
    "price_ax.plot()\n",
    "for i in ['High', 'Low', 'Adj Close']:\n",
    "    curr_label = i\n",
    "    price_ax.plot(df[i], linewidth=1, label=curr_label)\n",
    "price_ax.legend()\n",
    "price_ax.grid()\n",
    "\n",
    "vol_ax.plot(df['Volume'])\n",
    "vol_ax.grid()\n",
    "plt.show()\n",
    "\n",
    "```"
   ]
  },
  {
   "cell_type": "code",
   "execution_count": 58,
   "metadata": {},
   "outputs": [
    {
     "data": {
      "image/png": "[encoded data removed]",
      "text/plain": [
       "<matplotlib.figure.Figure at 0x9066630>"
      ]
     },
     "metadata": {},
     "output_type": "display_data"
    }
   ],
   "source": [
    "fig, ax = plt.subplots(nrows=1, ncols=1, figsize=(14, 9))\n",
    "### subplots() creates axes on a chart\n",
    "for i in ['AdjHigh', 'AdjLow', 'AdjClose']:\n",
    "    curr_label = i\n",
    "    ax.plot(df[i], linewidth=1, label=curr_label)\n",
    "ax.legend()\n",
    "ax.grid()\n",
    "ax.set\n",
    "plt.show()"
   ]
  },
  {
   "cell_type": "code",
   "execution_count": 63,
   "metadata": {},
   "outputs": [
    {
     "data": {
      "image/png": "[encoded data removed]",
      "text/plain": [
       "<matplotlib.figure.Figure at 0xab88198>"
      ]
     },
     "metadata": {},
     "output_type": "display_data"
    }
   ],
   "source": [
    "fig = plt.figure(figsize=(12, 9))\n",
    "grid = plt.GridSpec(4, 4, wspace=0.25, hspace=0.35)\n",
    "price_ax = fig.add_subplot(grid[0:3, :])\n",
    "vol_ax = fig.add_subplot(grid[3, :])\n",
    "\n",
    "price_ax.plot()\n",
    "for i in ['AdjHigh', 'AdjLow', 'AdjClose']:\n",
    "    curr_label = i\n",
    "    price_ax.plot(df[i], linewidth=1, label=curr_label)\n",
    "price_ax.legend()\n",
    "price_ax.grid()\n",
    "\n",
    "vol_ax.plot(df['Volume'])\n",
    "vol_ax.grid()\n",
    "plt.show()"
   ]
  },
  {
   "cell_type": "markdown",
   "metadata": {},
   "source": [
    "An even quicker way to plot graphs when you're dealing with `pandas` is the `.plot()` method directly as shown. The `.plot()` method is a wrapper around `matplotlib's` `plot()` function.\n",
    "\n",
    "```python\n",
    "\n",
    "df[['AdjHigh', 'AdjLow', 'AdjClose']].plot(grid=True, linewidth=0.5, figsize=(14, 9 ))\n",
    "df['AdjVolume'].plot(grid=True, linewidth=0.5, figsize=(14, 9))\n",
    "```"
   ]
  },
  {
   "cell_type": "code",
   "execution_count": 62,
   "metadata": {},
   "outputs": [
    {
     "data": {
      "text/plain": [
       "<matplotlib.axes._subplots.AxesSubplot at 0xa658588>"
      ]
     },
     "execution_count": 62,
     "metadata": {},
     "output_type": "execute_result"
    },
    {
     "data": {
      "image/png": "[encoded data removed]",
      "text/plain": [
       "<matplotlib.figure.Figure at 0xa23bac8>"
      ]
     },
     "metadata": {},
     "output_type": "display_data"
    }
   ],
   "source": [
    "%matplotlib inline\n",
    "df[['AdjHigh', 'AdjLow', 'AdjClose']].plot(grid=True, linewidth=1.5, figsize=(14, 9))\n",
    "df['Volume'].plot(grid=True, linewidth=1, figsize=(14, 9))"
   ]
  },
  {
   "cell_type": "markdown",
   "metadata": {},
   "source": [
    "### Strategy # 1: The Modified Faber Strategy\n",
    "\n",
    "One of the most downloaded papers on the SSRN portal is [A Quantitative Approach to Tactical Asset Allocation](https://papers.ssrn.com/sol3/papers.cfm?abstract_id=962461) by Meb Faber. We shall refer to this approach as the 'Faber strategy'.\n",
    "\n",
    "We modify the Faber strategy to demonstrate a somewhat simplified version of the same.\n",
    "\n",
    "We shall compute the 200-day Simple Moving Average (henceforth referred to as 'SMA200' or '10-month SMA') and compare it with the Close prices each day. There are two conditions which we shall check each day.\n",
    "\n",
    "1. If the price is greater than the SMA200, we will buy one Microsoft stock. We shall then continue to stay invested until the Close price dips below SMA200.\n",
    "\n",
    "2. When this happens, we will sell our MSFT stock and stay out of the market until our first condition is again satisfied.\n",
    "\n",
    "Our trading rules can be stated as\n",
    "\n",
    "* Buy when Price > 10-month SMA (since there are approx. 200 trading days in 10 months)\n",
    "* Sell and move to Cash when Price < 10-month SMA\n",
    "\n",
    "\n",
    "\n"
   ]
  },
  {
   "cell_type": "markdown",
   "metadata": {},
   "source": [
    "```python\n",
    "df1 = df.copy()\n",
    "df2 = df.copy()\n",
    "df3 = df.copy()\n",
    "```"
   ]
  },
  {
   "cell_type": "code",
   "execution_count": 64,
   "metadata": {
    "collapsed": true
   },
   "outputs": [],
   "source": [
    "df1 = df.copy()\n",
    "df2 = df.copy()"
   ]
  },
  {
   "cell_type": "markdown",
   "metadata": {},
   "source": [
    "```python\n",
    "buyPrice = 0\n",
    "sellPrice = 0\n",
    "maWealth = 1.0\n",
    "cash = 1\n",
    "stock = 0\n",
    "sma = 200\n",
    "\n",
    "ma = np.round(df1['AdjClose'].rolling(window=sma, center=False).mean(), 2)\n",
    "n_days = len(df1['AdjClose'])\n",
    "\n",
    "# ma.iloc[sma-2:205]\n",
    "```"
   ]
  },
  {
   "cell_type": "code",
   "execution_count": 65,
   "metadata": {
    "collapsed": true
   },
   "outputs": [],
   "source": [
    "buyPrice = 0\n",
    "sellPrice = 0\n",
    "maWealth = 1.0\n",
    "cash = 1\n",
    "stock = 0\n",
    "sma = 200\n",
    "\n",
    "ma = np.round(df1['AdjClose'].rolling(window=sma, center=False).mean(), 2)\n",
    "n_days = len(df1['AdjClose'])"
   ]
  },
  {
   "cell_type": "markdown",
   "metadata": {},
   "source": [
    "```python\n",
    "\n",
    "closePrices = df1['AdjClose']\n",
    "\n",
    "buy_data = []\n",
    "sell_data = []\n",
    "\n",
    "trade_price = []\n",
    "\n",
    "wealth = []\n",
    "\n",
    "for d in range(sma-1, n_days):\n",
    "    # Buy if stock price > MA & if not bought yet\n",
    "    if closePrices[d] > ma[d] and cash == 1:\n",
    "        buyPrice = closePrices[d + 1]\n",
    "        buy_data.append(buyPrice)\n",
    "        trade_price.append(buyPrice)\n",
    "        cash = 0\n",
    "        stock = 1\n",
    "        \n",
    "    # Sell if stock price < MA and if you have a stock to sell\n",
    "    \n",
    "    if closePrices[d] < ma[d] and stock == 1:\n",
    "        sellPrice = closePrices[d + 1]\n",
    "        sell_data.append(sellPrice)\n",
    "        trade_price.append(sellPrice)\n",
    "        cash = 1\n",
    "        stock = 0\n",
    "        \n",
    "        maWealth = maWealth * (sellPrice / buyPrice)\n",
    "        wealth.append(maWealth)\n",
    "\n",
    "tp = pd.DataFrame(trade_price)\n",
    "wealth.insert(0, 1)\n",
    "w = pd.DataFrame(wealth)\n",
    "plt.plot(w)\n",
    "```"
   ]
  },
  {
   "cell_type": "code",
   "execution_count": 67,
   "metadata": {
    "collapsed": true
   },
   "outputs": [],
   "source": [
    "closePrices = df1['AdjClose']\n",
    "\n",
    "buy_data = []\n",
    "sell_data = []\n",
    "\n",
    "trade_price = []\n",
    "\n",
    "wealth = []\n",
    "\n",
    "for d in range(sma-1, n_days):\n",
    "    # Buy if stock price > MA & if not bought yet\n",
    "    if closePrices[d] > ma[d] and cash == 1:\n",
    "        buyPrice = closePrices[d + 1]\n",
    "        buy_data.append(buyPrice)\n",
    "        trade_price.append(buyPrice)\n",
    "        cash = 0\n",
    "        stock = 1\n",
    "\n",
    "    # Sell if stock price < MA and if you have a stock to sell\n",
    "\n",
    "    if closePrices[d] < ma[d] and stock == 1:\n",
    "        sellPrice = closePrices[d + 1]\n",
    "        sell_data.append(sellPrice)\n",
    "        trade_price.append(sellPrice)\n",
    "        cash = 1\n",
    "        stock = 0\n",
    "\n",
    "        maWealth = maWealth * (sellPrice / buyPrice)\n",
    "        wealth.append(maWealth)"
   ]
  },
  {
   "cell_type": "code",
   "execution_count": 68,
   "metadata": {},
   "outputs": [
    {
     "data": {
      "text/plain": [
       "31"
      ]
     },
     "execution_count": 68,
     "metadata": {},
     "output_type": "execute_result"
    }
   ],
   "source": [
    "len(wealth)"
   ]
  },
  {
   "cell_type": "code",
   "execution_count": 71,
   "metadata": {},
   "outputs": [
    {
     "data": {
      "text/plain": [
       "[1,\n",
       " 1.0752180679903365,\n",
       " 1.028503591870995,\n",
       " 0.99210509131195157,\n",
       " 0.98405788894905122,\n",
       " 0.97599184067897782,\n",
       " 0.9565839723365952,\n",
       " 0.93591479628535734,\n",
       " 0.93881798293533925,\n",
       " 0.95274268369709192,\n",
       " 0.94029331734593125,\n",
       " 0.9017625009584348,\n",
       " 0.89041308733083968,\n",
       " 0.84202837617023218,\n",
       " 0.80516920063029263,\n",
       " 0.80325819778066676,\n",
       " 0.80451035397362836,\n",
       " 0.93917901061305353,\n",
       " 0.93024660154472738,\n",
       " 0.92808165594736547,\n",
       " 0.92590525005401458,\n",
       " 1.3991308894400509,\n",
       " 1.3980202162458679,\n",
       " 1.2934569307241783,\n",
       " 1.1894966875939865,\n",
       " 1.3198198741744391,\n",
       " 1.322206049117693,\n",
       " 1.3472928425401338,\n",
       " 1.371248461063207,\n",
       " 1.3109998237678429,\n",
       " 1.3346538704018098,\n",
       " 1.2971560695075202]"
      ]
     },
     "execution_count": 71,
     "metadata": {},
     "output_type": "execute_result"
    }
   ],
   "source": [
    "wealth"
   ]
  },
  {
   "cell_type": "code",
   "execution_count": 70,
   "metadata": {},
   "outputs": [],
   "source": [
    "wealth.insert(0, 1)"
   ]
  },
  {
   "cell_type": "code",
   "execution_count": 73,
   "metadata": {},
   "outputs": [
    {
     "data": {
      "text/plain": [
       "[<matplotlib.lines.Line2D at 0xb7a86a0>]"
      ]
     },
     "execution_count": 73,
     "metadata": {},
     "output_type": "execute_result"
    },
    {
     "data": {
      "image/png": "[encoded data removed]",
      "text/plain": [
       "<matplotlib.figure.Figure at 0xb722898>"
      ]
     },
     "metadata": {},
     "output_type": "display_data"
    }
   ],
   "source": [
    "tp = pd.DataFrame(trade_price)\n",
    "wealth.insert(0, 1)\n",
    "w = pd.DataFrame(wealth)\n",
    "plt.plot(w)"
   ]
  },
  {
   "cell_type": "code",
   "execution_count": 72,
   "metadata": {},
   "outputs": [
    {
     "data": {
      "text/plain": [
       "[<matplotlib.lines.Line2D at 0xb7112b0>]"
      ]
     },
     "execution_count": 72,
     "metadata": {},
     "output_type": "execute_result"
    },
    {
     "data": {
      "image/png": "[encoded data removed]",
      "text/plain": [
       "<matplotlib.figure.Figure at 0xb68d828>"
      ]
     },
     "metadata": {},
     "output_type": "display_data"
    }
   ],
   "source": [
    "w = pd.DataFrame(wealth)\n",
    "plt.plot(w)"
   ]
  },
  {
   "cell_type": "code",
   "execution_count": 74,
   "metadata": {},
   "outputs": [
    {
     "data": {
      "text/plain": [
       "[<matplotlib.lines.Line2D at 0xb83eeb8>]"
      ]
     },
     "execution_count": 74,
     "metadata": {},
     "output_type": "execute_result"
    },
    {
     "data": {
      "image/png": "[encoded data removed]",
      "text/plain": [
       "<matplotlib.figure.Figure at 0xb736080>"
      ]
     },
     "metadata": {},
     "output_type": "display_data"
    }
   ],
   "source": [
    "plt.plot(tp)"
   ]
  },
  {
   "cell_type": "markdown",
   "metadata": {},
   "source": [
    "Plotting the 10-month SMA and the Close prices\n",
    "\n",
    "```python\n",
    "\n",
    "df1['SMA200'] = ma\n",
    "\n",
    "plt.figure(figsize=(14, 9))\n",
    "plt.plot(df1['AdjClose'], linewidth=0.5, label='Adjusted Close')\n",
    "plt.plot(df1['SMA200'], linewidth=0.5, label='200-day Moving Average')\n",
    "plt.grid(True)\n",
    "plt.title('Microsoft Stock Price History')\n",
    "plt.xlabel('Time')\n",
    "plt.ylabel('Price')\n",
    "#plt.axis('tight')\n",
    "#plt.tight_layout()\n",
    "plt.legend()\n",
    "plt.show()\n",
    "# %matplotlib inline\n",
    "# %matplotlib qt\n",
    "```\n"
   ]
  },
  {
   "cell_type": "code",
   "execution_count": 76,
   "metadata": {},
   "outputs": [
    {
     "data": {
      "image/png": "[encoded data removed]",
      "text/plain": [
       "<matplotlib.figure.Figure at 0xbf9e940>"
      ]
     },
     "metadata": {},
     "output_type": "display_data"
    }
   ],
   "source": [
    "df1['SMA200'] = ma\n",
    "\n",
    "plt.figure(figsize=(14, 9))\n",
    "plt.plot(df1['AdjClose'], linewidth=0.5, label='Adjusted Close')\n",
    "plt.plot(df1['SMA200'], linewidth=0.5, label='200-day Moving Average')\n",
    "plt.grid(True)\n",
    "plt.title('Microsoft Stock Price History')\n",
    "plt.xlabel('Time')\n",
    "plt.ylabel('Price')\n",
    "#plt.axis('tight')\n",
    "#plt.tight_layout()\n",
    "plt.legend()\n",
    "plt.show()"
   ]
  },
  {
   "cell_type": "markdown",
   "metadata": {},
   "source": [
    "### Strategy # 2: The Moving Average Crossover Strategy\n",
    "\n",
    "This is a well-known trading technique and considered to be the 'Hello World' of algorithmic/quantitative trading. It's essentially a way to take advantage of the momentum or trend in stock price movements.\n",
    "\n",
    "We shall have two SMA filters viz. the shorter lookback period SMA (henceforth referred to as  'SMA50') and the longer lookback period SMA (henceforth referred to as 'SMA150'). We will go long on Microsoft *at the first instance* when the SMA50 exceeds the SMA150. Similarly, we will go short on Microsoft, *at the first instance* when the SMA150 exceeds the SMA50. This strategy can work well when the price movements of the asset trend in a particular direction (upwards or downwards) persistently before slowly reversing their drift.\n",
    "\n",
    "Our trading rules can be stated as\n",
    "\n",
    "* Go long when SMA50 > SMA150 on a given day and SMA50 < SMA150 on the previous day\n",
    "* Go short when SMA50 < SMA150 on a given day and SMA50 > SMA150 on the previous day\n",
    "\n",
    "\n",
    "\n",
    "```python\n",
    "\n",
    "m = 50 # defining the shorter lookback period\n",
    "n = 150 # defining the longer lookback period\n",
    "\n",
    "df2['SMA50'] = df2['AdjClose'].rolling(window=m, center=False).mean()\n",
    "df2['SMA150'] = df2['AdjClose'].rolling(window=n, center=False).mean()\n",
    "```"
   ]
  },
  {
   "cell_type": "code",
   "execution_count": 100,
   "metadata": {
    "collapsed": true
   },
   "outputs": [],
   "source": [
    "df2 = df.copy()"
   ]
  },
  {
   "cell_type": "markdown",
   "metadata": {},
   "source": [
    "We'll now plot the key variables and see how they look.\n",
    "```python\n",
    "\n",
    "df2[['AdjClose', 'SMA50', 'SMA150']].plot(grid=True, linewidth=0.5)\n",
    "```"
   ]
  },
  {
   "cell_type": "code",
   "execution_count": 77,
   "metadata": {
    "collapsed": true
   },
   "outputs": [
    {
     "data": {
      "text/html": [
       "<div>\n",
       "<style scoped>\n",
       "    .dataframe tbody tr th:only-of-type {\n",
       "        vertical-align: middle;\n",
       "    }\n",
       "\n",
       "    .dataframe tbody tr th {\n",
       "        vertical-align: top;\n",
       "    }\n",
       "\n",
       "    .dataframe thead th {\n",
       "        text-align: right;\n",
       "    }\n",
       "</style>\n",
       "<table border=\"1\" class=\"dataframe\">\n",
       "  <thead>\n",
       "    <tr style=\"text-align: right;\">\n",
       "      <th></th>\n",
       "      <th>Open</th>\n",
       "      <th>High</th>\n",
       "      <th>Low</th>\n",
       "      <th>Close</th>\n",
       "      <th>Volume</th>\n",
       "      <th>ExDividend</th>\n",
       "      <th>SplitRatio</th>\n",
       "      <th>AdjOpen</th>\n",
       "      <th>AdjHigh</th>\n",
       "      <th>AdjLow</th>\n",
       "      <th>AdjClose</th>\n",
       "      <th>AdjVolume</th>\n",
       "    </tr>\n",
       "    <tr>\n",
       "      <th>Date</th>\n",
       "      <th></th>\n",
       "      <th></th>\n",
       "      <th></th>\n",
       "      <th></th>\n",
       "      <th></th>\n",
       "      <th></th>\n",
       "      <th></th>\n",
       "      <th></th>\n",
       "      <th></th>\n",
       "      <th></th>\n",
       "      <th></th>\n",
       "      <th></th>\n",
       "    </tr>\n",
       "  </thead>\n",
       "  <tbody>\n",
       "    <tr>\n",
       "      <th>2008-12-03</th>\n",
       "      <td>18.65</td>\n",
       "      <td>19.90</td>\n",
       "      <td>18.60</td>\n",
       "      <td>19.87</td>\n",
       "      <td>80961500.0</td>\n",
       "      <td>0.0</td>\n",
       "      <td>1.0</td>\n",
       "      <td>14.807090</td>\n",
       "      <td>15.799522</td>\n",
       "      <td>14.767393</td>\n",
       "      <td>15.775704</td>\n",
       "      <td>80961500.0</td>\n",
       "    </tr>\n",
       "    <tr>\n",
       "      <th>2008-12-04</th>\n",
       "      <td>19.40</td>\n",
       "      <td>19.92</td>\n",
       "      <td>18.79</td>\n",
       "      <td>19.11</td>\n",
       "      <td>78719200.0</td>\n",
       "      <td>0.0</td>\n",
       "      <td>1.0</td>\n",
       "      <td>15.402549</td>\n",
       "      <td>15.815401</td>\n",
       "      <td>14.918242</td>\n",
       "      <td>15.172305</td>\n",
       "      <td>78719200.0</td>\n",
       "    </tr>\n",
       "    <tr>\n",
       "      <th>2008-12-05</th>\n",
       "      <td>18.91</td>\n",
       "      <td>19.98</td>\n",
       "      <td>18.47</td>\n",
       "      <td>19.87</td>\n",
       "      <td>91996200.0</td>\n",
       "      <td>0.0</td>\n",
       "      <td>1.0</td>\n",
       "      <td>15.013516</td>\n",
       "      <td>15.863038</td>\n",
       "      <td>14.664180</td>\n",
       "      <td>15.775704</td>\n",
       "      <td>91996200.0</td>\n",
       "    </tr>\n",
       "    <tr>\n",
       "      <th>2008-12-08</th>\n",
       "      <td>20.35</td>\n",
       "      <td>21.25</td>\n",
       "      <td>20.14</td>\n",
       "      <td>21.01</td>\n",
       "      <td>107225000.0</td>\n",
       "      <td>0.0</td>\n",
       "      <td>1.0</td>\n",
       "      <td>16.156798</td>\n",
       "      <td>16.871349</td>\n",
       "      <td>15.990069</td>\n",
       "      <td>16.680802</td>\n",
       "      <td>107225000.0</td>\n",
       "    </tr>\n",
       "    <tr>\n",
       "      <th>2008-12-09</th>\n",
       "      <td>20.62</td>\n",
       "      <td>21.25</td>\n",
       "      <td>20.46</td>\n",
       "      <td>20.60</td>\n",
       "      <td>80484900.0</td>\n",
       "      <td>0.0</td>\n",
       "      <td>1.0</td>\n",
       "      <td>16.371163</td>\n",
       "      <td>16.871349</td>\n",
       "      <td>16.244132</td>\n",
       "      <td>16.355284</td>\n",
       "      <td>80484900.0</td>\n",
       "    </tr>\n",
       "  </tbody>\n",
       "</table>\n",
       "</div>"
      ],
      "text/plain": [
       "             Open   High    Low  Close       Volume  ExDividend  SplitRatio  \\\n",
       "Date                                                                          \n",
       "2008-12-03  18.65  19.90  18.60  19.87   80961500.0         0.0         1.0   \n",
       "2008-12-04  19.40  19.92  18.79  19.11   78719200.0         0.0         1.0   \n",
       "2008-12-05  18.91  19.98  18.47  19.87   91996200.0         0.0         1.0   \n",
       "2008-12-08  20.35  21.25  20.14  21.01  107225000.0         0.0         1.0   \n",
       "2008-12-09  20.62  21.25  20.46  20.60   80484900.0         0.0         1.0   \n",
       "\n",
       "              AdjOpen    AdjHigh     AdjLow   AdjClose    AdjVolume  \n",
       "Date                                                                 \n",
       "2008-12-03  14.807090  15.799522  14.767393  15.775704   80961500.0  \n",
       "2008-12-04  15.402549  15.815401  14.918242  15.172305   78719200.0  \n",
       "2008-12-05  15.013516  15.863038  14.664180  15.775704   91996200.0  \n",
       "2008-12-08  16.156798  16.871349  15.990069  16.680802  107225000.0  \n",
       "2008-12-09  16.371163  16.871349  16.244132  16.355284   80484900.0  "
      ]
     },
     "execution_count": 77,
     "metadata": {},
     "output_type": "execute_result"
    }
   ],
   "source": [
    "df2.head()"
   ]
  },
  {
   "cell_type": "code",
   "execution_count": null,
   "metadata": {
    "collapsed": true
   },
   "outputs": [],
   "source": [
    "#df2.drop(['Open', 'High', 'Low', 'Close', 'Volume', 'ExDividend'], axis=1, inplace=True)"
   ]
  },
  {
   "cell_type": "markdown",
   "metadata": {},
   "source": [
    "```python\n",
    "\n",
    "df2['SMA50_2'] = df2['AdjClose'].rolling(window=m, center=False).mean().shift(1)\n",
    "df2['SMA150_2'] = df2['AdjClose'].rolling(window=n, center=False).mean().shift(1)\n",
    "```\n",
    "\n",
    "We've now computed all of what we need to generate trading signals. Let's go ahead and now do that.\n"
   ]
  },
  {
   "cell_type": "code",
   "execution_count": 78,
   "metadata": {
    "collapsed": true
   },
   "outputs": [],
   "source": [
    "m = 50 # defining the shorter lookback period\n",
    "n = 150 # defining the longer lookback period\n",
    "\n",
    "df2['SMA50'] = df2['AdjClose'].rolling(window=m, center=False).mean()\n",
    "df2['SMA150'] = df2['AdjClose'].rolling(window=n, center=False).mean()\n",
    "\n",
    "df2['SMA50_2'] = df2['AdjClose'].rolling(window=m, center=False).mean().shift(1)\n",
    "df2['SMA150_2'] = df2['AdjClose'].rolling(window=n, center=False).mean().shift(1)"
   ]
  },
  {
   "cell_type": "code",
   "execution_count": 85,
   "metadata": {
    "collapsed": true
   },
   "outputs": [],
   "source": [
    "df2['Signal'] = np.where((df2['SMA50'] > df2['SMA150']) \n",
    "                        & (df2['SMA50_2'] < df2['SMA150_2']), 1, 0)\n",
    "df2['Signal'] = np.where((df2['SMA50'] < df2['SMA150']) \n",
    "                        & (df2['SMA50_2'] > df2['SMA150_2']), -1, df2['Signal'])\n"
   ]
  },
  {
   "cell_type": "code",
   "execution_count": 86,
   "metadata": {
    "collapsed": true
   },
   "outputs": [
    {
     "data": {
      "text/html": [
       "<div>\n",
       "<style scoped>\n",
       "    .dataframe tbody tr th:only-of-type {\n",
       "        vertical-align: middle;\n",
       "    }\n",
       "\n",
       "    .dataframe tbody tr th {\n",
       "        vertical-align: top;\n",
       "    }\n",
       "\n",
       "    .dataframe thead th {\n",
       "        text-align: right;\n",
       "    }\n",
       "</style>\n",
       "<table border=\"1\" class=\"dataframe\">\n",
       "  <thead>\n",
       "    <tr style=\"text-align: right;\">\n",
       "      <th></th>\n",
       "      <th>Open</th>\n",
       "      <th>High</th>\n",
       "      <th>Low</th>\n",
       "      <th>Close</th>\n",
       "      <th>Volume</th>\n",
       "      <th>ExDividend</th>\n",
       "      <th>SplitRatio</th>\n",
       "      <th>AdjOpen</th>\n",
       "      <th>AdjHigh</th>\n",
       "      <th>AdjLow</th>\n",
       "      <th>AdjClose</th>\n",
       "      <th>AdjVolume</th>\n",
       "      <th>SMA50</th>\n",
       "      <th>SMA150</th>\n",
       "      <th>SMA50_2</th>\n",
       "      <th>SMA150_2</th>\n",
       "      <th>Signal</th>\n",
       "    </tr>\n",
       "    <tr>\n",
       "      <th>Date</th>\n",
       "      <th></th>\n",
       "      <th></th>\n",
       "      <th></th>\n",
       "      <th></th>\n",
       "      <th></th>\n",
       "      <th></th>\n",
       "      <th></th>\n",
       "      <th></th>\n",
       "      <th></th>\n",
       "      <th></th>\n",
       "      <th></th>\n",
       "      <th></th>\n",
       "      <th></th>\n",
       "      <th></th>\n",
       "      <th></th>\n",
       "      <th></th>\n",
       "      <th></th>\n",
       "    </tr>\n",
       "  </thead>\n",
       "  <tbody>\n",
       "    <tr>\n",
       "      <th>2008-12-03</th>\n",
       "      <td>18.65</td>\n",
       "      <td>19.90</td>\n",
       "      <td>18.60</td>\n",
       "      <td>19.87</td>\n",
       "      <td>80961500.0</td>\n",
       "      <td>0.0</td>\n",
       "      <td>1.0</td>\n",
       "      <td>14.807090</td>\n",
       "      <td>15.799522</td>\n",
       "      <td>14.767393</td>\n",
       "      <td>15.775704</td>\n",
       "      <td>80961500.0</td>\n",
       "      <td>NaN</td>\n",
       "      <td>NaN</td>\n",
       "      <td>NaN</td>\n",
       "      <td>NaN</td>\n",
       "      <td>0</td>\n",
       "    </tr>\n",
       "    <tr>\n",
       "      <th>2008-12-04</th>\n",
       "      <td>19.40</td>\n",
       "      <td>19.92</td>\n",
       "      <td>18.79</td>\n",
       "      <td>19.11</td>\n",
       "      <td>78719200.0</td>\n",
       "      <td>0.0</td>\n",
       "      <td>1.0</td>\n",
       "      <td>15.402549</td>\n",
       "      <td>15.815401</td>\n",
       "      <td>14.918242</td>\n",
       "      <td>15.172305</td>\n",
       "      <td>78719200.0</td>\n",
       "      <td>NaN</td>\n",
       "      <td>NaN</td>\n",
       "      <td>NaN</td>\n",
       "      <td>NaN</td>\n",
       "      <td>0</td>\n",
       "    </tr>\n",
       "    <tr>\n",
       "      <th>2008-12-05</th>\n",
       "      <td>18.91</td>\n",
       "      <td>19.98</td>\n",
       "      <td>18.47</td>\n",
       "      <td>19.87</td>\n",
       "      <td>91996200.0</td>\n",
       "      <td>0.0</td>\n",
       "      <td>1.0</td>\n",
       "      <td>15.013516</td>\n",
       "      <td>15.863038</td>\n",
       "      <td>14.664180</td>\n",
       "      <td>15.775704</td>\n",
       "      <td>91996200.0</td>\n",
       "      <td>NaN</td>\n",
       "      <td>NaN</td>\n",
       "      <td>NaN</td>\n",
       "      <td>NaN</td>\n",
       "      <td>0</td>\n",
       "    </tr>\n",
       "    <tr>\n",
       "      <th>2008-12-08</th>\n",
       "      <td>20.35</td>\n",
       "      <td>21.25</td>\n",
       "      <td>20.14</td>\n",
       "      <td>21.01</td>\n",
       "      <td>107225000.0</td>\n",
       "      <td>0.0</td>\n",
       "      <td>1.0</td>\n",
       "      <td>16.156798</td>\n",
       "      <td>16.871349</td>\n",
       "      <td>15.990069</td>\n",
       "      <td>16.680802</td>\n",
       "      <td>107225000.0</td>\n",
       "      <td>NaN</td>\n",
       "      <td>NaN</td>\n",
       "      <td>NaN</td>\n",
       "      <td>NaN</td>\n",
       "      <td>0</td>\n",
       "    </tr>\n",
       "    <tr>\n",
       "      <th>2008-12-09</th>\n",
       "      <td>20.62</td>\n",
       "      <td>21.25</td>\n",
       "      <td>20.46</td>\n",
       "      <td>20.60</td>\n",
       "      <td>80484900.0</td>\n",
       "      <td>0.0</td>\n",
       "      <td>1.0</td>\n",
       "      <td>16.371163</td>\n",
       "      <td>16.871349</td>\n",
       "      <td>16.244132</td>\n",
       "      <td>16.355284</td>\n",
       "      <td>80484900.0</td>\n",
       "      <td>NaN</td>\n",
       "      <td>NaN</td>\n",
       "      <td>NaN</td>\n",
       "      <td>NaN</td>\n",
       "      <td>0</td>\n",
       "    </tr>\n",
       "  </tbody>\n",
       "</table>\n",
       "</div>"
      ],
      "text/plain": [
       "             Open   High    Low  Close       Volume  ExDividend  SplitRatio  \\\n",
       "Date                                                                          \n",
       "2008-12-03  18.65  19.90  18.60  19.87   80961500.0         0.0         1.0   \n",
       "2008-12-04  19.40  19.92  18.79  19.11   78719200.0         0.0         1.0   \n",
       "2008-12-05  18.91  19.98  18.47  19.87   91996200.0         0.0         1.0   \n",
       "2008-12-08  20.35  21.25  20.14  21.01  107225000.0         0.0         1.0   \n",
       "2008-12-09  20.62  21.25  20.46  20.60   80484900.0         0.0         1.0   \n",
       "\n",
       "              AdjOpen    AdjHigh     AdjLow   AdjClose    AdjVolume  SMA50  \\\n",
       "Date                                                                         \n",
       "2008-12-03  14.807090  15.799522  14.767393  15.775704   80961500.0    NaN   \n",
       "2008-12-04  15.402549  15.815401  14.918242  15.172305   78719200.0    NaN   \n",
       "2008-12-05  15.013516  15.863038  14.664180  15.775704   91996200.0    NaN   \n",
       "2008-12-08  16.156798  16.871349  15.990069  16.680802  107225000.0    NaN   \n",
       "2008-12-09  16.371163  16.871349  16.244132  16.355284   80484900.0    NaN   \n",
       "\n",
       "            SMA150  SMA50_2  SMA150_2  Signal  \n",
       "Date                                           \n",
       "2008-12-03     NaN      NaN       NaN       0  \n",
       "2008-12-04     NaN      NaN       NaN       0  \n",
       "2008-12-05     NaN      NaN       NaN       0  \n",
       "2008-12-08     NaN      NaN       NaN       0  \n",
       "2008-12-09     NaN      NaN       NaN       0  "
      ]
     },
     "execution_count": 86,
     "metadata": {},
     "output_type": "execute_result"
    }
   ],
   "source": [
    "df2.head()"
   ]
  },
  {
   "cell_type": "markdown",
   "metadata": {},
   "source": [
    "A note on `numpy.where()`: This method has two modes of operation.\n",
    "\n",
    "1) **We only specify the condition here**: It checks for the truth value of the specified condition in the parentheses. If it is `True`, it returns the indices of the `NumPy` array.\n",
    "\n",
    "2) **We specify the condition and also two additional arguments**: It again checks for the truth value as the previous condition. However, it would return the first argument if `True` else it would return the second argument."
   ]
  },
  {
   "cell_type": "markdown",
   "metadata": {},
   "source": [
    "```python\n",
    "df2['Signal'] = np.where((df2['SMA50'] > df2['SMA150']) \n",
    "                        & (df2['SMA50_2'] < df2['SMA150_2']), 1, 0)\n",
    "df2['Signal'] = np.where((df2['SMA50'] < df2['SMA150']) \n",
    "                        & (df2['SMA50_2'] > df2['SMA150_2']), -1, df2['Signal'])\n",
    "```"
   ]
  },
  {
   "cell_type": "code",
   "execution_count": 82,
   "metadata": {},
   "outputs": [],
   "source": [
    "a = np.array([1, 3, 4, 5, 8, 10, 11])"
   ]
  },
  {
   "cell_type": "code",
   "execution_count": 83,
   "metadata": {},
   "outputs": [
    {
     "data": {
      "text/plain": [
       "(array([4, 5, 6], dtype=int64),)"
      ]
     },
     "execution_count": 83,
     "metadata": {},
     "output_type": "execute_result"
    }
   ],
   "source": [
    "np.where(a > 6)"
   ]
  },
  {
   "cell_type": "code",
   "execution_count": 84,
   "metadata": {},
   "outputs": [
    {
     "data": {
      "text/plain": [
       "array(['No', 'No', 'No', 'No', 'Yes', 'Yes', 'Yes'], \n",
       "      dtype='<U3')"
      ]
     },
     "execution_count": 84,
     "metadata": {},
     "output_type": "execute_result"
    }
   ],
   "source": [
    "np.where(a > 6, \"Yes\", \"No\")"
   ]
  },
  {
   "cell_type": "code",
   "execution_count": 88,
   "metadata": {
    "collapsed": true
   },
   "outputs": [],
   "source": [
    "df2['Buy'] = df2.apply(lambda x : x['AdjClose'] if x['SMA50'] > x['SMA150'] \n",
    "                        and x['SMA50_2'] < x['SMA150_2'] else 0, axis=1)\n",
    "\n",
    "df2['Sell'] = df2.apply(lambda y : -y['AdjClose'] if y['SMA50'] < y['SMA150'] \n",
    "                        and y['SMA50_2'] > y['SMA150_2'] else 0, axis=1)\n",
    "\n",
    "df2['TP'] = df2['Buy'] + df2['Sell']\n",
    "df2['TP']=df2['TP'].replace(to_replace=0, method='ffill')\n",
    "\n",
    "df2['Position'] = df2['Signal'].replace(to_replace=0, method= 'ffill')\n",
    "k = df2['TP'].nonzero()"
   ]
  },
  {
   "cell_type": "code",
   "execution_count": 116,
   "metadata": {},
   "outputs": [],
   "source": [
    "frame2 = df2.iloc[k[0]]"
   ]
  },
  {
   "cell_type": "code",
   "execution_count": 90,
   "metadata": {},
   "outputs": [],
   "source": [
    "frame = df2.iloc[k]"
   ]
  },
  {
   "cell_type": "code",
   "execution_count": null,
   "metadata": {
    "collapsed": true
   },
   "outputs": [],
   "source": [
    "type(k) # this tells us k is a tuple\n",
    "\n",
    "k[0] #this gives us a numpy array\n",
    "type(k[0]) #confirms that this is a numpy ndarray\n",
    "len(k[0]) # total number of positions\n",
    "\n",
    "frame = df2.iloc[k]"
   ]
  },
  {
   "cell_type": "code",
   "execution_count": 91,
   "metadata": {
    "collapsed": true
   },
   "outputs": [
    {
     "data": {
      "text/html": [
       "<div>\n",
       "<style scoped>\n",
       "    .dataframe tbody tr th:only-of-type {\n",
       "        vertical-align: middle;\n",
       "    }\n",
       "\n",
       "    .dataframe tbody tr th {\n",
       "        vertical-align: top;\n",
       "    }\n",
       "\n",
       "    .dataframe thead th {\n",
       "        text-align: right;\n",
       "    }\n",
       "</style>\n",
       "<table border=\"1\" class=\"dataframe\">\n",
       "  <thead>\n",
       "    <tr style=\"text-align: right;\">\n",
       "      <th></th>\n",
       "      <th>Open</th>\n",
       "      <th>High</th>\n",
       "      <th>Low</th>\n",
       "      <th>Close</th>\n",
       "      <th>Volume</th>\n",
       "      <th>ExDividend</th>\n",
       "      <th>SplitRatio</th>\n",
       "      <th>AdjOpen</th>\n",
       "      <th>AdjHigh</th>\n",
       "      <th>AdjLow</th>\n",
       "      <th>...</th>\n",
       "      <th>AdjVolume</th>\n",
       "      <th>SMA50</th>\n",
       "      <th>SMA150</th>\n",
       "      <th>SMA50_2</th>\n",
       "      <th>SMA150_2</th>\n",
       "      <th>Signal</th>\n",
       "      <th>Buy</th>\n",
       "      <th>Sell</th>\n",
       "      <th>TP</th>\n",
       "      <th>Position</th>\n",
       "    </tr>\n",
       "    <tr>\n",
       "      <th>Date</th>\n",
       "      <th></th>\n",
       "      <th></th>\n",
       "      <th></th>\n",
       "      <th></th>\n",
       "      <th></th>\n",
       "      <th></th>\n",
       "      <th></th>\n",
       "      <th></th>\n",
       "      <th></th>\n",
       "      <th></th>\n",
       "      <th></th>\n",
       "      <th></th>\n",
       "      <th></th>\n",
       "      <th></th>\n",
       "      <th></th>\n",
       "      <th></th>\n",
       "      <th></th>\n",
       "      <th></th>\n",
       "      <th></th>\n",
       "      <th></th>\n",
       "      <th></th>\n",
       "    </tr>\n",
       "  </thead>\n",
       "  <tbody>\n",
       "    <tr>\n",
       "      <th>2010-06-03</th>\n",
       "      <td>26.55</td>\n",
       "      <td>26.93</td>\n",
       "      <td>26.41</td>\n",
       "      <td>26.86</td>\n",
       "      <td>67837000.0</td>\n",
       "      <td>0.0</td>\n",
       "      <td>1.0</td>\n",
       "      <td>21.775017</td>\n",
       "      <td>22.086674</td>\n",
       "      <td>21.660195</td>\n",
       "      <td>...</td>\n",
       "      <td>67837000.0</td>\n",
       "      <td>23.871719</td>\n",
       "      <td>23.897028</td>\n",
       "      <td>23.919038</td>\n",
       "      <td>23.904401</td>\n",
       "      <td>-1</td>\n",
       "      <td>0.0</td>\n",
       "      <td>-22.029264</td>\n",
       "      <td>-22.029264</td>\n",
       "      <td>-1</td>\n",
       "    </tr>\n",
       "    <tr>\n",
       "      <th>2010-06-04</th>\n",
       "      <td>26.10</td>\n",
       "      <td>26.57</td>\n",
       "      <td>25.62</td>\n",
       "      <td>25.79</td>\n",
       "      <td>89832200.0</td>\n",
       "      <td>0.0</td>\n",
       "      <td>1.0</td>\n",
       "      <td>21.405949</td>\n",
       "      <td>21.791420</td>\n",
       "      <td>21.012276</td>\n",
       "      <td>...</td>\n",
       "      <td>89832200.0</td>\n",
       "      <td>23.810604</td>\n",
       "      <td>23.886880</td>\n",
       "      <td>23.871719</td>\n",
       "      <td>23.897028</td>\n",
       "      <td>0</td>\n",
       "      <td>0.0</td>\n",
       "      <td>0.000000</td>\n",
       "      <td>-22.029264</td>\n",
       "      <td>-1</td>\n",
       "    </tr>\n",
       "    <tr>\n",
       "      <th>2010-06-07</th>\n",
       "      <td>25.82</td>\n",
       "      <td>25.83</td>\n",
       "      <td>25.24</td>\n",
       "      <td>25.29</td>\n",
       "      <td>80456200.0</td>\n",
       "      <td>0.0</td>\n",
       "      <td>1.0</td>\n",
       "      <td>21.176306</td>\n",
       "      <td>21.184508</td>\n",
       "      <td>20.700618</td>\n",
       "      <td>...</td>\n",
       "      <td>80456200.0</td>\n",
       "      <td>23.735409</td>\n",
       "      <td>23.872919</td>\n",
       "      <td>23.810604</td>\n",
       "      <td>23.886880</td>\n",
       "      <td>0</td>\n",
       "      <td>0.0</td>\n",
       "      <td>0.000000</td>\n",
       "      <td>-22.029264</td>\n",
       "      <td>-1</td>\n",
       "    </tr>\n",
       "    <tr>\n",
       "      <th>2010-06-08</th>\n",
       "      <td>25.25</td>\n",
       "      <td>25.26</td>\n",
       "      <td>24.65</td>\n",
       "      <td>25.11</td>\n",
       "      <td>87355000.0</td>\n",
       "      <td>0.0</td>\n",
       "      <td>1.0</td>\n",
       "      <td>20.708820</td>\n",
       "      <td>20.717021</td>\n",
       "      <td>20.216729</td>\n",
       "      <td>...</td>\n",
       "      <td>87355000.0</td>\n",
       "      <td>23.662977</td>\n",
       "      <td>23.860617</td>\n",
       "      <td>23.735409</td>\n",
       "      <td>23.872919</td>\n",
       "      <td>0</td>\n",
       "      <td>0.0</td>\n",
       "      <td>0.000000</td>\n",
       "      <td>-22.029264</td>\n",
       "      <td>-1</td>\n",
       "    </tr>\n",
       "    <tr>\n",
       "      <th>2010-06-09</th>\n",
       "      <td>25.22</td>\n",
       "      <td>25.52</td>\n",
       "      <td>24.75</td>\n",
       "      <td>24.79</td>\n",
       "      <td>87794000.0</td>\n",
       "      <td>0.0</td>\n",
       "      <td>1.0</td>\n",
       "      <td>20.684215</td>\n",
       "      <td>20.930261</td>\n",
       "      <td>20.298744</td>\n",
       "      <td>...</td>\n",
       "      <td>87794000.0</td>\n",
       "      <td>23.586439</td>\n",
       "      <td>23.845756</td>\n",
       "      <td>23.662977</td>\n",
       "      <td>23.860617</td>\n",
       "      <td>0</td>\n",
       "      <td>0.0</td>\n",
       "      <td>0.000000</td>\n",
       "      <td>-22.029264</td>\n",
       "      <td>-1</td>\n",
       "    </tr>\n",
       "  </tbody>\n",
       "</table>\n",
       "<p>5 rows × 21 columns</p>\n",
       "</div>"
      ],
      "text/plain": [
       "             Open   High    Low  Close      Volume  ExDividend  SplitRatio  \\\n",
       "Date                                                                         \n",
       "2010-06-03  26.55  26.93  26.41  26.86  67837000.0         0.0         1.0   \n",
       "2010-06-04  26.10  26.57  25.62  25.79  89832200.0         0.0         1.0   \n",
       "2010-06-07  25.82  25.83  25.24  25.29  80456200.0         0.0         1.0   \n",
       "2010-06-08  25.25  25.26  24.65  25.11  87355000.0         0.0         1.0   \n",
       "2010-06-09  25.22  25.52  24.75  24.79  87794000.0         0.0         1.0   \n",
       "\n",
       "              AdjOpen    AdjHigh     AdjLow    ...      AdjVolume      SMA50  \\\n",
       "Date                                           ...                             \n",
       "2010-06-03  21.775017  22.086674  21.660195    ...     67837000.0  23.871719   \n",
       "2010-06-04  21.405949  21.791420  21.012276    ...     89832200.0  23.810604   \n",
       "2010-06-07  21.176306  21.184508  20.700618    ...     80456200.0  23.735409   \n",
       "2010-06-08  20.708820  20.717021  20.216729    ...     87355000.0  23.662977   \n",
       "2010-06-09  20.684215  20.930261  20.298744    ...     87794000.0  23.586439   \n",
       "\n",
       "               SMA150    SMA50_2   SMA150_2  Signal  Buy       Sell  \\\n",
       "Date                                                                  \n",
       "2010-06-03  23.897028  23.919038  23.904401      -1  0.0 -22.029264   \n",
       "2010-06-04  23.886880  23.871719  23.897028       0  0.0   0.000000   \n",
       "2010-06-07  23.872919  23.810604  23.886880       0  0.0   0.000000   \n",
       "2010-06-08  23.860617  23.735409  23.872919       0  0.0   0.000000   \n",
       "2010-06-09  23.845756  23.662977  23.860617       0  0.0   0.000000   \n",
       "\n",
       "                   TP  Position  \n",
       "Date                             \n",
       "2010-06-03 -22.029264        -1  \n",
       "2010-06-04 -22.029264        -1  \n",
       "2010-06-07 -22.029264        -1  \n",
       "2010-06-08 -22.029264        -1  \n",
       "2010-06-09 -22.029264        -1  \n",
       "\n",
       "[5 rows x 21 columns]"
      ]
     },
     "execution_count": 91,
     "metadata": {},
     "output_type": "execute_result"
    }
   ],
   "source": [
    "frame.head()"
   ]
  },
  {
   "cell_type": "code",
   "execution_count": 89,
   "metadata": {
    "collapsed": true
   },
   "outputs": [
    {
     "data": {
      "text/plain": [
       " 0    2329\n",
       " 1       7\n",
       "-1       7\n",
       "Name: Signal, dtype: int64"
      ]
     },
     "execution_count": 89,
     "metadata": {},
     "output_type": "execute_result"
    }
   ],
   "source": [
    "df2['Signal'].value_counts()\n",
    "# In the period, we've chosen, this is in line with what we see in k"
   ]
  },
  {
   "cell_type": "code",
   "execution_count": 100,
   "metadata": {
    "collapsed": true
   },
   "outputs": [
    {
     "data": {
      "image/png": "[encoded data removed]",
      "text/plain": [
       "<matplotlib.figure.Figure at 0xa6425f8>"
      ]
     },
     "metadata": {},
     "output_type": "display_data"
    }
   ],
   "source": [
    "# Alternate way to plot the graph\n",
    "plt.figure(figsize=(10, 5))\n",
    "plt.plot(df2['Position'])\n",
    "plt.title(\"Signal showing buying/selling positions\")\n",
    "plt.xlabel('Time')\n",
    "plt.tight_layout()\n",
    "plt.show()"
   ]
  },
  {
   "cell_type": "code",
   "execution_count": 94,
   "metadata": {
    "collapsed": true
   },
   "outputs": [
    {
     "data": {
      "text/plain": [
       "<matplotlib.axes._subplots.AxesSubplot at 0xc1a8940>"
      ]
     },
     "execution_count": 94,
     "metadata": {},
     "output_type": "execute_result"
    },
    {
     "data": {
      "image/png": "[encoded data removed]",
      "text/plain": [
       "<matplotlib.figure.Figure at 0xc2221d0>"
      ]
     },
     "metadata": {},
     "output_type": "display_data"
    }
   ],
   "source": [
    "df2['Buy & Hold Returns'] = np.log(df2['AdjClose'] / df2['AdjClose'].shift(1))\n",
    "df2['Strategy Returns'] = df2['Buy & Hold Returns'] * df2['Position'].shift(1)\n",
    "\n",
    "df2[['Buy & Hold Returns', 'Strategy Returns']].cumsum().plot(grid=True, figsize=(9,5))\n"
   ]
  },
  {
   "cell_type": "markdown",
   "metadata": {},
   "source": [
    "### Downloading Data for Multiple Stocks\n",
    "\n",
    "We can download data for stocks in multiple ways using the APIs provided by data vendors.\n",
    "Data vendors provide the the data in different formats and so the methods used to download it, and clean it vary slightly. I've adapted the approach from [here](https://gist.github.com/CNuge).\n",
    "\n",
    "Please ensure that your `pandas-datareader` is installed and working.\n",
    "\n",
    "```python\n",
    "\n",
    "import pandas as pd\n",
    "import pandas_datareader.data as web\n",
    "import numpy as np\n",
    "import datetime\n",
    "import matplotlib.pyplot as plt\n",
    "from concurrent import futures\n",
    "```\n",
    "The `futures` module in the library `concurrent` provides a high level API to perform parallel tasks. This works like a charm when you have a lot of data to download since it can happen in parallel.\n",
    "\n"
   ]
  },
  {
   "cell_type": "code",
   "execution_count": 95,
   "metadata": {},
   "outputs": [],
   "source": [
    "import pandas as pd\n",
    "import numpy as np\n",
    "import datetime\n",
    "import matplotlib.pyplot as plt\n",
    "from concurrent import futures"
   ]
  },
  {
   "cell_type": "code",
   "execution_count": 98,
   "metadata": {
    "collapsed": true
   },
   "outputs": [],
   "source": [
    "def download_stocks(stock):\n",
    "    try:\n",
    "        print('Trying to retrieve the %s symbol...\\n' % (stock))\n",
    "        stock_df = web.DataReader(stock, 'yahoo', start, end)\n",
    "        stock_df['Name'] = stock\n",
    "        output_name = stock + '.csv'\n",
    "        list_stocks.append(output_name)\n",
    "        stock_df.to_csv(output_name)\n",
    "        print('Symbol %s downloaded OK.\\n' % (stock))\n",
    "    except:\n",
    "        bad_tickers.append(stock)\n",
    "        print('Problems downloading the %s symbol.\\n' % (stock))"
   ]
  },
  {
   "cell_type": "code",
   "execution_count": 99,
   "metadata": {
    "collapsed": true
   },
   "outputs": [
    {
     "name": "stdout",
     "output_type": "stream",
     "text": [
      "Trying to retrieve the MSFT symbol...\n",
      "\n",
      "Trying to retrieve the AAPL symbol...\n",
      "\n",
      "Trying to retrieve the IBM symbol...\n",
      "\n",
      "Trying to retrieve the DELL symbol...\n",
      "\n",
      "Trying to retrieve the HP symbol...\n",
      "\n",
      "Trying to retrieve the TSLA symbol...\n",
      "\n",
      "Trying to retrieve the AMZN symbol...\n",
      "\n",
      "Trying to retrieve the AIG symbol...\n",
      "\n",
      "Trying to retrieve the STJ symbol...\n",
      "\n",
      "Trying to retrieve the WMT symbol...\n",
      "\n",
      "Trying to retrieve the LVLT symbol...\n",
      "\n",
      "Trying to retrieve the SBUX symbol...\n",
      "\n",
      "Trying to retrieve the CL symbol...\n",
      "\n",
      "Trying to retrieve the NKE symbol...\n",
      "\n",
      "Trying to retrieve the FOSL symbol...\n",
      "\n",
      "Problems downloading the DELL symbol.\n",
      "\n",
      "Symbol STJ downloaded OK.\n",
      "\n",
      "Symbol AMZN downloaded OK.\n",
      "\n",
      "Symbol FOSL downloaded OK.\n",
      "\n",
      "Symbol AIG downloaded OK.\n",
      "\n",
      "Symbol AAPL downloaded OK.\n",
      "\n",
      "Symbol MSFT downloaded OK.\n",
      "\n",
      "Symbol TSLA downloaded OK.\n",
      "\n",
      "Symbol CL downloaded OK.\n",
      "\n",
      "Symbol SBUX downloaded OK.\n",
      "\n",
      "Symbol NKE downloaded OK.\n",
      "\n",
      "Symbol WMT downloaded OK.\n",
      "\n",
      "Symbol HP downloaded OK.\n",
      "\n",
      "Symbol IBM downloaded OK.\n",
      "\n",
      "Problems downloading the LVLT symbol.\n",
      "\n",
      "Wall time: 5.39 s\n"
     ]
    }
   ],
   "source": [
    "%%time\n",
    "stocksList = ['MSFT', 'AAPL', 'IBM', 'DELL', 'HP', \n",
    "              'TSLA', 'AMZN', 'AIG', 'STJ', 'WMT', \n",
    "              'LVLT', 'SBUX', 'CL', 'NKE', 'FOSL']\n",
    "list_stocks = []\n",
    "\n",
    "### Keeping track of failed ticker download queries\n",
    "bad_tickers = []\n",
    "\n",
    "end = datetime.datetime.now().date()\n",
    "start = end - pd.Timedelta(days = 365 * 5)\n",
    "\n",
    "# We use the concurrent.futures module's ThreadPoolExecutor \n",
    "# to speed up the downloads by doing them in parallel rather than serially\n",
    "    \n",
    "### Set the maximum thread number\n",
    "max_workers = 50\n",
    "\n",
    "workers = min(max_workers, len(stocksList)) \n",
    "### In case a smaller number of stocks than threads was passed in\n",
    "with futures.ThreadPoolExecutor(workers) as executor:\n",
    "    res = executor.map(download_stocks, stocksList)\n",
    "### map allows multiple calls to the given function. It passes each of the items in stocksList (any \n",
    "### iterable) to the function. Here, it can happen concurrently because of the ThreadPoolExecutor()\n",
    "### subClass"
   ]
  },
  {
   "cell_type": "code",
   "execution_count": null,
   "metadata": {
    "collapsed": true
   },
   "outputs": [],
   "source": []
  },
  {
   "cell_type": "code",
   "execution_count": null,
   "metadata": {
    "collapsed": true
   },
   "outputs": [],
   "source": []
  },
  {
   "cell_type": "code",
   "execution_count": null,
   "metadata": {
    "collapsed": true
   },
   "outputs": [],
   "source": []
  },
  {
   "cell_type": "markdown",
   "metadata": {},
   "source": [
    "#### References\n",
    "\n",
    "1. The `pandas-datareader` library documentation - http://pandas-datareader.readthedocs.io/en/latest/#\n",
    "2. The Python `datetime` documentation - https://docs.python.org/3/library/datetime.html#module-datetime\n",
    "3. The `dateutil` library documentation - https://dateutil.readthedocs.io/en/stable/\n",
    "4. Examples for dealing with dates and times in Python - https://jakevdp.github.io/PythonDataScienceHandbook/03.11-working-with-time-series.html\n",
    "3. Faber, Meb, A Quantitative Approach to Tactical Asset Allocation (February 1, 2013). The Journal of Wealth Management, Spring 2007 . Available at SSRN: https://ssrn.com/abstract=962461\n",
    "3. Documentation on the `.nonzero()` method in `NumPy` : https://docs.scipy.org/doc/numpy-1.14.0/reference/generated/numpy.nonzero.html\n",
    "4. Documentation on `pandas DataFrame .apply()` function: https://pandas.pydata.org/pandas-docs/stable/generated/pandas.DataFrame.apply.html\n",
    "5. https://stackoverflow.com/\n",
    "6. `MatPlotlib` tutorial - http://www.scipy-lectures.org/intro/matplotlib/index.html\n"
   ]
  },
  {
   "cell_type": "code",
   "execution_count": null,
   "metadata": {
    "collapsed": true
   },
   "outputs": [],
   "source": []
  }
 ],
 "metadata": {
  "kernelspec": {
   "display_name": "Python 3",
   "language": "python",
   "name": "python3"
  },
  "language_info": {
   "codemirror_mode": {
    "name": "ipython",
    "version": 3
   },
   "file_extension": ".py",
   "mimetype": "text/x-python",
   "name": "python",
   "nbconvert_exporter": "python",
   "pygments_lexer": "ipython3",
   "version": "3.6.1"
  }
 },
 "nbformat": 4,
 "nbformat_minor": 2
}
