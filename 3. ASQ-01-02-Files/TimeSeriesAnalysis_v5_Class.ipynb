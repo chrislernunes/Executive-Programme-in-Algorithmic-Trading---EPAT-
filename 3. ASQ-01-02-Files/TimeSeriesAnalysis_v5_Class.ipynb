{
 "cells": [
  {
   "cell_type": "markdown",
   "metadata": {},
   "source": [
    "# Time Series Analysis\n",
    "#### Notebook Created on: 22 May 2018\n",
    "##### Last Update: 26 Dec 2018\n",
    "##### Version 5.0\n",
    "##### Author: Vivek Krishnamoorthy\n",
    "\n",
    "*I have prepared this material with the purpose of introducing **financial econometrics** (the statistical analysis of financial markets) to an audience that has little to no experience in the field.*\n",
    "\n",
    "*There are a detailed set of references at the end of this document. Time Series Analysis is a fascinating and involved subject and I encourage you to explore the reference material for a deeper understanding. What we attempt to cover over the next couple of sessions is the proverbial 'tip of the iceberg'.*"
   ]
  },
  {
   "cell_type": "markdown",
   "metadata": {},
   "source": [
    "### Introduction\n",
    "\n",
    "Econometrics is the application of mathematical and statistical theory in economics (and increasingly in other social sciences too). It helps us to evaluate the relationships between different variables. For ex.\n",
    "[the relationship between average classroom size and scholastic achievement](https://economics.mit.edu/files/8273) (Angrist & Lavy, QJE, 1999)\n",
    "\n",
    "Least-squares regression is the most widely used method for modeling such relationships. It is known by many other names like \"regression\", \"OLS\", or \"linear regression\". OLS however is primarily used for [cross-sectional data](https://en.wikipedia.org/wiki/Cross-sectional_regression) i.e. data which is associated with a single period or point in time.\n",
    "\n",
    "### Why Time Series Analysis?\n",
    "\n",
    "However, **data that we encounter in macroeconomics and empirical finance are often in the form of a time series** i.e. sequential observations of the same variable. Inflation index numbers or stock price observations over time are time series. The time component of such data series makes their analysis and forecasting a challenge to handle.\n",
    "\n",
    "In any kind of statistical modelling exercise, we collect a sample of data from the phenomenon or process that we are analyzing. \n",
    "* With cross-sectional data, we randomly sample from a population to make statistical inferences. \n",
    "* For time series data, we have historical observations of say, the stock price for the last 252 days (if we are modelling the price of a stock at time t). \n",
    "\n",
    "It is helpful to think of our time series sample as the random realization of a ***data generating process***. \n",
    "\n",
    "\n",
    "**Time series analysis** can be broadly defined as analyzing the historical data to understand the underlying process, its past behavior and then use it to predict the future behaviour of the process. \n",
    "\n",
    "As quantitative traders, we can use these analysis techniques in ***understanding asset price behaviour and make trading decisions based on it***.\n",
    "\n",
    "We can write a time series as $$\\{x_1, x_2, \\dots, x_T\\}$$ or $$\\{x_t\\},\\: t = 1, 2,\\dots, T$$\n"
   ]
  },
  {
   "cell_type": "markdown",
   "metadata": {},
   "source": [
    "There is an important concept concerned with time series known as **stationarity**.\n",
    "\n",
    "## Stationarity\n",
    "\n",
    "A significant part of the analysis of time series data is about the stationarity of the data. As it turns out, financial time series are mostly non-stationary. So whenever we are analyzing our data, we first need to check for its presence and *'stationarize'* it if it is not so. \n",
    "\n",
    "Let us now look at what it means.\n",
    "\n",
    "I use images from [Sean Abu's website](http://www.seanabu.com/) to buttress our understanding of stationarity and distinguish between stationary and non-stationary processes.\n",
    "\n",
    "A stochastic process $\\{x_t\\}$ is *weakly stationary* or *covariance stationary* if\n",
    "* $\\mathrm{E}(x_t) = \\mu \\ne f(t)\\implies$ The mean of the series is constant and not a function of time.\n",
    "![alt text](Mean_nonstationary.png)\n",
    "* $Var(x_t) = \\sigma^2 \\ne f(t)\\implies$ The variance of the series is constant and not a function of time (This is called homoskedasticity).\n",
    "![alt text](Var_nonstationary.png \"Title\")\n",
    "* $Cov(x_t, x_{t+h}) = g(h) \\ne f(t)\\implies$ The covariance of the $t^{th}$ term and the $(t+h)^{th}$ depends only on the interval $h$ and is not a function of time.\n",
    "![alt text](Cov_nonstationary.png \"Title\")\n",
    "\n",
    "Another way to think of this is: *If there's any correlation between sequential observations and this correlation is only a function of the interval between them (and not the time period itself) , we say that it is covariance stationary*.\n",
    "\n",
    "A stochastic process $\\{x_t\\}$ is *strongly stationary* or *strictly stationary* if the joint probability distribution function of $\\{x_{t-s},\\dots,x_t,\\dots, x_{t+s}\\}$ is independent of t for all s. $\\implies$ The joint distribution of the random variables is not a function of time.\n",
    "\n",
    "*A quick aside: Stochastic processes are those where you have a collection of random variables indexed by a set of numbers (usually time). Time series processes are a special type of stochastic process.*\n",
    "\n",
    "### Why It Matters\n",
    "\n",
    "* When a process is stationary, we can make forecasts since its statistical characteristics (such as mean, variance, covariance, etc.) are time invariant.\n",
    "* In fact, if a time series process is non-stationary, it means that its statistical characteristics vary with time. Therefore any values (such as the mean, variance, etc) that the model would predict would not be reliable.\n",
    "* In statistical modelling, a number of tests implicitly assume that the data being tested is stationary. So if we run these tests like a 'black-box' on non-stationary data, our results would be useless. \n"
   ]
  },
  {
   "cell_type": "markdown",
   "metadata": {},
   "source": [
    "## Two fundamental time series models\n",
    "\n",
    "I now describe two key models, the **Gaussian White Noise** and the **Random Walk** models. This will help crystallize our intuitions on the time series behaviour of processes. In particular, it'll help us understand how the relation of sequential observations with each other can have an impact on how 'forecastable' they are.\n",
    "\n"
   ]
  },
  {
   "cell_type": "markdown",
   "metadata": {},
   "source": [
    "### 1. Gaussian White Noise process\n",
    "\n",
    "This is the building block for the basic ARMA models.\n",
    "\n",
    "Here, we simulate and plot the Gaussian white noise process $\\varepsilon_0$, $\\varepsilon_1$,$\\dots$, $\\varepsilon_T$ where each observation is drawn from a standard normal distribution. All the observations are independent and identically distributed (iid).$$\\varepsilon_t \\sim N(0, 1)$$\n",
    "\n",
    "By definition, the errors are serially uncorrelated and the expected mean of these errors is equal to zero.\n",
    "\n",
    "Any kind of time series models that we build should ideally result in white noise residuals (errors). Why should it be so? Because this would mean that we have successfully fit a model that captures the key dynamics of the underlying process. The only part which is unexplained by the model is random error. In other words, the difference between the values we forecast and the the values that would eventually occur would be residuals that would be indistinguishable from white noise.\n",
    "\n"
   ]
  },
  {
   "cell_type": "markdown",
   "metadata": {},
   "source": [
    "` We import all the required libraries below. In case you don't have any of the below, please install them using either the conda or the pip package managers\n",
    "`\n",
    "\n",
    "#### A short sidenote:\n",
    "\n",
    "The key libraries that we deploy when dealing with time series analysis are the following:\n",
    "\n",
    "- [NumPy](http://www.numpy.org/): It is the workhorse for Python and other libraries to do complex and repetitive math operations efficiently. Every other package mentioned below depends on NumPy array operations for the numerical heavy lifting.\n",
    "- [Matplotlib](https://matplotlib.org/): Used for plotting data\n",
    "- [SciPy](https://www.scipy.org/) : Primary Python library for math, science and engineering applications. Builds on NumPy to add many more useful functionalities.\n",
    "- [pandas](https://pandas.pydata.org/): Has handy data stuctures for loading, handling and manipulating data. It is especially suited for time series and works well in conjunction with the above libraries.\n",
    "- [Statsmodels](https://www.statsmodels.org/stable/index.html): Used in advanced data exploration, statistical modeling of time series and running statistical tests\n",
    "- [ARCH](https://pypi.org/project/arch/): Used in volatility modelling of financial time series\n"
   ]
  },
  {
   "cell_type": "code",
   "execution_count": 4,
   "metadata": {},
   "outputs": [],
   "source": [
    "import os\n",
    "import pandas as pd\n",
    "import numpy as np\n",
    "pd.core.common.is_list_like = pd.api.types.is_list_like\n",
    "import pandas_datareader.data as web\n",
    "import quandl\n",
    "import statsmodels.formula.api as smf\n",
    "import statsmodels.tsa.api as smt\n",
    "import statsmodels.api as sm\n",
    "import statsmodels.stats as sms\n",
    "import scipy.stats as scs\n",
    "from arch import arch_model\n",
    "from statsmodels.tsa.stattools import adfuller\n",
    "\n",
    "import datetime\n",
    "import matplotlib.pyplot as plt\n",
    "import matplotlib as mpl\n",
    "import warnings\n",
    "import seaborn as sns\n",
    "# warnings.filterwarnings(action='once')\n",
    "sns.set()"
   ]
  },
  {
   "cell_type": "markdown",
   "metadata": {},
   "source": [
    "`The below mentioned function plots a time series and helps us analyze important statistical characteristics visually.`"
   ]
  },
  {
   "cell_type": "code",
   "execution_count": 5,
   "metadata": {},
   "outputs": [],
   "source": [
    "def tsplot(y, lags=None, figsize=(10, 8), style='fivethirtyeight'):\n",
    "    if not isinstance(y, pd.Series):\n",
    "        y = pd.Series(y)\n",
    "    with plt.style.context(style):\n",
    "        fig = plt.figure(figsize=figsize)\n",
    "        layout = (3, 2)\n",
    "        ts_ax = plt.subplot2grid(layout, (0, 0), colspan=2)\n",
    "        acf_ax = plt.subplot2grid(layout, (1, 0))\n",
    "        pacf_ax = plt.subplot2grid(layout, (1, 1))\n",
    "        qq_ax = plt.subplot2grid(layout, (2, 0))\n",
    "        pp_ax = plt.subplot2grid(layout, (2, 1))\n",
    "        \n",
    "        y.plot(ax=ts_ax, linewidth=1.5)\n",
    "        ts_ax.set_title('Time Series Analysis Plots')\n",
    "        smt.graphics.plot_acf(y, lags=lags, ax=acf_ax, alpha=0.05)\n",
    "        smt.graphics.plot_pacf(y, lags=lags, ax=pacf_ax, alpha=0.05)\n",
    "        sm.qqplot(y, line='s', ax=qq_ax)\n",
    "        qq_ax.set_title('QQ Plot')\n",
    "        scs.probplot(y, sparams=(y.mean(), y.std()), plot=pp_ax)\n",
    "        \n",
    "        plt.tight_layout()\n",
    "    \n",
    "    return\n"
   ]
  },
  {
   "cell_type": "markdown",
   "metadata": {},
   "source": [
    "`Let's now model a White Noise process and examine the output`"
   ]
  },
  {
   "cell_type": "code",
   "execution_count": 6,
   "metadata": {},
   "outputs": [
    {
     "data": {
      "image/png": "[encoded data removed]",
      "text/plain": [
       "<Figure size 720x576 with 5 Axes>"
      ]
     },
     "metadata": {},
     "output_type": "display_data"
    }
   ],
   "source": [
    "np.random.seed(12)\n",
    "# Plotting discrete white noise\n",
    "randser = np.random.normal(size=1000)\n",
    "tsplot(randser, lags=30)"
   ]
  },
  {
   "cell_type": "code",
   "execution_count": 4,
   "metadata": {},
   "outputs": [
    {
     "name": "stdout",
     "output_type": "stream",
     "text": [
      "Random Series\n",
      " -------------\n",
      "μ: -0.012 \n",
      "σ^2: 1.053 \n",
      "σ: 1.026\n"
     ]
    }
   ],
   "source": [
    "print(\"Random Series\\n -------------\\nμ: %.3f \\nσ^2: %.3f \\nσ: %.3f\"\n",
    "      %(randser.mean(), randser.var(), randser.std()))"
   ]
  },
  {
   "cell_type": "markdown",
   "metadata": {},
   "source": [
    "`From the plots, we can see that the data is distributed randomly and follows a Gaussian white noise process.`\n",
    "\n",
    "#### Understanding the time series plots\n",
    "\n",
    "* The first row at the top plots $\\epsilon_t$ versus t.\n",
    "* The second row has the plots of the [autocorrelation function (ACF)](https://en.wikipedia.org/wiki/Autocorrelation) and the [partial autocorrrelation function (PACF)](https://en.wikipedia.org/wiki/Partial_autocorrelation_function). These plots are called correlograms.\n",
    "    * ACF, as the name suggests, is the correlation of a variable with itself. Here, rather than finding the correlation between two variables, say $x$ and $y$, we compute the correlation between $x_t$ and $x_{t-h}$. We plot these autocorrelations at different lags (1, 2, ...). What interests us is whether there is a pattern in the series or is it truly random. There are two key features that we look for:\n",
    "        1. Does the ACF plot cut off abruptly?\n",
    "        2. Does the ACF plot decay gradually/exponentially?\n",
    "    * PACF, as we would imagine from the name, computes the 'partial' correlation of a variable with itself. Here, we plot the autocorrelations at different lags (1, 2, ...) but after adjusting for the effects of the smaller lags. For ex. the partial autocorrelation calculated at lag 4, would adjust for the effects at lags 1, 2 and 3.\n",
    "\n",
    "By looking at the correlograms of ACF and PACF, we can detect if any autocorrelation is still present after removing the effects of any deterministic trends, or seasonality effects.\n",
    "\n",
    "Once we have fitted a time series model, the correlograms help us to judge if a model is a good fit or if need to further refine it to remove any additional serial correlations.\n",
    "\n",
    "* The third row has [QQ plots](https://www.itl.nist.gov/div898/handbook/eda/section3/qqplot.htm) and the [normal probability plots](https://en.wikipedia.org/wiki/Normal_probability_plot).\n",
    "    * QQ plots are used to compare the distributions of the errors with a normal distribution. If we find that the dots are more or less on the 45 degree line, then it means that the errors are normally distributed (which is what we'd like to see). \n",
    "    * Similarly, the normal probability plot also assesses whether or not the data is approximately normally distributed. If the plotted points form an approximately straight line, it indicated normality.\n",
    "\n",
    "The Q-Q plot should is more helpful in finding deviations at the tails whereas the P-P plot is more suited for deviations at the centre of the distribution.\n",
    "\n",
    "These two plots can also be used in comparing our empirical data to other theoretical distributions (apart from the normal distribution)."
   ]
  },
  {
   "cell_type": "markdown",
   "metadata": {},
   "source": [
    "### Why Do We Care So Much about White Noise (It's noise after all, right? :))\n",
    "\n",
    "Ipso facto, there is nothing particularly interesting about Gaussian White Noise. I'd go so far as to say, it's actually quite boring. If say $\\epsilon_t$ is unusually high, there's no reason for $\\epsilon_{t+1}$ to continue to stay high or go low. It's literally the equivalent of one coin toss having no bearing on the next. \n",
    "\n",
    "But I digress. The White Noise process does not capture the most interesting feature of time series which is persistence. However, as we'll see, more sophisticated models are created by taking different combinations of $\\epsilon_t$."
   ]
  },
  {
   "cell_type": "markdown",
   "metadata": {},
   "source": [
    "### 2. Random Walk process (Without a Drift)\n",
    "\n",
    "The random walk time series model can be represented by the equation $$x_t = x_{t-1} + \\epsilon_t$$, where $\\epsilon_t$ is white noise as defined above.\n"
   ]
  },
  {
   "cell_type": "code",
   "execution_count": null,
   "metadata": {},
   "outputs": [],
   "source": [
    "np.random.seed(8)\n",
    "n_samples = 1000\n",
    "\n",
    "ϵ = np.random.normal(size=n_samples)\n",
    "x = ϵ.copy()\n",
    "for t in range(n_samples):\n",
    "    x[t] = x[t-1] + ϵ[t]\n",
    "\n",
    "_ = tsplot(x, lags=30)\n"
   ]
  },
  {
   "cell_type": "markdown",
   "metadata": {},
   "source": [
    "As we can see from the above plots, the random walk model is a non-stationary process.\n",
    "If we rearrange the above equation, we get $$\\epsilon_t = x_t - x_{t-1}$$\n",
    "\n",
    "Notice that when we compute the first differences of our series, we get the random walk process!\n",
    "Calculating first differences is one of the commonest ways of transforming a non-stationary process into a stationary process. Let me elaborate a little more on this transformation.\n",
    "\n",
    "## Steps involved in transforming non-stationary series to a stationary process\n",
    "\n",
    "We can do this either by taking differences or log differences ( the latter is preferred). We can then visually inspect the time series plot and run the [Augmented Dickey-Fuller test](https://en.wikipedia.org/wiki/Augmented_Dickey%E2%80%93Fuller_test) also referred to as the ADF test. The alternative hypothesis of the ADF test is that the series is stationary. So we check if p-value < 5 %. If test fails, we difference it again and check for stationarity.\n",
    "\n",
    "\n",
    "Let's examine the time series analysis plots of the first difference of $x_t$ and see if we get what we expect to see ( a white noise process).\n"
   ]
  },
  {
   "cell_type": "code",
   "execution_count": null,
   "metadata": {},
   "outputs": [],
   "source": [
    "_ = tsplot(np.diff(x), lags=30)"
   ]
  },
  {
   "cell_type": "markdown",
   "metadata": {},
   "source": [
    "Lo and behold! It's exactly in line with our intuitions. Let's now try the random walk model on some financial data. "
   ]
  },
  {
   "cell_type": "code",
   "execution_count": null,
   "metadata": {},
   "outputs": [],
   "source": [
    "dftest = adfuller(np.diff(x), autolag=\"AIC\")"
   ]
  },
  {
   "cell_type": "code",
   "execution_count": null,
   "metadata": {},
   "outputs": [],
   "source": [
    "dftest[1]"
   ]
  },
  {
   "cell_type": "markdown",
   "metadata": {},
   "source": [
    "### Working with real market data"
   ]
  },
  {
   "cell_type": "code",
   "execution_count": 3,
   "metadata": {},
   "outputs": [],
   "source": [
    "tickers = ['^NSEI3','JUBLFOOD.NS','MPHASIS.NS']\n",
    "\n",
    "collate_data = lambda y: pd.read_csv(y + '.csv', index_col=\"Date\", parse_dates=True)['Adj Close']\n",
    "\n",
    "data = pd.DataFrame({ticker:collate_data(ticker) for ticker in tickers})\n",
    "# computing log price differences\n",
    "lprice = np.log(data)\n",
    "ret = (lprice - lprice.shift(1)).dropna()"
   ]
  },
  {
   "cell_type": "code",
   "execution_count": 4,
   "metadata": {},
   "outputs": [
    {
     "data": {
      "text/html": [
       "<div>\n",
       "<style scoped>\n",
       "    .dataframe tbody tr th:only-of-type {\n",
       "        vertical-align: middle;\n",
       "    }\n",
       "\n",
       "    .dataframe tbody tr th {\n",
       "        vertical-align: top;\n",
       "    }\n",
       "\n",
       "    .dataframe thead th {\n",
       "        text-align: right;\n",
       "    }\n",
       "</style>\n",
       "<table border=\"1\" class=\"dataframe\">\n",
       "  <thead>\n",
       "    <tr style=\"text-align: right;\">\n",
       "      <th></th>\n",
       "      <th>JUBLFOOD.NS</th>\n",
       "      <th>MPHASIS.NS</th>\n",
       "      <th>^NSEI3</th>\n",
       "    </tr>\n",
       "    <tr>\n",
       "      <th>Date</th>\n",
       "      <th></th>\n",
       "      <th></th>\n",
       "      <th></th>\n",
       "    </tr>\n",
       "  </thead>\n",
       "  <tbody>\n",
       "    <tr>\n",
       "      <th>2007-10-08</th>\n",
       "      <td>NaN</td>\n",
       "      <td>207.633057</td>\n",
       "      <td>5085.100098</td>\n",
       "    </tr>\n",
       "    <tr>\n",
       "      <th>2007-10-09</th>\n",
       "      <td>NaN</td>\n",
       "      <td>216.897461</td>\n",
       "      <td>5327.250000</td>\n",
       "    </tr>\n",
       "    <tr>\n",
       "      <th>2007-10-10</th>\n",
       "      <td>NaN</td>\n",
       "      <td>222.233734</td>\n",
       "      <td>5441.450195</td>\n",
       "    </tr>\n",
       "    <tr>\n",
       "      <th>2007-10-11</th>\n",
       "      <td>NaN</td>\n",
       "      <td>219.936157</td>\n",
       "      <td>5524.850098</td>\n",
       "    </tr>\n",
       "    <tr>\n",
       "      <th>2007-10-12</th>\n",
       "      <td>NaN</td>\n",
       "      <td>217.156845</td>\n",
       "      <td>5428.250000</td>\n",
       "    </tr>\n",
       "  </tbody>\n",
       "</table>\n",
       "</div>"
      ],
      "text/plain": [
       "            JUBLFOOD.NS  MPHASIS.NS       ^NSEI3\n",
       "Date                                            \n",
       "2007-10-08          NaN  207.633057  5085.100098\n",
       "2007-10-09          NaN  216.897461  5327.250000\n",
       "2007-10-10          NaN  222.233734  5441.450195\n",
       "2007-10-11          NaN  219.936157  5524.850098\n",
       "2007-10-12          NaN  217.156845  5428.250000"
      ]
     },
     "execution_count": 4,
     "metadata": {},
     "output_type": "execute_result"
    }
   ],
   "source": [
    "data.head()"
   ]
  },
  {
   "cell_type": "code",
   "execution_count": 7,
   "metadata": {},
   "outputs": [
    {
     "data": {
      "text/html": [
       "<div>\n",
       "<style scoped>\n",
       "    .dataframe tbody tr th:only-of-type {\n",
       "        vertical-align: middle;\n",
       "    }\n",
       "\n",
       "    .dataframe tbody tr th {\n",
       "        vertical-align: top;\n",
       "    }\n",
       "\n",
       "    .dataframe thead th {\n",
       "        text-align: right;\n",
       "    }\n",
       "</style>\n",
       "<table border=\"1\" class=\"dataframe\">\n",
       "  <thead>\n",
       "    <tr style=\"text-align: right;\">\n",
       "      <th></th>\n",
       "      <th>JUBLFOOD.NS</th>\n",
       "      <th>MPHASIS.NS</th>\n",
       "      <th>^NSEI3</th>\n",
       "    </tr>\n",
       "    <tr>\n",
       "      <th>Date</th>\n",
       "      <th></th>\n",
       "      <th></th>\n",
       "      <th></th>\n",
       "    </tr>\n",
       "  </thead>\n",
       "  <tbody>\n",
       "    <tr>\n",
       "      <th>2018-09-28</th>\n",
       "      <td>1229.750000</td>\n",
       "      <td>1173.250000</td>\n",
       "      <td>10930.450195</td>\n",
       "    </tr>\n",
       "    <tr>\n",
       "      <th>2018-10-01</th>\n",
       "      <td>1240.750000</td>\n",
       "      <td>1159.900024</td>\n",
       "      <td>11008.299805</td>\n",
       "    </tr>\n",
       "    <tr>\n",
       "      <th>2018-10-03</th>\n",
       "      <td>1192.099976</td>\n",
       "      <td>1159.400024</td>\n",
       "      <td>10858.250000</td>\n",
       "    </tr>\n",
       "    <tr>\n",
       "      <th>2018-10-04</th>\n",
       "      <td>1125.699951</td>\n",
       "      <td>1148.099976</td>\n",
       "      <td>10599.250000</td>\n",
       "    </tr>\n",
       "    <tr>\n",
       "      <th>2018-10-05</th>\n",
       "      <td>1152.050049</td>\n",
       "      <td>1120.599976</td>\n",
       "      <td>10316.450195</td>\n",
       "    </tr>\n",
       "  </tbody>\n",
       "</table>\n",
       "</div>"
      ],
      "text/plain": [
       "            JUBLFOOD.NS   MPHASIS.NS        ^NSEI3\n",
       "Date                                              \n",
       "2018-09-28  1229.750000  1173.250000  10930.450195\n",
       "2018-10-01  1240.750000  1159.900024  11008.299805\n",
       "2018-10-03  1192.099976  1159.400024  10858.250000\n",
       "2018-10-04  1125.699951  1148.099976  10599.250000\n",
       "2018-10-05  1152.050049  1120.599976  10316.450195"
      ]
     },
     "execution_count": 7,
     "metadata": {},
     "output_type": "execute_result"
    }
   ],
   "source": [
    "data.tail()7"
   ]
  },
  {
   "cell_type": "code",
   "execution_count": 10,
   "metadata": {},
   "outputs": [
    {
     "name": "stdout",
     "output_type": "stream",
     "text": [
      "<class 'pandas.core.frame.DataFrame'>\n",
      "DatetimeIndex: 2123 entries, 2010-02-08 to 2018-10-05\n",
      "Data columns (total 3 columns):\n",
      "JUBLFOOD.NS    2123 non-null float64\n",
      "MPHASIS.NS     2123 non-null float64\n",
      "^NSEI3         2123 non-null float64\n",
      "dtypes: float64(3)\n",
      "memory usage: 66.3 KB\n"
     ]
    }
   ],
   "source": [
    "data.info()"
   ]
  },
  {
   "cell_type": "code",
   "execution_count": 5,
   "metadata": {},
   "outputs": [],
   "source": [
    "data.dropna(inplace=True)"
   ]
  },
  {
   "cell_type": "code",
   "execution_count": 6,
   "metadata": {},
   "outputs": [
    {
     "data": {
      "text/html": [
       "<div>\n",
       "<style scoped>\n",
       "    .dataframe tbody tr th:only-of-type {\n",
       "        vertical-align: middle;\n",
       "    }\n",
       "\n",
       "    .dataframe tbody tr th {\n",
       "        vertical-align: top;\n",
       "    }\n",
       "\n",
       "    .dataframe thead th {\n",
       "        text-align: right;\n",
       "    }\n",
       "</style>\n",
       "<table border=\"1\" class=\"dataframe\">\n",
       "  <thead>\n",
       "    <tr style=\"text-align: right;\">\n",
       "      <th></th>\n",
       "      <th>JUBLFOOD.NS</th>\n",
       "      <th>MPHASIS.NS</th>\n",
       "      <th>^NSEI3</th>\n",
       "    </tr>\n",
       "    <tr>\n",
       "      <th>Date</th>\n",
       "      <th></th>\n",
       "      <th></th>\n",
       "      <th></th>\n",
       "    </tr>\n",
       "  </thead>\n",
       "  <tbody>\n",
       "    <tr>\n",
       "      <th>2010-02-09</th>\n",
       "      <td>0.014852</td>\n",
       "      <td>0.022454</td>\n",
       "      <td>0.006752</td>\n",
       "    </tr>\n",
       "    <tr>\n",
       "      <th>2010-02-10</th>\n",
       "      <td>-0.038402</td>\n",
       "      <td>-0.000417</td>\n",
       "      <td>-0.007424</td>\n",
       "    </tr>\n",
       "    <tr>\n",
       "      <th>2010-02-11</th>\n",
       "      <td>-0.017384</td>\n",
       "      <td>0.012713</td>\n",
       "      <td>0.014535</td>\n",
       "    </tr>\n",
       "    <tr>\n",
       "      <th>2010-02-15</th>\n",
       "      <td>-0.007824</td>\n",
       "      <td>-0.002337</td>\n",
       "      <td>-0.005172</td>\n",
       "    </tr>\n",
       "    <tr>\n",
       "      <th>2010-02-16</th>\n",
       "      <td>0.004789</td>\n",
       "      <td>0.017464</td>\n",
       "      <td>0.011141</td>\n",
       "    </tr>\n",
       "  </tbody>\n",
       "</table>\n",
       "</div>"
      ],
      "text/plain": [
       "            JUBLFOOD.NS  MPHASIS.NS    ^NSEI3\n",
       "Date                                         \n",
       "2010-02-09     0.014852    0.022454  0.006752\n",
       "2010-02-10    -0.038402   -0.000417 -0.007424\n",
       "2010-02-11    -0.017384    0.012713  0.014535\n",
       "2010-02-15    -0.007824   -0.002337 -0.005172\n",
       "2010-02-16     0.004789    0.017464  0.011141"
      ]
     },
     "execution_count": 6,
     "metadata": {},
     "output_type": "execute_result"
    }
   ],
   "source": [
    "ret.head()"
   ]
  },
  {
   "cell_type": "code",
   "execution_count": 7,
   "metadata": {},
   "outputs": [
    {
     "data": {
      "text/plain": [
       "<matplotlib.axes._subplots.AxesSubplot at 0xd5208d0>"
      ]
     },
     "execution_count": 7,
     "metadata": {},
     "output_type": "execute_result"
    },
    {
     "data": {
      "image/png": "[encoded data removed]",
      "text/plain": [
       "<Figure size 864x576 with 1 Axes>"
      ]
     },
     "metadata": {},
     "output_type": "display_data"
    }
   ],
   "source": [
    "data[['MPHASIS.NS', 'JUBLFOOD.NS']].plot(linewidth=1.5, grid=True, figsize=(12, 8))"
   ]
  },
  {
   "cell_type": "code",
   "execution_count": 8,
   "metadata": {},
   "outputs": [
    {
     "data": {
      "text/plain": [
       "<matplotlib.axes._subplots.AxesSubplot at 0xd604a58>"
      ]
     },
     "execution_count": 8,
     "metadata": {},
     "output_type": "execute_result"
    },
    {
     "data": {
      "image/png": "[encoded data removed]",
      "text/plain": [
       "<Figure size 864x576 with 1 Axes>"
      ]
     },
     "metadata": {},
     "output_type": "display_data"
    }
   ],
   "source": [
    "data['^NSEI3'].plot(linewidth=1.5, grid=True, figsize=(12, 8))"
   ]
  },
  {
   "cell_type": "code",
   "execution_count": 14,
   "metadata": {},
   "outputs": [
    {
     "data": {
      "image/png": "[encoded data removed]",
      "text/plain": [
       "<Figure size 720x576 with 5 Axes>"
      ]
     },
     "metadata": {},
     "output_type": "display_data"
    }
   ],
   "source": [
    "_ = tsplot(ret['^NSEI3'], lags=30)\n",
    "plt.savefig('output3.png')"
   ]
  },
  {
   "cell_type": "markdown",
   "metadata": {},
   "source": [
    "` The time series plot looks quite similar to white noise at first glance. However, the volatility seems to be time-varying. Notice also the QQ and the probability plots. Both indicate that the process is approximately normal but with fat tails. Also, when we closely examine the correlograms, there appears to be some significant autocorrelations at lags 1, 2 and 4. This means we could have better models to describe the daily returns process.`\n",
    "\n",
    "You can read more about fat tails [here](https://www.investopedia.com/terms/t/tailrisk.asp)."
   ]
  },
  {
   "cell_type": "code",
   "execution_count": null,
   "metadata": {},
   "outputs": [],
   "source": [
    "dftest = adfuller(ret['JUBLFOOD.NS'], autolag=\"AIC\")\n",
    "dftest2 = adfuller(data['JUBLFOOD.NS'].dropna(), autolag=\"AIC\")"
   ]
  },
  {
   "cell_type": "code",
   "execution_count": null,
   "metadata": {},
   "outputs": [],
   "source": [
    "dftest[1], dftest2[1]"
   ]
  },
  {
   "cell_type": "markdown",
   "metadata": {},
   "source": [
    "`The ADF test results confirm what we can see visually. The returns series is stationary and the price series is not.`"
   ]
  },
  {
   "cell_type": "markdown",
   "metadata": {},
   "source": [
    "### Basic ARMA Models\n",
    "\n",
    "These are a class of models which are created by taking linear combinations of white noise. **All of the below models would have good explanatory and predictive power only if the time series is covariance stationary.**\n",
    "\n",
    "$$AR(1) : x_t = \\phi x_{t-1} + \\epsilon_t$$\n",
    "$$MA(1) : x_t = \\epsilon_t + \\theta \\epsilon_{t-1}$$\n",
    "\n",
    "$$AR(p) : x_t = \\phi_1 x_{t-1} + \\phi_2 x_{t-2} + \\dots + \\phi_p x_{t-p} + \\epsilon_t$$\n",
    "$$MA(q) : x_t = \\epsilon_t + \\theta_1 \\epsilon_{t-1} + \\dots + \\theta_q \\epsilon_q$$\n",
    "\n",
    "$$ARMA(p, q) : x_t = \\phi_1 x_{t-1} + \\phi_2 x_{t-2} + \\dots + \\phi_p x_{t-p} + \\epsilon_t + \\theta_1 \\epsilon_{t-1} + \\dots + \\theta_q \\epsilon_q$$\n"
   ]
  },
  {
   "cell_type": "markdown",
   "metadata": {},
   "source": [
    "Notice how all the models that we have seen above will generate sequences $\\{x_t\\}$ that can be computed with \n",
    "* a starting value for the $\\{x_t\\}$ process, $x_0$\n",
    "* a sequence of realizations of the white noise process $\\{\\epsilon_t\\}$"
   ]
  },
  {
   "cell_type": "markdown",
   "metadata": {},
   "source": [
    "Autoregressive models are a multivariate extension of the random walk model. What this means in English is that the current value of the process is a linear combination of past observations.\n",
    "\n",
    "Moving Average models are very similar to $AR(p)$ models. In $MA(q)$ models, the current value of the process is a linear combination of past error terms.\n",
    "\n",
    "An even more realistic model combines the characteristics of $AR$ and $MA$ processes and is called the Auto Regressive Moving Average (ARMA) model.\n",
    "\n",
    "* $AR(p)$ models attempt to explain the mean reversion and trending behaviours that we observe in asset prices.\n",
    "* $MA(q)$ models try to capture the idiosyncratic shocks that are observed in financial markets. A white noise process models these shocks quite well. We can think of events like terrorist attacks, earnings surprises, sudden political changes, etc. as the random shocks affecting the asset price movements.\n",
    "\n",
    "You can learn more about these models by going through the relevant references cited at the end of this document.\n",
    "\n",
    "We will now go through simulations of different processes to get a better feel for them and their key statistical properties.\n",
    "\n",
    "### Simulation of an $AR(1)$ process with $\\phi = 0.75$"
   ]
  },
  {
   "cell_type": "code",
   "execution_count": null,
   "metadata": {},
   "outputs": [],
   "source": [
    "np.random.seed(45)\n",
    "n_samples = int(1000)\n",
    "ϕ = 0.75\n",
    "\n",
    "ϵ = np.random.normal(size=n_samples)\n",
    "x = ϵ.copy()\n",
    "\n",
    "for t in range(n_samples):\n",
    "    x[t] = ϕ * x[t-1] + ϵ[t]\n",
    "    \n",
    "_ = tsplot(x, lags=30)\n",
    "#plt.savefig('try.png')"
   ]
  },
  {
   "cell_type": "markdown",
   "metadata": {},
   "source": [
    "### Fitting an $AR(p)$ model\n",
    "\n",
    "` We use the statsmodels package to estimate the coefficients and also the order. If the AR model is correct, then the estimated phi coefficient should be approximately equal to the true value of 0.75 and the order of the process should be 1.`"
   ]
  },
  {
   "cell_type": "code",
   "execution_count": null,
   "metadata": {},
   "outputs": [],
   "source": [
    "sm.tsa.AR.select_order?"
   ]
  },
  {
   "cell_type": "code",
   "execution_count": null,
   "metadata": {},
   "outputs": [],
   "source": [
    "mdl = sm.tsa.AR(x).fit(maxlag=30, ic='aic', trend='nc')\n",
    "est_order = sm.tsa.AR(x).select_order( maxlag=30, ic='aic', trend='nc')"
   ]
  },
  {
   "cell_type": "code",
   "execution_count": null,
   "metadata": {},
   "outputs": [],
   "source": [
    "true_order = 1\n",
    "print('Estimated ϕ: %3.5f | Estimated order: %s'%(mdl.params, est_order))\n",
    "#print(\"Estimated ϕ\", round(mdl.params[0], 2))\n",
    "#, est_order)\n",
    "print(\"\\nTrue ϕ = %3.3f | True order: %s\" %(ϕ, 1))"
   ]
  },
  {
   "cell_type": "markdown",
   "metadata": {},
   "source": [
    "### Simulation of an  $MA(1)$  process with $\\theta = 0.75$"
   ]
  },
  {
   "cell_type": "code",
   "execution_count": null,
   "metadata": {},
   "outputs": [],
   "source": [
    "np.random.seed(253)\n",
    "n = int(1000)\n",
    "\n",
    "# Setting the AR(p) phis equal to 0\n",
    "phis = np.array([0.])\n",
    "thetas = np.array([0.75])\n",
    "\n",
    "## Adding zero-lags and negate the phis\n",
    "ar = np.r_[1, -phis]\n",
    "ma = np.r_[1, thetas]\n",
    "\n",
    "ma1 = smt.arma_generate_sample(ar=ar, ma=ma, nsample=n)\n",
    "_ = tsplot(ma1, lags=30)"
   ]
  },
  {
   "cell_type": "markdown",
   "metadata": {},
   "source": [
    "### Fitting an $MA(q)$ model\n",
    "\n",
    "` We run a set of steps to estimate the coeeficients of the MA process. Let's try and fit an MA(1) as shown.`"
   ]
  },
  {
   "cell_type": "code",
   "execution_count": null,
   "metadata": {},
   "outputs": [],
   "source": [
    "max_lag = 30\n",
    "mdl = smt.ARMA(ma1, order=(0, 1)).fit(\n",
    "    maxlag=max_lag, method='mle', trend='nc')\n",
    "print(mdl.summary())"
   ]
  },
  {
   "cell_type": "markdown",
   "metadata": {},
   "source": [
    "### Simulation and fitting of an $ARMA(2, 2)$ process with $\\phi$ = [0.6, -0.25] and $\\theta$ = [0.5, -0.4]"
   ]
  },
  {
   "cell_type": "code",
   "execution_count": null,
   "metadata": {},
   "outputs": [],
   "source": [
    "max_lag = 30\n",
    "\n",
    "n = int(10000) # a lot of samples to help estimates\n",
    "burn = int(n/10) # number of samples to discard before fit\n",
    "\n",
    "ϕ = np.array([0.6, -0.25])\n",
    "θ = np.array([0.5, -0.4])\n",
    "ar = np.r_[1, -ϕ]\n",
    "ma = np.r_[1, θ]\n",
    "\n",
    "arma22 = smt.arma_generate_sample(ar=ar, ma=ma, nsample=n, burnin=burn)\n",
    "_ = tsplot(arma22, lags=max_lag)\n",
    "\n",
    "mdl = smt.ARMA(arma22, order=(2, 2)).fit(\n",
    "    maxlag=max_lag, method='mle', trend='nc', burnin=burn)\n",
    "print(mdl.summary())"
   ]
  },
  {
   "cell_type": "markdown",
   "metadata": {},
   "source": [
    "### Simulating and fitting an $AR(3)$ process with $\\phi$ = [0.4, -0.3, 0.25]"
   ]
  },
  {
   "cell_type": "code",
   "execution_count": null,
   "metadata": {},
   "outputs": [],
   "source": [
    "n = int(1000)\n",
    "ϕ = np.array([0.4, -0.3, 0.25])\n",
    "θ = np.array([0.])\n",
    "\n",
    "# Please go through the documentation of statsmodels.org.\n",
    "\n",
    "ar = np.r_[1, -ϕ]\n",
    "ma = np.r_[1, θ]\n",
    "\n",
    "ar3 = smt.arma_generate_sample(ar=ar, ma=ma, nsample=n) \n",
    "_ = tsplot(ar3, lags=30)"
   ]
  },
  {
   "cell_type": "markdown",
   "metadata": {},
   "source": [
    "` If we naively fit a model, it will fit the model with a number of lagged variables as shown below (resulting in overfitting).`"
   ]
  },
  {
   "cell_type": "code",
   "execution_count": null,
   "metadata": {},
   "outputs": [],
   "source": [
    "mdl = smt.AR(ar3).fit()\n",
    "print(\"The number of lagged variables are \", len(mdl.params))\n",
    "print(\"The coefficients of the lagged variables are \", mdl.params)\n",
    "print(\"The corresponding standard errors are\", mdl.bse)\n"
   ]
  },
  {
   "cell_type": "markdown",
   "metadata": {},
   "source": [
    "Our guiding principle when we build models should be [Occam's Razor](http://pespmc1.vub.ac.be/OCCAMRAZ.html). We would therefore want a model with the fewest parameters that can explain our time series process. We therefore use information criterion (and [Akaike Information Criterion](https://en.wikipedia.org/wiki/Akaike_information_criterion) in particular). When choosing from multiple competing models, we choose the one which has the smallest AIC. The idea is that we pick the model that has the 'right' (as defined by AIC or any other information criterion) balance of fitting our data reasonably well while not being overly complex.\n"
   ]
  },
  {
   "cell_type": "code",
   "execution_count": null,
   "metadata": {},
   "outputs": [],
   "source": [
    "N = 10\n",
    "AIC = np.zeros((N,1))\n",
    "\n",
    "for i in range(N):\n",
    "    model = smt.AR(ar3)\n",
    "    model = model.fit(maxlag=(i+1))\n",
    "    AIC[i] = model.aic\n",
    "    \n",
    "AIC_min = np.min(AIC)\n",
    "model_min = np.argmin(AIC)\n",
    "\n",
    "print(\"The model with the lowest AIC has\", model_min+1, \"parameters\")"
   ]
  },
  {
   "cell_type": "markdown",
   "metadata": {},
   "source": [
    "### Evaluating the Residuals\n",
    "\n",
    "The aim of any model fitting exercise for our time series is that the errors should be white noise. So, the final step after fitting our model is to examine its residuals.\n",
    "We do this by running the [Jarque-Bera test](http://www.statsmodels.org/dev/generated/statsmodels.stats.stattools.jarque_bera.html). Our null hypothesis is that the data is normally distributed. \n",
    "\n",
    "In our case, we would perform the test to check the normality of the residuals after we fit the model based on the AIC as we have done above."
   ]
  },
  {
   "cell_type": "code",
   "execution_count": null,
   "metadata": {},
   "outputs": [],
   "source": [
    "mdl = smt.AR(ar3)\n",
    "mdl = mdl.fit(maxlag=(model_min+1))\n"
   ]
  },
  {
   "cell_type": "markdown",
   "metadata": {},
   "source": [
    "`Here's a visual examination of the residuals`"
   ]
  },
  {
   "cell_type": "code",
   "execution_count": null,
   "metadata": {},
   "outputs": [],
   "source": [
    "tsplot(mdl.resid, lags=30)"
   ]
  },
  {
   "cell_type": "markdown",
   "metadata": {},
   "source": [
    "`As we'd hoped, the residuals look like white noise. Visually, it looks the way we'd like it to. Let's now run the test and check if our hunch is indeed correct.`"
   ]
  },
  {
   "cell_type": "code",
   "execution_count": null,
   "metadata": {},
   "outputs": [],
   "source": [
    "from statsmodels.stats.stattools import jarque_bera\n",
    "\n",
    "score, pvalue, _, _ = jarque_bera(mdl.resid)\n",
    "if pvalue < 0.05:\n",
    "    print(\"Our residuals are likely not normally distributed.\")\n",
    "else:\n",
    "    print(\"Our residuals are likely normally distributed.\")\n"
   ]
  },
  {
   "cell_type": "markdown",
   "metadata": {},
   "source": [
    "### Applying various AR and MA models to real financial market log returns"
   ]
  },
  {
   "cell_type": "code",
   "execution_count": 9,
   "metadata": {},
   "outputs": [
    {
     "data": {
      "text/plain": [
       "<matplotlib.axes._subplots.AxesSubplot at 0xd316828>"
      ]
     },
     "execution_count": 9,
     "metadata": {},
     "output_type": "execute_result"
    },
    {
     "data": {
      "image/png": "[encoded data removed]",
      "text/plain": [
       "<Figure size 720x576 with 1 Axes>"
      ]
     },
     "metadata": {},
     "output_type": "display_data"
    }
   ],
   "source": [
    "lprice.plot(figsize=(10, 8), linewidth=1.5, grid=True)"
   ]
  },
  {
   "cell_type": "markdown",
   "metadata": {},
   "source": [
    "` Selecting the best lag order while using AR(p) for the Nifty returns`"
   ]
  },
  {
   "cell_type": "code",
   "execution_count": 16,
   "metadata": {},
   "outputs": [
    {
     "name": "stderr",
     "output_type": "stream",
     "text": [
      "C:\\Miniconda3\\envs\\bayesian\\lib\\site-packages\\statsmodels\\tsa\\base\\tsa_model.py:225: ValueWarning: A date index has been provided, but it has no associated frequency information and so will be ignored when e.g. forecasting.\n",
      "  ' ignored when e.g. forecasting.', ValueWarning)\n"
     ]
    },
    {
     "name": "stdout",
     "output_type": "stream",
     "text": [
      "The best estimated lag order is 1\n"
     ]
    },
    {
     "data": {
      "image/png": "[encoded data removed]",
      "text/plain": [
       "<Figure size 720x576 with 5 Axes>"
      ]
     },
     "metadata": {},
     "output_type": "display_data"
    }
   ],
   "source": [
    "max_lag = 30\n",
    "mdl = smt.AR(ret['^NSEI3']).fit(maxlag=max_lag, ic='aic', trend='nc')\n",
    "est_order = smt.AR(ret['^NSEI3']).select_order(maxlag=max_lag, ic='aic', trend='nc')\n",
    "\n",
    "print(\"The best estimated lag order is\", est_order)\n",
    "_ = tsplot(mdl.resid, lags=max_lag)"
   ]
  },
  {
   "cell_type": "markdown",
   "metadata": {},
   "source": [
    "`You can later try running this on other assets. There would be times when you could end up with even an an AR(30) model! These are way too many parameters to be useful in real life. The QQ and probability plots also clearly show fat tails. Autoregressive processes are more likely to have extreme values than normal processes. Since there is serial correlation between successive values, if the value goes unusually high or low it is likely to stay at those levels for some time. This kind of behavior results in fat tails in the probability distribution. From the above plots, we can safely say that the process is more complex than just being a weighted average of past returns. We need to dig deeper.`\n",
    "\n",
    "` A test of normality of residuals also proves that the conclusions we drew from the previous graph were correct.`"
   ]
  },
  {
   "cell_type": "code",
   "execution_count": null,
   "metadata": {},
   "outputs": [],
   "source": [
    "from statsmodels.stats.stattools import jarque_bera\n",
    "\n",
    "score, pvalue, _, _ = jarque_bera(mdl.resid)\n",
    "if pvalue < 0.05:\n",
    "    print(\"Our residuals are likely not normally distributed.\")\n",
    "else:\n",
    "    print(\"Our residuals are likely normally distributed.\")"
   ]
  },
  {
   "cell_type": "markdown",
   "metadata": {},
   "source": [
    "` We'll now try fitting in an MA(3) to model Nifty log returns`"
   ]
  },
  {
   "cell_type": "code",
   "execution_count": null,
   "metadata": {},
   "outputs": [],
   "source": [
    "max_lag = 30\n",
    "mdl = smt.ARMA(ret['^NSEI3'], order=(0, 3)).fit(maxlag=max_lag, method='mle', trend='nc')\n",
    "print(mdl.summary())\n",
    "_ = tsplot(mdl.resid, lags=max_lag)"
   ]
  },
  {
   "cell_type": "code",
   "execution_count": null,
   "metadata": {},
   "outputs": [],
   "source": [
    "max_lag = 30\n",
    "mdl = smt.ARMA(ret['^NSEI3'], order=(0, 5)).fit(maxlag=max_lag, method='mle', trend='nc')\n",
    "print(mdl.summary())\n",
    "_ = tsplot(mdl.resid, lags=max_lag)"
   ]
  },
  {
   "cell_type": "code",
   "execution_count": null,
   "metadata": {},
   "outputs": [],
   "source": [
    "from statsmodels.stats.stattools import jarque_bera\n",
    "\n",
    "score, pvalue, _, _ = jarque_bera(mdl.resid)\n",
    "if pvalue < 0.05:\n",
    "    print(\"Our residuals are likely not normally distributed.\")\n",
    "else:\n",
    "    print(\"Our residuals are likely normally distributed.\")"
   ]
  },
  {
   "cell_type": "markdown",
   "metadata": {},
   "source": [
    "### Going back to ARMA models"
   ]
  },
  {
   "cell_type": "markdown",
   "metadata": {},
   "source": [
    "` Fitting an ARMA model can be done similar to how we did it for AR or MA models i.e. by selecting the model with the lowest AIC. We do so by trying models with different combinations of p and q. We will then apply the Ljung-Box test to determine if a good fit has been achieved. If the p-value is higher than that required for significance, we can then conclude that that the residuals are independent and Gaussian white noise.`"
   ]
  },
  {
   "cell_type": "markdown",
   "metadata": {},
   "source": [
    "### Simulating an $ARMA(3, 2)$ model with $\\phi = [0.5, -0.4, 0.25]$ and $\\theta = [0.5, -0.3]$"
   ]
  },
  {
   "cell_type": "code",
   "execution_count": null,
   "metadata": {},
   "outputs": [],
   "source": [
    "max_lag = 30\n",
    "\n",
    "n = int(10000)\n",
    "burn = 2000\n",
    "\n",
    "ϕ = np.array([0.5, -0.4, 0.25])\n",
    "θ = np.array([0.5, -0.3])\n",
    "\n",
    "ar = np.r_[1, -ϕ]\n",
    "ma = np.r_[1, θ]\n",
    "\n",
    "arma32 = smt.arma_generate_sample(ar=ar, ma=ma, nsample=n, burnin=burn)\n",
    "_ = tsplot(arma32, lags=max_lag)"
   ]
  },
  {
   "cell_type": "markdown",
   "metadata": {},
   "source": [
    "### Fitting the most suitable ARMA model\n",
    "\n",
    "` The order with the smallest AIC would be picked.`"
   ]
  },
  {
   "cell_type": "code",
   "execution_count": null,
   "metadata": {},
   "outputs": [],
   "source": [
    "best_aic = np.inf\n",
    "best_order = None\n",
    "best_mdl = None\n",
    "\n",
    "rng = range(5)\n",
    "for i in rng:\n",
    "    for j in rng:\n",
    "        try:\n",
    "            tmp_mdl = smt.ARMA(arma32, order=(i, j)).fit(method='mle', trend='nc')\n",
    "            tmp_aic = tmp_mdl.aic\n",
    "            if tmp_aic < best_aic:\n",
    "                best_aic = tmp_aic\n",
    "                best_order = (i, j)\n",
    "                best_mdl = tmp_mdl\n",
    "        except:\n",
    "            continue\n",
    "            \n",
    "print(\"aic : \",best_aic, \"| order : \",best_order)"
   ]
  },
  {
   "cell_type": "markdown",
   "metadata": {},
   "source": [
    "The [Ljung-Box test](https://en.wikipedia.org/wiki/Ljung%E2%80%93Box_test) is used to check for randomness of the time series at different lags. Its null hypothesis is that the serial correlations of a time series are zero. We run it and form conclusions based on the p-values obtained."
   ]
  },
  {
   "cell_type": "code",
   "execution_count": null,
   "metadata": {},
   "outputs": [],
   "source": [
    "sms.diagnostic.acorr_ljungbox(best_mdl.resid, lags=[20], boxpierce=False)"
   ]
  },
  {
   "cell_type": "markdown",
   "metadata": {},
   "source": [
    "`The p-value of 0.94 is greater than the 5% significance level. We therefore fail to reject the null hypothesis and conclude that the ARMA(3, 2) model provides a good fit.`\n",
    "\n",
    "`This is precisely what we'd expect to see since the time series data that we're trying to model is a randomly created simulation of the ARMA(3, 2) process.`"
   ]
  },
  {
   "cell_type": "code",
   "execution_count": null,
   "metadata": {},
   "outputs": [],
   "source": [
    "_ = tsplot(best_mdl.resid, lags=max_lag)"
   ]
  },
  {
   "cell_type": "code",
   "execution_count": null,
   "metadata": {},
   "outputs": [],
   "source": [
    "from statsmodels.stats.stattools import jarque_bera\n",
    "\n",
    "score, pvalue, _, _ = jarque_bera(best_mdl.resid)\n",
    "if pvalue < 0.05:\n",
    "    print(\"Our residuals are likely not normally distributed.\")\n",
    "else:\n",
    "    print(\"Our residuals are likely normally distributed.\")"
   ]
  },
  {
   "cell_type": "markdown",
   "metadata": {},
   "source": [
    "### Fitting an ARMA model to Nifty returns"
   ]
  },
  {
   "cell_type": "code",
   "execution_count": null,
   "metadata": {},
   "outputs": [],
   "source": [
    "best_aic = np.inf\n",
    "best_order = None\n",
    "best_mdl = None\n",
    "\n",
    "rng = range(5)\n",
    "for i in rng:\n",
    "    for j in rng:\n",
    "        try:\n",
    "            tmp_mdl = smt.ARMA(ret['^NSEI3'], order=(i, j)).fit(method='mle', trend='nc')\n",
    "            tmp_aic = tmp_mdl.aic\n",
    "            if tmp_aic < best_aic:\n",
    "                best_aic = tmp_aic\n",
    "                best_order = (i, j)\n",
    "                best_mdl = tmp_mdl\n",
    "        except:\n",
    "            continue\n",
    "            \n",
    "print(\"aic : \",best_aic, \"| order : \",best_order)"
   ]
  },
  {
   "cell_type": "code",
   "execution_count": null,
   "metadata": {},
   "outputs": [],
   "source": [
    "_ = tsplot(best_mdl.resid, lags=max_lag)"
   ]
  },
  {
   "cell_type": "code",
   "execution_count": null,
   "metadata": {},
   "outputs": [],
   "source": [
    "sms.diagnostic.acorr_ljungbox(best_mdl.resid, lags=[20], boxpierce=False)"
   ]
  },
  {
   "cell_type": "code",
   "execution_count": null,
   "metadata": {},
   "outputs": [],
   "source": [
    "score, pvalue, _, _ = jarque_bera(best_mdl.resid)\n",
    "if pvalue < 0.05:\n",
    "    print(\"Our residuals are likely not normally distributed.\")\n",
    "else:\n",
    "    print(\"Our residuals are likely normally distributed.\")"
   ]
  },
  {
   "cell_type": "markdown",
   "metadata": {},
   "source": [
    "Despite combining the AR and MA models to produce ARMA models, we will more often than not encounter cases where we would be unable to fully explain the time series process i.e. the residuals obtained after our model fitting exercises would not be Gaussian White Noise.\n",
    "\n",
    "This sets us up nicely to look at the ARIMA/GARCH models which comes to our rescue.\n",
    "\n",
    "### Autoregressive Integrated Moving Average Models - $ARIMA(p, d, q)$"
   ]
  },
  {
   "cell_type": "markdown",
   "metadata": {},
   "source": [
    "[ARIMA models](https://en.wikipedia.org/wiki/Autoregressive_integrated_moving_average) are a generalization of the ARMA class of models. We transform many non-stationary series to a stationary form by differencing them. We sometimes do so successively.\n",
    "\n",
    "We'd done precisely this when we converted the random walk model into a stationary series (which was white noise).\n",
    "To recap, this is what we'd done. $$\\epsilon_t = x_t - x_{t-1}$$\n",
    "\n",
    "The above step that we had performed is called first-differencing. When we perform this step repeatedly, $d$ times, to convert a non-stationary series to a stationary series, we define the original series to be $Integrated\\; of\\; order\\; d$.\n",
    "\n",
    "An $ARIMA(p, d, q)$ model when differenced $d$ times gives us an $ARMA(p, q)$ model.\n",
    "ARIMA models can be estimated/fitted using the [Box-Jenkins](https://en.wikipedia.org/wiki/Box%E2%80%93Jenkins_method) approach.\n",
    "\n",
    "As a side note, seasonality effects which is often seen in commodity prices are well modeled by $Seasonal\\; ARIMA\\; (SARIMA)$. You can read more about it [here](https://newonlinecourses.science.psu.edu/stat510/node/67/).\n"
   ]
  },
  {
   "cell_type": "markdown",
   "metadata": {},
   "source": [
    "### Simulating an $ARIMA(2, 1, 1)$ model with $\\phi = [0.5, -0.25]$ and $\\theta = [-0.5]$ and then fitting an $ARIMA$ model to our simulated data"
   ]
  },
  {
   "cell_type": "code",
   "execution_count": null,
   "metadata": {},
   "outputs": [],
   "source": [
    "max_lag = 30\n",
    "\n",
    "n = int(10000)\n",
    "burn = 2000\n",
    "\n",
    "ϕ = np.array([0.5, -0.25])\n",
    "θ = np.array([-0.5])\n",
    "\n",
    "ar = np.r_[1, -ϕ]\n",
    "ma = np.r_[1, θ]\n",
    "\n",
    "arma21 = smt.arma_generate_sample(ar=ar, ma=ma, nsample=n, burnin=burn)\n",
    "arima211 = arma21.cumsum()\n",
    "_ = tsplot(arima211, lags=max_lag)"
   ]
  },
  {
   "cell_type": "code",
   "execution_count": null,
   "metadata": {},
   "outputs": [],
   "source": [
    "best_aic = np.inf\n",
    "best_order = None\n",
    "best_mdl = None\n",
    "\n",
    "pq_rng = range(5)\n",
    "d_rng = range(2)\n",
    "for i in pq_rng:\n",
    "    for d in d_rng:\n",
    "        for j in pq_rng:\n",
    "            try:\n",
    "                tmp_mdl = smt.ARIMA(arima211, order=(i, d, j)).fit(method='mle', trend='nc')\n",
    "                tmp_aic = tmp_mdl.aic\n",
    "                if tmp_aic < best_aic:\n",
    "                    best_aic = tmp_aic\n",
    "                    best_order = (i, d, j)\n",
    "                    best_mdl = tmp_mdl\n",
    "            except:\n",
    "                continue\n",
    "            \n",
    "print(\"aic : \",best_aic, \"| order : \",best_order)"
   ]
  },
  {
   "cell_type": "code",
   "execution_count": null,
   "metadata": {},
   "outputs": [],
   "source": [
    "_ = tsplot(best_mdl.resid, lags=30)"
   ]
  },
  {
   "cell_type": "code",
   "execution_count": null,
   "metadata": {},
   "outputs": [],
   "source": [
    "sms.diagnostic.acorr_ljungbox(best_mdl.resid, lags=[20], boxpierce=False)"
   ]
  },
  {
   "cell_type": "code",
   "execution_count": null,
   "metadata": {},
   "outputs": [],
   "source": [
    "from statsmodels.stats.stattools import jarque_bera\n",
    "\n",
    "score, pvalue, _, _ = jarque_bera(best_mdl.resid)\n",
    "if pvalue < 0.05:\n",
    "    print(\"Our residuals are likely not normally distributed.\")\n",
    "else:\n",
    "    print(\"Our residuals are likely normally distributed.\")"
   ]
  },
  {
   "cell_type": "markdown",
   "metadata": {},
   "source": [
    "`We perform the Ljung-Box test as well as the Jarque-Bera test and find strong evidence for the ARIMA(2, 1, 1) model to be a good fit as expected.`"
   ]
  },
  {
   "cell_type": "markdown",
   "metadata": {},
   "source": [
    "## Steps involved in building a time series model\n",
    "\n",
    "The reality is that building and testing a model does not follow any rigid pattern of predefined steps. However, it is useful as a starting point to picture it as a set of key steps. In practice, we will move back and forth between these steps\n",
    "\n",
    "1. Download asset prices\n",
    "2. For any kind of analysis, we would like our time series to be stationary. So we test for it. We do so using the [Augmented Dickey-Fuller test](https://en.wikipedia.org/wiki/Augmented_Dickey%E2%80%93Fuller_test) also referred to as the ADF test. The alternative hypothesis of the ADF test is that the series is stationary. So we check if p-value < 5 %.\n",
    "3. Rather than trying out different combinations of ARMA, we can directly use ARIMA since it would reduce a non-stationary series to a stationary series by sequentially differencing.\n",
    "4. Choose the ARIMA model based on lowest AIC.\n",
    "5. Use the Ljung-Box and the Jarque-Bera tests to check the behaviour of the residuals.\n",
    "6. Run the ADF test on the residuals of the model to check for stationarity. If p-values < 0.05, our model for returns should be acceptable.\n",
    "7. Based on the step 5/6, use ARCH/GARCH to model the volatility.\n"
   ]
  },
  {
   "cell_type": "markdown",
   "metadata": {},
   "source": [
    "### Checking the ARIMA model fitment for the Nifty log prices\n",
    "\n",
    "We will cycle through a non-trivial number of combinations of (p, d, q)"
   ]
  },
  {
   "cell_type": "code",
   "execution_count": null,
   "metadata": {},
   "outputs": [],
   "source": [
    "def best_arima(dataframe):\n",
    "    best_aic = np.inf \n",
    "    best_order = None\n",
    "    best_mdl = None\n",
    "\n",
    "    pq_rng = range(5) # [0,1,2,3,4]\n",
    "    d_rng = range(2) # [0,1]\n",
    "    for i in pq_rng:\n",
    "        for d in d_rng:\n",
    "            for j in pq_rng:\n",
    "                try:\n",
    "                    tmp_mdl = smt.ARIMA(dataframe, order=(i,d,j)).fit(\n",
    "                        method='mle', trend='nc'\n",
    "                    )\n",
    "                    tmp_aic = tmp_mdl.aic\n",
    "                    if tmp_aic < best_aic:\n",
    "                        best_aic = tmp_aic\n",
    "                        best_order = (i, d, j)\n",
    "                        best_mdl = tmp_mdl\n",
    "                except: continue\n",
    "    print('aic: {:6.5f} | order: {}'.format(best_aic, best_order))                    \n",
    "    return best_aic, best_order, best_mdl"
   ]
  },
  {
   "cell_type": "code",
   "execution_count": null,
   "metadata": {},
   "outputs": [],
   "source": [
    "model = best_arima(ret['^NSEI3'])"
   ]
  },
  {
   "cell_type": "code",
   "execution_count": null,
   "metadata": {},
   "outputs": [],
   "source": [
    "_ = tsplot(best_mdl.resid, lags=30)"
   ]
  },
  {
   "cell_type": "code",
   "execution_count": null,
   "metadata": {},
   "outputs": [],
   "source": [
    "order = model[1]\n",
    "p = order[0]\n",
    "d = order[1]\n",
    "q = order[2]"
   ]
  },
  {
   "cell_type": "code",
   "execution_count": null,
   "metadata": {},
   "outputs": [],
   "source": [
    "print(p, d, q)"
   ]
  },
  {
   "cell_type": "code",
   "execution_count": null,
   "metadata": {},
   "outputs": [],
   "source": [
    "sms.diagnostic.acorr_ljungbox(best_mdl.resid, lags=[20], boxpierce=False)"
   ]
  },
  {
   "cell_type": "code",
   "execution_count": null,
   "metadata": {},
   "outputs": [],
   "source": [
    "from statsmodels.stats.stattools import jarque_bera\n",
    "\n",
    "score, pvalue, _, _ = jarque_bera(best_mdl.resid)\n",
    "if pvalue < 0.05:\n",
    "    print(\"Our residuals are likely not normally distributed.\")\n",
    "else:\n",
    "    print(\"Our residuals are likely normally distributed.\")"
   ]
  },
  {
   "cell_type": "markdown",
   "metadata": {},
   "source": [
    "` We have iterated through the ARIMA model on the log prices of the Nifty. The best model is integrated of order 1. This is expected because the first difference of log prices would give us the asset returns. We still see conditional volatility here.`\n",
    "\n",
    "\n",
    "`Some interesting exercises for you to try can be where you look at say the S&P 500 and try to model its log prices or returns. Check what happens when you exclude periods of high volatility like the 2008 credit crisis.`"
   ]
  },
  {
   "cell_type": "code",
   "execution_count": null,
   "metadata": {},
   "outputs": [],
   "source": [
    "lprice.dropna(inplace=True)"
   ]
  },
  {
   "cell_type": "code",
   "execution_count": null,
   "metadata": {},
   "outputs": [],
   "source": [
    "best_aic = np.inf\n",
    "best_order = None\n",
    "best_mdl = None\n",
    "\n",
    "pq_rng = range(5)\n",
    "d_rng = range(2)\n",
    "for i in pq_rng:\n",
    "    for d in d_rng:\n",
    "        for j in pq_rng:\n",
    "            try:\n",
    "                tmp_mdl = smt.ARIMA(lprice['JUBLFOOD.NS'], order=(i, d, j)).fit(method='mle', trend='nc')\n",
    "                tmp_aic = tmp_mdl.aic\n",
    "                if tmp_aic < best_aic:\n",
    "                    best_aic = tmp_aic\n",
    "                    best_order = (i, d, j)\n",
    "                    best_mdl = tmp_mdl\n",
    "            except:\n",
    "                continue\n",
    "            \n",
    "print(\"aic : \",best_aic, \"| order : \",best_order)"
   ]
  },
  {
   "cell_type": "code",
   "execution_count": null,
   "metadata": {},
   "outputs": [],
   "source": [
    "_ = tsplot(best_mdl.resid, lags=30)"
   ]
  },
  {
   "cell_type": "code",
   "execution_count": null,
   "metadata": {},
   "outputs": [],
   "source": [
    "sms.diagnostic.acorr_ljungbox(best_mdl.resid, lags=[20], boxpierce=False)"
   ]
  },
  {
   "cell_type": "code",
   "execution_count": null,
   "metadata": {},
   "outputs": [],
   "source": [
    "from statsmodels.stats.stattools import jarque_bera\n",
    "\n",
    "score, pvalue, _, _ = jarque_bera(best_mdl.resid)\n",
    "if pvalue < 0.05:\n",
    "    print(\"Our residuals are likely not normally distributed.\")\n",
    "else:\n",
    "    print(\"Our residuals are likely normally distributed.\")"
   ]
  },
  {
   "cell_type": "markdown",
   "metadata": {},
   "source": [
    "When analyzing time series, we need to pay close attention to conditional heterskedasticity which is a prevalent feature of financial data generating processes. One of the main challenges that quantitative traders face is detecting the change in the behaviour of financial markets (as measured by its statistical characteristics). This could occur due to change in governments, or its policies, or any other macroeconomic effect. This is often referred to as *regime shift* or *regime change*."
   ]
  },
  {
   "cell_type": "markdown",
   "metadata": {},
   "source": [
    "## Autoregressive Conditional Heteroskedastic Models (ARCH)\n",
    "\n",
    "` \n",
    "We have seen that the ARIMA and ARMA class of models do not account for time-varying volatility (or conditional heteroskedasticity). The ARCH model accounts for the changes in conditional variances. If we observe the name of the model carefully, we can make a pretty good guess what the model does. It models the conditional variance over time based on the past values of the variance (hence the name autoregressive).`"
   ]
  },
  {
   "cell_type": "markdown",
   "metadata": {},
   "source": [
    "### Autoregressive Conditional Heteroskedastic Model of Order 1: $ARCH(1)$\n",
    "\n",
    "A time series $\\{\\epsilon_t\\}$ is given at each instance by: $$\\epsilon_t = \\sigma_t w_t$$ where $\\{w_t\\}$ is discrete white noise, with zero mean and unit variance and $\\sigma_{t}^2$ is given by: $$\\sigma_{t}^2 = \\alpha_0 + \\alpha_1 \\epsilon_{t-1}^2$$ where $\\alpha_0$ and $\\alpha_1$ are parameters of the model.\n",
    "\n",
    "We then say that $\\{\\epsilon_t\\}$ is an ***autoregressive conditional heteroskedastic model of order 1*** or $ARCH(1)$. The model can be written as: $$\\epsilon_t = w_t \\sqrt{\\alpha_0 + \\alpha_1 \\epsilon_{t-1}^2}$$\n",
    "\n",
    "Using first principles, we can trivially prove that $$Var(\\epsilon_t) = \\alpha_0 + \\alpha_1\\;Var(\\epsilon_{t-1})$$\n",
    "\n",
    "Clearly, we now see that the variance of the series is modelled as a linear function of the past variance (previous time period) of the series. In other words, we can think of an $ARCH(1)$ **process as an  $AR(1)$ process that is applied to the variance of a time series**.\n",
    "\n",
    "Let's compare the $ARCH(1)$ and the $AR(1)$ models. $$AR(1): x_t = \\phi_0 + \\phi_1\\;x_{t-1} + w_t$$ $$ARCH(1): Var(\\epsilon_t) = \\alpha_0 + \\alpha_1\\;Var(\\epsilon_{t-1})$$\n",
    "\n",
    "The models have a similar form except for the white noise term."
   ]
  },
  {
   "cell_type": "markdown",
   "metadata": {},
   "source": [
    "### Autoregressive Conditional Heteroskedastic Model of Order q: $ARCH(q)$"
   ]
  },
  {
   "cell_type": "markdown",
   "metadata": {},
   "source": [
    "We can extend the ARCH model to higher order lags. $$ARCH(q): \\epsilon_t = w_t \\sqrt{\\alpha_0 + \\sum_{i=1}^q\\alpha_i\\;\\epsilon_{t-i}^2}$$\n",
    "\n",
    "Again, it is useful to think of $ARCH(q)$ as the application of $AR(p)$ to the variance of a time series process.\n",
    "\n",
    "***At this stage, it's natural to wonder if we can use the framework of the linear ARMA models to the variance of a time series. The answer is yes! ***\n",
    "\n",
    "This is the motivation behind the **Generalized ARCH model or GARCH**."
   ]
  },
  {
   "cell_type": "markdown",
   "metadata": {},
   "source": [
    "## Generalized Autoregressive Conditional Heteroskedastic Models (GARCH)"
   ]
  },
  {
   "cell_type": "markdown",
   "metadata": {},
   "source": [
    "### Generalized Autoregressive Conditional Heteroskedastic Model of Order p, q: $GARCH(p, q)$"
   ]
  },
  {
   "cell_type": "markdown",
   "metadata": {},
   "source": [
    "A time series $\\{\\epsilon_t\\}$ is given at each instance by: $$\\epsilon_t = \\sigma_t w_t$$ where $\\{w_t\\}$ is discrete white noise, with zero mean and unit variance and $\\sigma_{t}^2$ is given by: $$\\sigma_{t}^2 = \\alpha_0 + \\sum_{i=1}^q\\;\\alpha_i \\epsilon_{t-i}^2 + \\sum_{j=1}^p\\;\\beta_j \\sigma_{t-j}^2$$ where $\\alpha_i$ and $\\beta_j$ are parameters of the model.\n",
    "\n",
    "We then say that $\\{\\epsilon_t\\}$ is a ***generalized autoregressive conditional heteroskedastic model of order p, q*** denoted by $GARCH(p, q)$.\n",
    "\n",
    "Notice that we have added the moving average\n",
    "\n",
    "Thus $GARCH(p, q)$ can be interpreted as the application of the $ARMA(p, q)$ model on the variance of a time series."
   ]
  },
  {
   "cell_type": "markdown",
   "metadata": {},
   "source": [
    "### Simulation of an $ARCH(1)$ process"
   ]
  },
  {
   "cell_type": "code",
   "execution_count": null,
   "metadata": {},
   "outputs": [],
   "source": [
    "np.random.seed(1)\n",
    "\n",
    "α_0 = 2\n",
    "α_1 = 0.5\n",
    "\n",
    "n = 1000\n",
    "\n",
    "w = np.random.normal(size=n)\n",
    "ϵ = w.copy()\n",
    "\n",
    "for t in range(len(ϵ)):\n",
    "    ϵ[t] = w[t] * np.sqrt((α_0 + α_1 * ϵ[t-1] ** 2))\n",
    "\n",
    "    \n",
    "tsplot(ϵ, lags=30)"
   ]
  },
  {
   "cell_type": "markdown",
   "metadata": {},
   "source": [
    "` The time series looks just like Gaussian White noise. Let's observe the output when we plot the square of the series`"
   ]
  },
  {
   "cell_type": "code",
   "execution_count": null,
   "metadata": {},
   "outputs": [],
   "source": [
    "tsplot(ϵ ** 2, lags=30)"
   ]
  },
  {
   "cell_type": "markdown",
   "metadata": {},
   "source": [
    "`The correlograms of the ACF and PACF show significant values at lag 1. The ACF plot decays over a few more lags. This indicates an AR(1) model for the variance may be appropriate.`"
   ]
  },
  {
   "cell_type": "markdown",
   "metadata": {},
   "source": [
    "### Simulation of a $GARCH(1, 1)$ process"
   ]
  },
  {
   "cell_type": "code",
   "execution_count": null,
   "metadata": {},
   "outputs": [],
   "source": [
    "np.random.seed(2)\n",
    "\n",
    "α_0 = 0.2\n",
    "α_1 = 0.5\n",
    "β_1 = 0.3\n",
    "\n",
    "n = 10000\n",
    "w = np.random.normal(size=n)\n",
    "\n",
    "ϵ = np.zeros_like(w)\n",
    "σ_sq = np.zeros_like(w)\n",
    "\n",
    "\n",
    "for t in range(1, len(ϵ)):\n",
    "    σ_sq[t] = α_0 + α_1 * (ϵ[t-1] ** 2) + β_1 * σ_sq[t-1]\n",
    "    ϵ[t] = w[t] * np.sqrt(σ_sq[t])\n",
    "\n",
    "    \n",
    "tsplot(ϵ, lags=30)"
   ]
  },
  {
   "cell_type": "markdown",
   "metadata": {},
   "source": [
    "`Again, the process here also closely resembles white noise.`\n",
    "`Let's now examine the` $\\epsilon^2$ `series.`"
   ]
  },
  {
   "cell_type": "code",
   "execution_count": null,
   "metadata": {},
   "outputs": [],
   "source": [
    "_ = tsplot(ϵ ** 2, lags=30)"
   ]
  },
  {
   "cell_type": "markdown",
   "metadata": {},
   "source": [
    "`The correlogram plots clearly indicate that there is a conditional heteroskedasticity present. We have substantial autocorrelations as seen from the decay in the ACF and PACF plots. We would therefore need both AR and MA components for our model. Let us try and recover the parameters using`  $GARCH(1, 1)$."
   ]
  },
  {
   "cell_type": "code",
   "execution_count": null,
   "metadata": {},
   "outputs": [],
   "source": [
    "# Using the arch_model function from the ARCH package to fit GARCH\n",
    "\n",
    "am = arch_model(ϵ)\n",
    "res = am.fit(update_freq=5)\n",
    "print(res.summary())"
   ]
  },
  {
   "cell_type": "markdown",
   "metadata": {},
   "source": [
    "` The true parameters all fall within the respective confidence intervals.`"
   ]
  },
  {
   "cell_type": "code",
   "execution_count": null,
   "metadata": {},
   "outputs": [],
   "source": [
    "resi = model[2].resid"
   ]
  },
  {
   "cell_type": "code",
   "execution_count": null,
   "metadata": {},
   "outputs": [],
   "source": [
    "tsplot(resi, lags=30)"
   ]
  },
  {
   "cell_type": "code",
   "execution_count": null,
   "metadata": {},
   "outputs": [],
   "source": [
    "tsplot(resi ** 2, lags=30)"
   ]
  },
  {
   "cell_type": "markdown",
   "metadata": {},
   "source": [
    "` The plot of the squared residuals clearly shows that there is autocorrelation. It indicates that we can use ARCH/GARCH to model the volatility`"
   ]
  },
  {
   "cell_type": "code",
   "execution_count": null,
   "metadata": {},
   "outputs": [],
   "source": [
    "### Using the ARCH model function to model the volatility of the residuals\n",
    "\n",
    "vol_model = arch_model(model[2].resid)\n",
    "res = vol_model.fit(update_freq=5)\n",
    "print(res.summary())"
   ]
  },
  {
   "cell_type": "code",
   "execution_count": null,
   "metadata": {},
   "outputs": [],
   "source": [
    "### Using the GARCH model to model the volatility of the residuals\n",
    "\n",
    "am = arch_model(model[2].resid, p=p, o=d, q=q, dist='StudentsT')"
   ]
  },
  {
   "cell_type": "code",
   "execution_count": null,
   "metadata": {},
   "outputs": [],
   "source": [
    "res = am.fit(update_freq=5, disp='off')"
   ]
  },
  {
   "cell_type": "code",
   "execution_count": null,
   "metadata": {},
   "outputs": [],
   "source": [
    "print(res.summary())"
   ]
  },
  {
   "cell_type": "code",
   "execution_count": null,
   "metadata": {},
   "outputs": [],
   "source": [
    "tsplot(res.resid, lags=30)"
   ]
  },
  {
   "cell_type": "markdown",
   "metadata": {},
   "source": [
    "## Steps involved in Modeling Volatility\n",
    "\n",
    "We can build a volatility model in four steps\n",
    "- Specify a mean equation by testing for serial dependence in the data and build a suitable model(such as ARIMA) to capture the movement of returns (while adjusting for linear dependence)\n",
    "- Use the residuals of the mean equation to test for ARCH effects (checking the squared residuals, the correlograms and other plots)\n",
    "- If ARCH effects are statistically significant, perform a joint estimation of the mean and volatility equations\n",
    "- Check the fitted model and refine if necessary\n"
   ]
  },
  {
   "cell_type": "code",
   "execution_count": 24,
   "metadata": {},
   "outputs": [],
   "source": [
    "def best_arima(dataframe):\n",
    "    best_aic = np.inf \n",
    "    best_order = None\n",
    "    best_mdl = None\n",
    "\n",
    "    pq_rng = range(5) # [0,1,2,3,4]\n",
    "    d_rng = range(2) # [0,1]\n",
    "    for i in pq_rng:\n",
    "        for d in d_rng:\n",
    "            for j in pq_rng:\n",
    "                try:\n",
    "                    tmp_mdl = smt.ARIMA(dataframe, order=(i,d,j)).fit(\n",
    "                        method='mle', trend='nc'\n",
    "                    )\n",
    "                    tmp_aic = tmp_mdl.aic\n",
    "                    if tmp_aic < best_aic:\n",
    "                        best_aic = tmp_aic\n",
    "                        best_order = (i, d, j)\n",
    "                        best_mdl = tmp_mdl\n",
    "                except: continue\n",
    "    print('aic: {:6.5f} | order: {}'.format(best_aic, best_order))                    \n",
    "    return best_aic, best_order, best_mdl\n",
    "\n"
   ]
  },
  {
   "cell_type": "code",
   "execution_count": 13,
   "metadata": {},
   "outputs": [],
   "source": [
    "data2 = data['JUBLFOOD.NS'].loc['2016-01-01':'2017-12-31']"
   ]
  },
  {
   "cell_type": "code",
   "execution_count": 14,
   "metadata": {},
   "outputs": [
    {
     "data": {
      "text/plain": [
       "Date\n",
       "2017-12-22    880.776733\n",
       "2017-12-26    889.410767\n",
       "2017-12-27    860.489136\n",
       "2017-12-28    853.302368\n",
       "2017-12-29    878.930115\n",
       "Name: JUBLFOOD.NS, dtype: float64"
      ]
     },
     "execution_count": 14,
     "metadata": {},
     "output_type": "execute_result"
    }
   ],
   "source": [
    "data2.tail()"
   ]
  },
  {
   "cell_type": "code",
   "execution_count": 15,
   "metadata": {},
   "outputs": [],
   "source": [
    "ret = np.log(data2/data2.shift(1)).dropna()"
   ]
  },
  {
   "cell_type": "code",
   "execution_count": 22,
   "metadata": {},
   "outputs": [
    {
     "data": {
      "text/plain": [
       "Date\n",
       "2017-08-11   -0.016332\n",
       "2016-08-19    0.008231\n",
       "2017-04-07   -0.013277\n",
       "2015-03-27    0.011535\n",
       "2017-03-17   -0.005366\n",
       "2015-09-21    0.016399\n",
       "2017-03-14    0.022564\n",
       "2016-08-08    0.028929\n",
       "2015-09-23    0.008980\n",
       "2017-05-26   -0.022166\n",
       "Name: JUBLFOOD.NS, dtype: float64"
      ]
     },
     "execution_count": 22,
     "metadata": {},
     "output_type": "execute_result"
    }
   ],
   "source": [
    "ret.sample(10)"
   ]
  },
  {
   "cell_type": "code",
   "execution_count": 10,
   "metadata": {},
   "outputs": [],
   "source": [
    "import warnings\n",
    "warnings.simplefilter('ignore')"
   ]
  },
  {
   "cell_type": "code",
   "execution_count": 16,
   "metadata": {},
   "outputs": [],
   "source": [
    "windowLength = 20\n",
    "foreLength = len(ret) - windowLength"
   ]
  },
  {
   "cell_type": "code",
   "execution_count": 17,
   "metadata": {},
   "outputs": [
    {
     "data": {
      "text/plain": [
       "471"
      ]
     },
     "execution_count": 17,
     "metadata": {},
     "output_type": "execute_result"
    }
   ],
   "source": [
    "foreLength"
   ]
  },
  {
   "cell_type": "code",
   "execution_count": 18,
   "metadata": {},
   "outputs": [
    {
     "data": {
      "text/plain": [
       "491"
      ]
     },
     "execution_count": 18,
     "metadata": {},
     "output_type": "execute_result"
    }
   ],
   "source": [
    "len(ret)"
   ]
  },
  {
   "cell_type": "code",
   "execution_count": 19,
   "metadata": {},
   "outputs": [],
   "source": [
    "signal = 0 * ret[-foreLength:]"
   ]
  },
  {
   "cell_type": "code",
   "execution_count": 20,
   "metadata": {},
   "outputs": [],
   "source": [
    "lprice.dropna(inplace=True)"
   ]
  },
  {
   "cell_type": "code",
   "execution_count": 21,
   "metadata": {},
   "outputs": [
    {
     "name": "stdout",
     "output_type": "stream",
     "text": [
      "<class 'pandas.core.frame.DataFrame'>\n",
      "DatetimeIndex: 2123 entries, 2010-02-08 to 2018-10-05\n",
      "Data columns (total 3 columns):\n",
      "JUBLFOOD.NS    2123 non-null float64\n",
      "MPHASIS.NS     2123 non-null float64\n",
      "^NSEI3         2123 non-null float64\n",
      "dtypes: float64(3)\n",
      "memory usage: 66.3 KB\n"
     ]
    }
   ],
   "source": [
    "lprice.info()"
   ]
  },
  {
   "cell_type": "code",
   "execution_count": 22,
   "metadata": {},
   "outputs": [
    {
     "data": {
      "text/plain": [
       "Date\n",
       "2010-02-16    4.733417\n",
       "2010-02-17    4.779671\n",
       "2010-02-18    4.736236\n",
       "2010-02-19    4.718541\n",
       "2010-02-22    4.734068\n",
       "2010-02-23    4.687197\n",
       "2010-02-24    4.696478\n",
       "2010-02-25    4.709907\n",
       "2010-02-26    4.731243\n",
       "2010-03-02    4.747005\n",
       "Name: JUBLFOOD.NS, dtype: float64"
      ]
     },
     "execution_count": 22,
     "metadata": {},
     "output_type": "execute_result"
    }
   ],
   "source": [
    "lprice['JUBLFOOD.NS'][5:15]"
   ]
  },
  {
   "cell_type": "code",
   "execution_count": null,
   "metadata": {},
   "outputs": [
    {
     "name": "stdout",
     "output_type": "stream",
     "text": [
      "aic: -65.11080 | order: (1, 1, 0)\n",
      "aic: -61.34317 | order: (1, 1, 0)\n",
      "aic: -61.31791 | order: (0, 1, 1)\n",
      "aic: -60.43580 | order: (0, 1, 1)\n",
      "aic: -59.73655 | order: (0, 1, 1)\n",
      "aic: -60.59813 | order: (1, 1, 0)\n",
      "aic: -61.49322 | order: (1, 1, 0)\n",
      "aic: -61.48549 | order: (1, 1, 0)\n",
      "aic: -51.92125 | order: (0, 1, 1)\n",
      "aic: -50.97701 | order: (0, 1, 1)\n",
      "aic: -50.84413 | order: (0, 1, 1)\n",
      "aic: -50.58867 | order: (0, 1, 1)\n",
      "aic: -50.67336 | order: (0, 1, 1)\n",
      "aic: -49.30546 | order: (0, 1, 1)\n",
      "aic: -49.21460 | order: (0, 1, 1)\n",
      "aic: -49.13040 | order: (0, 1, 1)\n",
      "aic: -51.19201 | order: (0, 1, 1)\n",
      "aic: -47.99410 | order: (0, 1, 1)\n",
      "aic: -49.95105 | order: (0, 1, 1)\n",
      "aic: -42.89411 | order: (1, 1, 0)\n",
      "aic: -42.37885 | order: (1, 1, 0)\n",
      "aic: -40.67204 | order: (0, 1, 1)\n",
      "aic: -40.76376 | order: (0, 1, 1)\n",
      "aic: -40.98183 | order: (0, 1, 1)\n",
      "aic: -40.93369 | order: (0, 1, 1)\n",
      "aic: -41.01606 | order: (0, 1, 1)\n",
      "aic: -46.55651 | order: (1, 1, 0)\n",
      "aic: -46.60483 | order: (1, 1, 0)\n",
      "aic: -46.43870 | order: (1, 1, 0)\n",
      "aic: -46.47611 | order: (1, 1, 0)\n",
      "aic: -46.44153 | order: (1, 1, 0)\n",
      "aic: -47.74579 | order: (1, 1, 0)\n",
      "aic: -47.68625 | order: (1, 1, 0)\n",
      "aic: -47.28713 | order: (1, 1, 0)\n",
      "aic: -47.74977 | order: (1, 1, 0)\n",
      "aic: -55.58787 | order: (2, 1, 0)\n",
      "aic: -57.99022 | order: (0, 1, 3)\n",
      "aic: -74.08254 | order: (0, 1, 1)\n",
      "aic: -73.06034 | order: (0, 1, 1)\n",
      "aic: -81.34424 | order: (0, 1, 1)\n",
      "aic: -80.46676 | order: (0, 1, 1)\n",
      "aic: -78.15894 | order: (0, 1, 2)\n",
      "aic: -79.02828 | order: (2, 1, 0)\n",
      "aic: -81.51158 | order: (2, 1, 0)\n",
      "aic: -81.37332 | order: (2, 1, 0)\n",
      "aic: -75.32700 | order: (0, 1, 1)\n",
      "aic: -74.06176 | order: (3, 1, 0)\n",
      "aic: -75.17913 | order: (3, 1, 0)\n",
      "aic: -75.20166 | order: (3, 1, 0)\n"
     ]
    },
    {
     "name": "stderr",
     "output_type": "stream",
     "text": [
      "C:\\Miniconda3\\envs\\bayesian\\lib\\site-packages\\arch\\univariate\\base.py:524: ConvergenceWarning: \n",
      "The optimizer returned code 8. The message is:\n",
      "Positive directional derivative for linesearch\n",
      "See scipy.optimize.fmin_slsqp for code meaning.\n",
      "\n",
      "  ConvergenceWarning)\n"
     ]
    },
    {
     "name": "stdout",
     "output_type": "stream",
     "text": [
      "aic: -75.30083 | order: (3, 1, 0)\n"
     ]
    },
    {
     "name": "stderr",
     "output_type": "stream",
     "text": [
      "C:\\Miniconda3\\envs\\bayesian\\lib\\site-packages\\arch\\univariate\\base.py:524: ConvergenceWarning: \n",
      "The optimizer returned code 8. The message is:\n",
      "Positive directional derivative for linesearch\n",
      "See scipy.optimize.fmin_slsqp for code meaning.\n",
      "\n",
      "  ConvergenceWarning)\n"
     ]
    },
    {
     "name": "stdout",
     "output_type": "stream",
     "text": [
      "aic: -67.95752 | order: (0, 1, 3)\n",
      "aic: -69.45579 | order: (0, 1, 3)\n",
      "aic: -70.07959 | order: (3, 1, 2)\n",
      "aic: -70.99489 | order: (3, 1, 2)\n"
     ]
    },
    {
     "name": "stderr",
     "output_type": "stream",
     "text": [
      "C:\\Miniconda3\\envs\\bayesian\\lib\\site-packages\\arch\\univariate\\base.py:524: ConvergenceWarning: \n",
      "The optimizer returned code 8. The message is:\n",
      "Positive directional derivative for linesearch\n",
      "See scipy.optimize.fmin_slsqp for code meaning.\n",
      "\n",
      "  ConvergenceWarning)\n"
     ]
    },
    {
     "name": "stdout",
     "output_type": "stream",
     "text": [
      "aic: -67.82059 | order: (3, 1, 0)\n",
      "aic: -68.61394 | order: (0, 1, 1)\n",
      "aic: -69.64398 | order: (0, 1, 1)\n",
      "aic: -69.81991 | order: (0, 1, 1)\n"
     ]
    },
    {
     "name": "stderr",
     "output_type": "stream",
     "text": [
      "C:\\Miniconda3\\envs\\bayesian\\lib\\site-packages\\arch\\univariate\\base.py:524: ConvergenceWarning: \n",
      "The optimizer returned code 9. The message is:\n",
      "Iteration limit exceeded\n",
      "See scipy.optimize.fmin_slsqp for code meaning.\n",
      "\n",
      "  ConvergenceWarning)\n"
     ]
    },
    {
     "name": "stdout",
     "output_type": "stream",
     "text": [
      "aic: -69.93836 | order: (0, 1, 1)\n",
      "aic: -71.11483 | order: (0, 1, 1)\n",
      "aic: -71.15923 | order: (0, 1, 1)\n",
      "aic: -72.21207 | order: (0, 1, 1)\n"
     ]
    },
    {
     "name": "stderr",
     "output_type": "stream",
     "text": [
      "C:\\Miniconda3\\envs\\bayesian\\lib\\site-packages\\arch\\univariate\\base.py:524: ConvergenceWarning: \n",
      "The optimizer returned code 8. The message is:\n",
      "Positive directional derivative for linesearch\n",
      "See scipy.optimize.fmin_slsqp for code meaning.\n",
      "\n",
      "  ConvergenceWarning)\n"
     ]
    },
    {
     "name": "stdout",
     "output_type": "stream",
     "text": [
      "aic: -72.39830 | order: (0, 1, 1)\n"
     ]
    },
    {
     "name": "stderr",
     "output_type": "stream",
     "text": [
      "C:\\Miniconda3\\envs\\bayesian\\lib\\site-packages\\arch\\univariate\\base.py:524: ConvergenceWarning: \n",
      "The optimizer returned code 8. The message is:\n",
      "Positive directional derivative for linesearch\n",
      "See scipy.optimize.fmin_slsqp for code meaning.\n",
      "\n",
      "  ConvergenceWarning)\n"
     ]
    },
    {
     "name": "stdout",
     "output_type": "stream",
     "text": [
      "aic: -75.52528 | order: (0, 1, 2)\n",
      "aic: -81.08325 | order: (3, 1, 0)\n",
      "aic: -85.88349 | order: (2, 1, 0)\n",
      "aic: -85.28206 | order: (2, 1, 0)\n",
      "aic: -87.99335 | order: (2, 1, 0)\n",
      "aic: -85.73289 | order: (2, 1, 0)\n",
      "aic: -85.80377 | order: (3, 1, 2)\n",
      "aic: -86.71316 | order: (2, 1, 2)\n",
      "aic: -85.86262 | order: (3, 1, 2)\n",
      "aic: -86.32104 | order: (0, 1, 1)\n",
      "aic: -86.94507 | order: (0, 1, 1)\n",
      "aic: -86.90194 | order: (0, 1, 1)\n",
      "aic: -87.28669 | order: (0, 1, 1)\n",
      "aic: -90.71749 | order: (0, 1, 1)\n",
      "aic: -91.10387 | order: (0, 1, 1)\n",
      "aic: -91.44856 | order: (0, 1, 1)\n"
     ]
    },
    {
     "name": "stderr",
     "output_type": "stream",
     "text": [
      "C:\\Miniconda3\\envs\\bayesian\\lib\\site-packages\\arch\\univariate\\base.py:524: ConvergenceWarning: \n",
      "The optimizer returned code 8. The message is:\n",
      "Positive directional derivative for linesearch\n",
      "See scipy.optimize.fmin_slsqp for code meaning.\n",
      "\n",
      "  ConvergenceWarning)\n"
     ]
    },
    {
     "name": "stdout",
     "output_type": "stream",
     "text": [
      "aic: -92.13210 | order: (0, 1, 1)\n"
     ]
    },
    {
     "name": "stderr",
     "output_type": "stream",
     "text": [
      "C:\\Miniconda3\\envs\\bayesian\\lib\\site-packages\\arch\\univariate\\base.py:524: ConvergenceWarning: \n",
      "The optimizer returned code 8. The message is:\n",
      "Positive directional derivative for linesearch\n",
      "See scipy.optimize.fmin_slsqp for code meaning.\n",
      "\n",
      "  ConvergenceWarning)\n"
     ]
    },
    {
     "name": "stdout",
     "output_type": "stream",
     "text": [
      "aic: -82.35448 | order: (1, 1, 0)\n",
      "aic: -81.49717 | order: (1, 1, 0)\n",
      "aic: -83.03459 | order: (1, 1, 0)\n",
      "aic: -83.43493 | order: (0, 1, 1)\n",
      "aic: -82.75689 | order: (0, 1, 1)\n",
      "aic: -82.55860 | order: (0, 1, 1)\n",
      "aic: -87.21249 | order: (1, 1, 0)\n",
      "aic: -88.65084 | order: (1, 1, 0)\n",
      "aic: -88.79382 | order: (1, 1, 0)\n",
      "aic: -88.69211 | order: (0, 1, 1)\n",
      "aic: -91.66411 | order: (1, 1, 2)\n"
     ]
    },
    {
     "name": "stderr",
     "output_type": "stream",
     "text": [
      "C:\\Miniconda3\\envs\\bayesian\\lib\\site-packages\\arch\\univariate\\base.py:524: ConvergenceWarning: \n",
      "The optimizer returned code 8. The message is:\n",
      "Positive directional derivative for linesearch\n",
      "See scipy.optimize.fmin_slsqp for code meaning.\n",
      "\n",
      "  ConvergenceWarning)\n"
     ]
    },
    {
     "name": "stdout",
     "output_type": "stream",
     "text": [
      "aic: -93.43964 | order: (1, 1, 2)\n"
     ]
    },
    {
     "name": "stderr",
     "output_type": "stream",
     "text": [
      "C:\\Miniconda3\\envs\\bayesian\\lib\\site-packages\\arch\\univariate\\base.py:524: ConvergenceWarning: \n",
      "The optimizer returned code 8. The message is:\n",
      "Positive directional derivative for linesearch\n",
      "See scipy.optimize.fmin_slsqp for code meaning.\n",
      "\n",
      "  ConvergenceWarning)\n"
     ]
    },
    {
     "name": "stdout",
     "output_type": "stream",
     "text": [
      "aic: -93.30646 | order: (1, 1, 2)\n",
      "aic: -91.21080 | order: (1, 1, 0)\n",
      "aic: -92.85249 | order: (1, 1, 2)\n"
     ]
    },
    {
     "name": "stderr",
     "output_type": "stream",
     "text": [
      "C:\\Miniconda3\\envs\\bayesian\\lib\\site-packages\\arch\\univariate\\base.py:524: ConvergenceWarning: \n",
      "The optimizer returned code 8. The message is:\n",
      "Positive directional derivative for linesearch\n",
      "See scipy.optimize.fmin_slsqp for code meaning.\n",
      "\n",
      "  ConvergenceWarning)\n"
     ]
    },
    {
     "name": "stdout",
     "output_type": "stream",
     "text": [
      "aic: -91.03554 | order: (1, 1, 0)\n"
     ]
    },
    {
     "name": "stderr",
     "output_type": "stream",
     "text": [
      "C:\\Miniconda3\\envs\\bayesian\\lib\\site-packages\\arch\\univariate\\base.py:524: ConvergenceWarning: \n",
      "The optimizer returned code 8. The message is:\n",
      "Positive directional derivative for linesearch\n",
      "See scipy.optimize.fmin_slsqp for code meaning.\n",
      "\n",
      "  ConvergenceWarning)\n"
     ]
    },
    {
     "name": "stdout",
     "output_type": "stream",
     "text": [
      "aic: -84.67002 | order: (0, 1, 1)\n",
      "aic: -84.15015 | order: (0, 1, 1)\n",
      "aic: -96.55623 | order: (0, 1, 1)\n",
      "aic: -101.61868 | order: (0, 1, 1)\n",
      "aic: -95.76209 | order: (0, 1, 3)\n",
      "aic: -84.46090 | order: (0, 1, 1)\n",
      "aic: -71.28139 | order: (1, 1, 0)\n",
      "aic: -63.30631 | order: (1, 1, 0)\n",
      "aic: -62.37792 | order: (1, 1, 0)\n",
      "aic: -62.14736 | order: (1, 1, 0)\n",
      "aic: -58.38466 | order: (1, 1, 2)\n",
      "aic: -56.90653 | order: (0, 1, 4)\n",
      "aic: -54.48421 | order: (0, 1, 3)\n",
      "aic: -53.76823 | order: (1, 1, 0)\n",
      "aic: -53.69449 | order: (1, 1, 0)\n",
      "aic: -53.63129 | order: (1, 1, 0)\n",
      "aic: -53.72933 | order: (1, 1, 0)\n",
      "aic: -53.25229 | order: (1, 1, 0)\n",
      "aic: -52.49553 | order: (1, 1, 0)\n",
      "aic: -50.49858 | order: (1, 1, 0)\n",
      "aic: -50.55417 | order: (1, 1, 0)\n",
      "aic: -50.37427 | order: (1, 1, 0)\n",
      "aic: -50.50336 | order: (1, 1, 0)\n",
      "aic: -51.41546 | order: (1, 1, 0)\n",
      "aic: -57.26872 | order: (0, 1, 1)\n",
      "aic: -58.02478 | order: (0, 1, 1)\n",
      "aic: -58.81880 | order: (0, 1, 1)\n",
      "aic: -58.80554 | order: (0, 1, 1)\n",
      "aic: -67.23620 | order: (1, 1, 0)\n",
      "aic: -67.20496 | order: (1, 1, 0)\n",
      "aic: -69.77326 | order: (1, 1, 0)\n",
      "aic: -70.29263 | order: (1, 1, 0)\n",
      "aic: -70.71087 | order: (1, 1, 0)\n",
      "aic: -70.43901 | order: (1, 1, 0)\n",
      "aic: -70.87269 | order: (1, 1, 0)\n",
      "aic: -70.74722 | order: (1, 1, 0)\n",
      "aic: -72.66938 | order: (1, 1, 0)\n",
      "aic: -82.42001 | order: (0, 1, 2)\n"
     ]
    },
    {
     "name": "stderr",
     "output_type": "stream",
     "text": [
      "C:\\Miniconda3\\envs\\bayesian\\lib\\site-packages\\arch\\univariate\\base.py:524: ConvergenceWarning: \n",
      "The optimizer returned code 8. The message is:\n",
      "Positive directional derivative for linesearch\n",
      "See scipy.optimize.fmin_slsqp for code meaning.\n",
      "\n",
      "  ConvergenceWarning)\n"
     ]
    },
    {
     "name": "stdout",
     "output_type": "stream",
     "text": [
      "aic: -82.44277 | order: (0, 1, 2)\n"
     ]
    },
    {
     "name": "stderr",
     "output_type": "stream",
     "text": [
      "C:\\Miniconda3\\envs\\bayesian\\lib\\site-packages\\arch\\univariate\\base.py:524: ConvergenceWarning: \n",
      "The optimizer returned code 8. The message is:\n",
      "Positive directional derivative for linesearch\n",
      "See scipy.optimize.fmin_slsqp for code meaning.\n",
      "\n",
      "  ConvergenceWarning)\n"
     ]
    },
    {
     "name": "stdout",
     "output_type": "stream",
     "text": [
      "aic: -83.30714 | order: (0, 1, 2)\n"
     ]
    },
    {
     "name": "stderr",
     "output_type": "stream",
     "text": [
      "C:\\Miniconda3\\envs\\bayesian\\lib\\site-packages\\arch\\univariate\\base.py:524: ConvergenceWarning: \n",
      "The optimizer returned code 8. The message is:\n",
      "Positive directional derivative for linesearch\n",
      "See scipy.optimize.fmin_slsqp for code meaning.\n",
      "\n",
      "  ConvergenceWarning)\n"
     ]
    },
    {
     "name": "stdout",
     "output_type": "stream",
     "text": [
      "aic: -83.62056 | order: (1, 1, 0)\n",
      "aic: -77.89973 | order: (1, 1, 0)\n",
      "aic: -83.60839 | order: (1, 1, 0)\n",
      "aic: -82.40218 | order: (0, 1, 1)\n",
      "aic: -83.57104 | order: (0, 1, 1)\n",
      "aic: -84.44626 | order: (0, 1, 1)\n",
      "aic: -84.75163 | order: (0, 1, 1)\n",
      "aic: -85.40034 | order: (0, 1, 1)\n",
      "aic: -85.15437 | order: (2, 1, 0)\n",
      "aic: -85.43441 | order: (2, 1, 0)\n",
      "aic: -84.74847 | order: (0, 1, 1)\n",
      "aic: -84.95515 | order: (0, 1, 3)\n",
      "aic: -82.27645 | order: (2, 1, 0)\n",
      "aic: -74.52591 | order: (0, 1, 1)\n",
      "aic: -74.83629 | order: (0, 1, 1)\n",
      "aic: -75.48946 | order: (0, 1, 1)\n",
      "aic: -75.62219 | order: (0, 1, 1)\n",
      "aic: -75.17438 | order: (0, 1, 1)\n",
      "aic: -75.55089 | order: (0, 1, 1)\n",
      "aic: -80.85127 | order: (0, 1, 1)\n",
      "aic: -82.03179 | order: (1, 1, 0)\n",
      "aic: -83.27196 | order: (1, 1, 0)\n",
      "aic: -84.34715 | order: (0, 1, 2)\n"
     ]
    },
    {
     "name": "stderr",
     "output_type": "stream",
     "text": [
      "C:\\Miniconda3\\envs\\bayesian\\lib\\site-packages\\arch\\univariate\\base.py:524: ConvergenceWarning: \n",
      "The optimizer returned code 8. The message is:\n",
      "Positive directional derivative for linesearch\n",
      "See scipy.optimize.fmin_slsqp for code meaning.\n",
      "\n",
      "  ConvergenceWarning)\n"
     ]
    },
    {
     "name": "stdout",
     "output_type": "stream",
     "text": [
      "aic: -86.90962 | order: (0, 1, 2)\n"
     ]
    },
    {
     "name": "stderr",
     "output_type": "stream",
     "text": [
      "C:\\Miniconda3\\envs\\bayesian\\lib\\site-packages\\arch\\univariate\\base.py:524: ConvergenceWarning: \n",
      "The optimizer returned code 8. The message is:\n",
      "Positive directional derivative for linesearch\n",
      "See scipy.optimize.fmin_slsqp for code meaning.\n",
      "\n",
      "  ConvergenceWarning)\n"
     ]
    },
    {
     "name": "stdout",
     "output_type": "stream",
     "text": [
      "aic: -91.47204 | order: (0, 1, 2)\n",
      "aic: -91.64305 | order: (0, 1, 2)\n",
      "aic: -91.87821 | order: (0, 1, 2)\n",
      "aic: -89.61739 | order: (0, 1, 2)\n",
      "aic: -89.27060 | order: (0, 1, 2)\n"
     ]
    },
    {
     "name": "stderr",
     "output_type": "stream",
     "text": [
      "C:\\Miniconda3\\envs\\bayesian\\lib\\site-packages\\arch\\univariate\\base.py:524: ConvergenceWarning: \n",
      "The optimizer returned code 8. The message is:\n",
      "Positive directional derivative for linesearch\n",
      "See scipy.optimize.fmin_slsqp for code meaning.\n",
      "\n",
      "  ConvergenceWarning)\n"
     ]
    },
    {
     "name": "stdout",
     "output_type": "stream",
     "text": [
      "aic: -88.61536 | order: (0, 1, 2)\n",
      "aic: -89.04418 | order: (0, 1, 2)\n",
      "aic: -98.50379 | order: (0, 1, 2)\n",
      "aic: -97.46029 | order: (0, 1, 2)\n",
      "aic: -73.12956 | order: (2, 1, 0)\n",
      "aic: -73.30140 | order: (2, 1, 0)\n",
      "aic: -66.64379 | order: (1, 1, 0)\n",
      "aic: -66.69649 | order: (1, 1, 0)\n",
      "aic: -66.59676 | order: (1, 1, 0)\n",
      "aic: -66.17785 | order: (1, 1, 0)\n",
      "aic: -66.17766 | order: (1, 1, 0)\n",
      "aic: -66.20759 | order: (1, 1, 0)\n",
      "aic: -66.00510 | order: (1, 1, 0)\n",
      "aic: -64.10509 | order: (1, 1, 0)\n",
      "aic: -63.78811 | order: (1, 1, 0)\n",
      "aic: -63.78166 | order: (1, 1, 0)\n",
      "aic: -64.09489 | order: (1, 1, 0)\n",
      "aic: -64.48537 | order: (1, 1, 0)\n",
      "aic: -65.12917 | order: (1, 1, 0)\n",
      "aic: -65.14028 | order: (1, 1, 0)\n",
      "aic: -65.63142 | order: (0, 1, 2)\n",
      "aic: -68.54941 | order: (0, 1, 1)\n",
      "aic: -85.18220 | order: (0, 1, 2)\n"
     ]
    },
    {
     "name": "stderr",
     "output_type": "stream",
     "text": [
      "C:\\Miniconda3\\envs\\bayesian\\lib\\site-packages\\arch\\univariate\\base.py:524: ConvergenceWarning: \n",
      "The optimizer returned code 8. The message is:\n",
      "Positive directional derivative for linesearch\n",
      "See scipy.optimize.fmin_slsqp for code meaning.\n",
      "\n",
      "  ConvergenceWarning)\n"
     ]
    },
    {
     "name": "stdout",
     "output_type": "stream",
     "text": [
      "aic: -85.46587 | order: (0, 1, 3)\n",
      "aic: -85.91604 | order: (1, 1, 0)\n",
      "aic: -82.56916 | order: (1, 1, 0)\n",
      "aic: -70.07909 | order: (0, 1, 3)\n",
      "aic: -69.73867 | order: (0, 1, 3)\n",
      "aic: -69.34801 | order: (1, 1, 0)\n",
      "aic: -68.39325 | order: (0, 1, 3)\n"
     ]
    }
   ],
   "source": [
    "for d in range(foreLength):\n",
    "    \n",
    "    # Create a rolling window by selecting values between d+1 and d+T of the returns\n",
    "    TS = lprice['JUBLFOOD.NS'][(1 + d):(windowLength + d)]\n",
    "    \n",
    "    # Find the best ARIMA fit\n",
    "    res_tup = best_arima(TS)\n",
    "    order = res_tup[1]\n",
    "    model = res_tup[2]\n",
    "    \n",
    "    # Now that we have our ARIMA fit, we feed this to the GARCH model\n",
    "    p_ = order[0]\n",
    "    o_ = order[1]\n",
    "    q_ = order[2]\n",
    "    \n",
    "    am = arch_model(model.resid, p=p_, o=o_, q=q_, dist='StudentsT')\n",
    "    res = am.fit(update_freq=5, disp='off')\n",
    "    \n",
    "    # Generate a forecast of next day return using our fitted model\n",
    "    out = res.forecast(horizon=1, start=None, align='origin')\n",
    "    \n",
    "    #Set trading signal equal to the sign of forecast return\n",
    "    # Buy if we expect positive returns, sell if negative\n",
    "      \n",
    "    signal.iloc[d] = np.sign(out.mean['h.1'].iloc[-1])\n",
    "\n",
    "signal=pd.DataFrame(signal)    \n",
    "returns = pd.DataFrame(index = signal.index, \n",
    "                       columns=['Buy and Hold', 'Strategy'])\n",
    "returns['Buy and Hold'] = ret[-foreLength:]\n",
    "returns['Strategy'] = signal['Close'] * returns['Buy and Hold']\n",
    "eqCurves = pd.DataFrame(index = signal.index, \n",
    "                       columns=['Buy and Hold', 'Strategy'])\n",
    "eqCurves['Buy and Hold']=returns['Buy and Hold'].cumsum()+1\n",
    "eqCurves['Strategy'] = returns['Strategy'].cumsum()+1\n",
    "    \n",
    "print(eqCurves)"
   ]
  },
  {
   "cell_type": "code",
   "execution_count": null,
   "metadata": {},
   "outputs": [],
   "source": []
  },
  {
   "cell_type": "code",
   "execution_count": null,
   "metadata": {},
   "outputs": [],
   "source": []
  },
  {
   "cell_type": "code",
   "execution_count": null,
   "metadata": {},
   "outputs": [],
   "source": []
  },
  {
   "cell_type": "code",
   "execution_count": null,
   "metadata": {},
   "outputs": [],
   "source": []
  },
  {
   "cell_type": "code",
   "execution_count": null,
   "metadata": {},
   "outputs": [],
   "source": []
  },
  {
   "cell_type": "code",
   "execution_count": null,
   "metadata": {},
   "outputs": [],
   "source": []
  },
  {
   "cell_type": "code",
   "execution_count": null,
   "metadata": {},
   "outputs": [],
   "source": [
    "# Strategy Implementation\n",
    "# This has been adapted from the Auquan time series analysis strategy on https://medium.com/auquan\n",
    "windowLength = 252\n",
    "foreLength = len(ret) - windowLength\n",
    "\n",
    "signal = 0 * ret[-foreLength:]\n",
    "\n",
    "\n",
    "for d in range(foreLength):\n",
    "    \n",
    "    # Create a rolling window by selecting values between d+1 and d+T of the returns\n",
    "    TS = lprice['JUBLFOOD.NS'][(1 + d):(windowLength + d)]\n",
    "    \n",
    "    # Find the best ARIMA fit\n",
    "    res_tup = best_arima(TS)\n",
    "    order = res_tup[1]\n",
    "    model = res_tup[2]\n",
    "    \n",
    "    # Now that we have our ARIMA fit, we feed this to the GARCH model\n",
    "    p_ = order[0]\n",
    "    o_ = order[1]\n",
    "    q_ = order[2]\n",
    "    \n",
    "    am = arch_model(model.resid, p=p_, o=o_, q=q_, dist='StudentsT')\n",
    "    res = am.fit(update_freq=5, disp='off')\n",
    "    \n",
    "    # Generate a forecast of next day return using our fitted model\n",
    "    out = res.forecast(horizon=1, start=None, align='origin')\n",
    "    \n",
    "    #Set trading signal equal to the sign of forecast return\n",
    "    # Buy if we expect positive returns, sell if negative\n",
    "      \n",
    "    signal.iloc[d] = np.sign(out.mean['h.1'].iloc[-1])\n",
    "\n",
    "signal=pd.DataFrame(signal)    \n",
    "returns = pd.DataFrame(index = signal.index, \n",
    "                       columns=['Buy and Hold', 'Strategy'])\n",
    "returns['Buy and Hold'] = ret[-foreLength:]\n",
    "returns['Strategy'] = signal['Close'] * returns['Buy and Hold']\n",
    "eqCurves = pd.DataFrame(index = signal.index, \n",
    "                       columns=['Buy and Hold', 'Strategy'])\n",
    "eqCurves['Buy and Hold']=returns['Buy and Hold'].cumsum()+1\n",
    "eqCurves['Strategy'] = returns['Strategy'].cumsum()+1\n",
    "    \n",
    "print(eqCurves)\n"
   ]
  },
  {
   "cell_type": "code",
   "execution_count": null,
   "metadata": {},
   "outputs": [],
   "source": [
    "returns = pd.DataFrame(index = signal.index, \n",
    "                       columns=['Buy and Hold', 'Strategy'])\n",
    "returns['Buy and Hold'] = lrets[-foreLength:]\n",
    "returns['Strategy'] = signal['SPX']*returns['Buy and Hold']\n",
    "eqCurves = pd.DataFrame(index = signal.index, \n",
    "                       columns=['Buy and Hold', 'Strategy'])\n",
    "eqCurves['Buy and Hold']=returns['Buy and Hold'].cumsum()+1\n",
    "eqCurves['Strategy'] = returns['Strategy'].cumsum()+1\n",
    "eqCurves['Strategy'].plot(figsize=(10,8))\n",
    "eqCurves['Buy and Hold'].plot()\n",
    "plt.legend()\n",
    "plt.show()"
   ]
  },
  {
   "cell_type": "markdown",
   "metadata": {},
   "source": [
    "#### References\n",
    "\n",
    "1. Angrist, J. D., & Lavy, V. (1999). Using Maimonides' rule to estimate the effect of class size on scholastic achievement. The Quarterly Journal of Economics, 114(2), 533-575.\n",
    "2. Cochrane, John H. \"Time series for macroeconomics and finance.\" Manuscript, University of Chicago (2005).\n",
    "3. http://www.seanabu.com/2016/03/22/time-series-seasonal-ARIMA-model-in-python/\n",
    "4. Hamilton, James Douglas. Time Series Analysis. Vol. 2. Princeton: Princeton university press, 1994.\n",
    "5. Tsay, Ruey S. Analysis of financial time series. Vol. 543. John Wiley & Sons, 2005.\n",
    "6. Campbell, John Y., Andrew Wen-Chuan Lo, and Archie Craig MacKinlay. The Econometrics of Financial Markets. Vol. 2. Princeton, NJ: princeton University press, 1997.\n",
    "7. https://www.quantstart.com/\n",
    "8. Engle, Robert. \"GARCH 101: The use of ARCH/GARCH models in applied econometrics.\" Journal of Economic Perspectives 15, no. 4 (2001): 157-168."
   ]
  },
  {
   "cell_type": "code",
   "execution_count": null,
   "metadata": {},
   "outputs": [],
   "source": []
  }
 ],
 "metadata": {
  "kernelspec": {
   "display_name": "Python 3",
   "language": "python",
   "name": "python3"
  },
  "language_info": {
   "codemirror_mode": {
    "name": "ipython",
    "version": 3
   },
   "file_extension": ".py",
   "mimetype": "text/x-python",
   "name": "python",
   "nbconvert_exporter": "python",
   "pygments_lexer": "ipython3",
   "version": "3.6.7"
  }
 },
 "nbformat": 4,
 "nbformat_minor": 2
}
